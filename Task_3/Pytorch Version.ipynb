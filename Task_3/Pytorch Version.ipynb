{
 "cells": [
  {
   "cell_type": "code",
   "execution_count": 1,
   "metadata": {
    "ExecuteTime": {
     "end_time": "2021-05-12T12:42:28.538575Z",
     "start_time": "2021-05-12T12:42:24.379347Z"
    }
   },
   "outputs": [],
   "source": [
    "import numpy as np\n",
    "import pandas as pd\n",
    "import torch\n",
    "\n",
    "from sklearn.model_selection import KFold\n",
    "\n",
    "from sklearn.neural_network import MLPClassifier\n",
    "\n",
    "from sklearn.model_selection import cross_val_score\n",
    "from sklearn.metrics import make_scorer, f1_score\n",
    "from sklearn.preprocessing import OneHotEncoder\n",
    "\n",
    "from itertools import permutations "
   ]
  },
  {
   "cell_type": "code",
   "execution_count": 2,
   "metadata": {
    "ExecuteTime": {
     "end_time": "2021-05-12T12:42:29.255298Z",
     "start_time": "2021-05-12T12:42:28.563577Z"
    }
   },
   "outputs": [],
   "source": [
    "test_data = pd.read_csv('test.csv') #These are just features names (48000)\n",
    "train_data = pd.read_csv('train.csv') #Says if something is active or not (112000)\n",
    "\n",
    "num_train_data = len(train_data)"
   ]
  },
  {
   "cell_type": "code",
   "execution_count": 3,
   "metadata": {
    "ExecuteTime": {
     "end_time": "2021-05-12T12:42:29.906056Z",
     "start_time": "2021-05-12T12:42:29.900057Z"
    }
   },
   "outputs": [],
   "source": [
    "train_feature = np.array(train_data['Sequence'])\n",
    "train_output = np.array(train_data['Active'])\n",
    "test_feature = np.array(test_data['Sequence'])\n",
    "\n",
    "train_feature_splitted = []\n",
    "test_feature_splitted = []"
   ]
  },
  {
   "cell_type": "code",
   "execution_count": 4,
   "metadata": {
    "ExecuteTime": {
     "end_time": "2021-05-12T12:42:31.243348Z",
     "start_time": "2021-05-12T12:42:30.589348Z"
    }
   },
   "outputs": [],
   "source": [
    "for i, feature in enumerate(train_feature):\n",
    "    train_feature_splitted.append([])\n",
    "    for j, s in enumerate(list(feature)):\n",
    "        train_feature_splitted[i].append(ord(s)*(j+1))\n",
    "\n",
    "train_feature_splitted = np.array(train_feature_splitted)\n",
    "\n",
    "for i, feature in enumerate(test_feature):\n",
    "    test_feature_splitted.append([])\n",
    "    for j, s in enumerate(list(feature)):\n",
    "        test_feature_splitted[i].append(ord(s)*(j+1))\n",
    "\n",
    "test_feature_splitted = np.array(test_feature_splitted)"
   ]
  },
  {
   "cell_type": "code",
   "execution_count": 5,
   "metadata": {
    "ExecuteTime": {
     "end_time": "2021-05-12T12:42:31.400347Z",
     "start_time": "2021-05-12T12:42:31.300349Z"
    }
   },
   "outputs": [],
   "source": [
    "for i, j in permutations([0,1,2,3], 2):\n",
    "    train_feature_mult = np.array([(train_feature_splitted[:,i]+2000)*train_feature_splitted[:,j]]).T\n",
    "    train_feature_mult = train_feature_mult/np.max(train_feature_mult)\n",
    "    train_feature_splitted = np.concatenate((train_feature_splitted, train_feature_mult), axis=1)\n",
    "    \n",
    "for i, j in permutations([0,1,2,3], 2):\n",
    "    test_feature_mult = np.array([(test_feature_splitted[:,i]+2000)*test_feature_splitted[:,j]]).T\n",
    "    test_feature_mult = test_feature_mult/np.max(test_feature_mult)\n",
    "    test_feature_splitted = np.concatenate((test_feature_splitted, test_feature_mult), axis=1)"
   ]
  },
  {
   "cell_type": "code",
   "execution_count": 6,
   "metadata": {
    "ExecuteTime": {
     "end_time": "2021-05-12T13:02:23.865666Z",
     "start_time": "2021-05-12T13:02:22.317676Z"
    }
   },
   "outputs": [
    {
     "name": "stdout",
     "output_type": "stream",
     "text": [
      "(112000, 4865)\n",
      "(48000, 4865)\n"
     ]
    }
   ],
   "source": [
    "train_feature_splitted = np.array(train_feature_splitted, dtype=float)\n",
    "test_feature_splitted = np.array(test_feature_splitted, dtype=float)\n",
    "\n",
    "ohe = OneHotEncoder(handle_unknown='ignore',sparse =False)\n",
    "\n",
    "train_feature_ohe = ohe.fit_transform(train_feature_splitted)\n",
    "test_feature_ohe = ohe.transform(test_feature_splitted)\n",
    "\n",
    "print(np.shape(train_feature_ohe))\n",
    "print(np.shape(test_feature_ohe))"
   ]
  },
  {
   "cell_type": "code",
   "execution_count": null,
   "metadata": {},
   "outputs": [],
   "source": []
  }
 ],
 "metadata": {
  "hide_input": false,
  "kernelspec": {
   "display_name": "Python 3",
   "language": "python",
   "name": "python3"
  },
  "language_info": {
   "codemirror_mode": {
    "name": "ipython",
    "version": 3
   },
   "file_extension": ".py",
   "mimetype": "text/x-python",
   "name": "python",
   "nbconvert_exporter": "python",
   "pygments_lexer": "ipython3",
   "version": "3.7.10"
  },
  "latex_envs": {
   "LaTeX_envs_menu_present": true,
   "autoclose": false,
   "autocomplete": true,
   "bibliofile": "biblio.bib",
   "cite_by": "apalike",
   "current_citInitial": 1,
   "eqLabelWithNumbers": true,
   "eqNumInitial": 1,
   "hotkeys": {
    "equation": "Ctrl-E",
    "itemize": "Ctrl-I"
   },
   "labels_anchors": false,
   "latex_user_defs": false,
   "report_style_numbering": false,
   "user_envs_cfg": false
  },
  "varInspector": {
   "cols": {
    "lenName": 16,
    "lenType": 16,
    "lenVar": 40
   },
   "kernels_config": {
    "python": {
     "delete_cmd_postfix": "",
     "delete_cmd_prefix": "del ",
     "library": "var_list.py",
     "varRefreshCmd": "print(var_dic_list())"
    },
    "r": {
     "delete_cmd_postfix": ") ",
     "delete_cmd_prefix": "rm(",
     "library": "var_list.r",
     "varRefreshCmd": "cat(var_dic_list()) "
    }
   },
   "types_to_exclude": [
    "module",
    "function",
    "builtin_function_or_method",
    "instance",
    "_Feature"
   ],
   "window_display": false
  }
 },
 "nbformat": 4,
 "nbformat_minor": 4
}
