{
 "cells": [
  {
   "cell_type": "markdown",
   "id": "0c6badad",
   "metadata": {},
   "source": [
    "# Task 3"
   ]
  },
  {
   "cell_type": "code",
   "execution_count": 1,
   "id": "90b84e91",
   "metadata": {},
   "outputs": [],
   "source": [
    "import numpy as np\n",
    "import pandas as pd\n",
    "\n",
    "from sklearn.model_selection import KFold\n",
    "\n",
    "from sklearn.decomposition import TruncatedSVD\n",
    "from sklearn.neighbors import KNeighborsClassifier\n",
    "from sklearn.neighbors import RadiusNeighborsClassifier\n",
    "from sklearn.tree import DecisionTreeClassifier\n",
    "from sklearn.ensemble import RandomForestClassifier\n",
    "\n",
    "from sklearn.linear_model import RidgeClassifier\n",
    "\n",
    "from sklearn.model_selection import cross_val_score\n",
    "from sklearn.metrics import make_scorer, f1_score\n",
    "from sklearn.preprocessing import OneHotEncoder\n",
    "\n",
    "from itertools import permutations "
   ]
  },
  {
   "cell_type": "code",
   "execution_count": 2,
   "id": "c6a99465",
   "metadata": {},
   "outputs": [],
   "source": [
    "test_data = pd.read_csv('test.csv') #These are just features names (48000)\n",
    "train_data = pd.read_csv('train.csv') #Says if something is active or not (112000)\n",
    "\n",
    "num_train_data = len(train_data)"
   ]
  },
  {
   "cell_type": "code",
   "execution_count": 3,
   "id": "concerned-attachment",
   "metadata": {},
   "outputs": [],
   "source": [
    "train_feature = np.array(train_data['Sequence'])\n",
    "train_output = np.array(train_data['Active'])\n",
    "train_feature_splitted = []"
   ]
  },
  {
   "cell_type": "code",
   "execution_count": 4,
   "id": "inappropriate-anderson",
   "metadata": {},
   "outputs": [],
   "source": [
    "for i, feature in enumerate(train_feature):\n",
    "    train_feature_splitted.append([])\n",
    "    for j, s in enumerate(list(feature)):\n",
    "        train_feature_splitted[i].append(ord(s)*(j+1))\n",
    "\n",
    "train_feature_splitted = np.array(train_feature_splitted)\n",
    "train_feature_transform = np.copy(train_feature_splitted)"
   ]
  },
  {
   "cell_type": "code",
   "execution_count": 5,
   "id": "quality-fashion",
   "metadata": {},
   "outputs": [],
   "source": [
    "unique_feature = []\n",
    "for j in range(4):\n",
    "    unique_feature.append(np.unique(train_feature_splitted[:,j]))\n",
    "    \n",
    "unique_feature = np.array(unique_feature)\n",
    "\n",
    "idx_list = []\n",
    "\n",
    "for j in range(4):\n",
    "    for i in range(20):\n",
    "        idx_list.append(np.sum(train_output[train_feature_splitted[:,j]==unique_feature[j][i]]))\n",
    "        \n",
    "idx_list = np.array(idx_list)\n",
    "\n",
    "sorted_idx = np.argsort(idx_list.flatten())\n",
    "sorted_feature = unique_feature.flatten()[sorted_idx]\n",
    "\n",
    "train_feature_sorted = np.zeros_like(train_feature_splitted)\n",
    "\n",
    "for i, feature in enumerate(train_feature):\n",
    "    for j, s in enumerate(list(feature)):\n",
    "        train_feature_sorted[i,j] = sorted_feature[np.argwhere(unique_feature.flatten()==train_feature_splitted[i,j])]\n",
    "        \n",
    "train_feature_sorted = np.array(train_feature_sorted, dtype=float)"
   ]
  },
  {
   "cell_type": "code",
   "execution_count": 6,
   "id": "noted-climb",
   "metadata": {},
   "outputs": [],
   "source": [
    "for i, j in permutations([0,1,2,3], 2):\n",
    "    train_feature_mult = np.array([(train_feature_sorted[:,i]+1000)*train_feature_sorted[:,j]]).T\n",
    "    train_feature_mult = train_feature_mult/np.max(train_feature_mult)\n",
    "    train_feature_transform = np.concatenate((train_feature_transform, train_feature_mult), axis=1)"
   ]
  },
  {
   "cell_type": "code",
   "execution_count": 7,
   "id": "interim-uniform",
   "metadata": {},
   "outputs": [],
   "source": [
    "# for i, j, k in permutations([0,1,2,3], 3):\n",
    "#     train_feature_mult = np.array([(train_feature_sorted[:,i]+1000)*\n",
    "#                                    (train_feature_sorted[:,j]+300)*\n",
    "#                                    train_feature_sorted[:,k]]).T\n",
    "#     train_feature_mult = train_feature_mult/np.max(train_feature_mult)\n",
    "#     train_feature_transform = np.concatenate((train_feature_transform, train_feature_mult), axis=1)"
   ]
  },
  {
   "cell_type": "code",
   "execution_count": 8,
   "id": "worst-portal",
   "metadata": {},
   "outputs": [
    {
     "data": {
      "text/plain": [
       "(112000, 16)"
      ]
     },
     "execution_count": 8,
     "metadata": {},
     "output_type": "execute_result"
    }
   ],
   "source": [
    "np.shape(train_feature_transform)"
   ]
  },
  {
   "cell_type": "code",
   "execution_count": 9,
   "id": "valuable-given",
   "metadata": {},
   "outputs": [
    {
     "name": "stdout",
     "output_type": "stream",
     "text": [
      "(112000, 4848)\n"
     ]
    }
   ],
   "source": [
    "train_feature_splitted = np.array(train_feature_transform, dtype=float)\n",
    "\n",
    "ohe = OneHotEncoder(handle_unknown='ignore')\n",
    "\n",
    "train_feature_ohe = ohe.fit_transform(train_feature_splitted)\n",
    "\n",
    "print(np.shape(train_feature_ohe))"
   ]
  },
  {
   "cell_type": "code",
   "execution_count": 10,
   "id": "rough-acrylic",
   "metadata": {},
   "outputs": [],
   "source": [
    "# tsvd = TruncatedSVD(n_components=16, algorithm='arpack', random_state=None)\n",
    "# train_feature_ohe_tsvd = tsvd.fit_transform(train_feature_ohe)"
   ]
  },
  {
   "cell_type": "code",
   "execution_count": 11,
   "id": "auburn-cholesterol",
   "metadata": {},
   "outputs": [],
   "source": [
    "score_func = make_scorer(f1_score)"
   ]
  },
  {
   "cell_type": "code",
   "execution_count": 12,
   "id": "reduced-characterization",
   "metadata": {},
   "outputs": [
    {
     "name": "stdout",
     "output_type": "stream",
     "text": [
      "[0.55038303 0.52637749 0.52513966 0.54577259 0.53068182]\n",
      "CPU times: user 4.93 s, sys: 127 ms, total: 5.06 s\n",
      "Wall time: 7.32 s\n"
     ]
    }
   ],
   "source": [
    "%%time\n",
    "model = KNeighborsClassifier(n_neighbors=1, n_jobs=6)\n",
    "scores = cross_val_score(model, train_feature_transform, train_output, cv=5, scoring=score_func)\n",
    "\n",
    "print(scores)"
   ]
  },
  {
   "cell_type": "code",
   "execution_count": 13,
   "id": "distant-mattress",
   "metadata": {},
   "outputs": [
    {
     "name": "stdout",
     "output_type": "stream",
     "text": [
      "[0.79368536 0.80474649 0.78478261 0.78828082 0.78690284]\n",
      "CPU times: user 9.23 s, sys: 31.8 ms, total: 9.26 s\n",
      "Wall time: 9.26 s\n"
     ]
    }
   ],
   "source": [
    "%%time\n",
    "model = DecisionTreeClassifier(criterion='entropy', random_state=None, class_weight='balanced')\n",
    "scores = cross_val_score(model, train_feature_ohe, train_output, cv=5, scoring=score_func)\n",
    "\n",
    "print(scores)"
   ]
  },
  {
   "cell_type": "code",
   "execution_count": 14,
   "id": "sublime-clothing",
   "metadata": {},
   "outputs": [
    {
     "name": "stdout",
     "output_type": "stream",
     "text": [
      "[0.72881356 0.73563218 0.71698113 0.76093469 0.75816993]\n",
      "CPU times: user 3.4 s, sys: 11.9 ms, total: 3.41 s\n",
      "Wall time: 3.43 s\n"
     ]
    }
   ],
   "source": [
    "%%time\n",
    "model = DecisionTreeClassifier(criterion='entropy', random_state=None, class_weight='balanced')\n",
    "scores = cross_val_score(model, train_feature_transform, train_output, cv=5, scoring=score_func)\n",
    "\n",
    "print(scores)"
   ]
  },
  {
   "cell_type": "code",
   "execution_count": 15,
   "id": "virgin-compiler",
   "metadata": {},
   "outputs": [
    {
     "name": "stdout",
     "output_type": "stream",
     "text": [
      "[0.75771504 0.75862069 0.74484536 0.77204442 0.7562701 ]\n",
      "CPU times: user 933 ms, sys: 91.7 ms, total: 1.03 s\n",
      "Wall time: 3.48 s\n"
     ]
    }
   ],
   "source": [
    "%%time\n",
    "model = RandomForestClassifier(n_estimators=10, criterion='entropy', n_jobs=6)\n",
    "scores = cross_val_score(model, train_feature_transform, train_output, cv=5, scoring=score_func)\n",
    "\n",
    "print(scores)"
   ]
  },
  {
   "cell_type": "code",
   "execution_count": null,
   "id": "blind-button",
   "metadata": {},
   "outputs": [],
   "source": [
    "%%time\n",
    "model = RandomForestClassifier(n_estimators=10, criterion='entropy', n_jobs=6, class_weight='balanced')\n",
    "scores = cross_val_score(model, train_feature_ohe, train_output, cv=5, scoring=score_func)\n",
    "\n",
    "print(scores)"
   ]
  },
  {
   "cell_type": "code",
   "execution_count": null,
   "id": "final-script",
   "metadata": {},
   "outputs": [],
   "source": [
    "kf = KFold(n_splits=5, shuffle=False, random_state=None)\n",
    "model = DecisionTreeClassifier(criterion='entropy', random_state=None, class_weight='balanced')\n",
    "model2 = KNeighborsClassifier(n_neighbors=1, n_jobs=6)\n",
    "#model = DecisionTreeRegressor(random_state=None)\n",
    "#model = AdaBoostClassifier(n_estimators=10)\n",
    "\n",
    "for train_idx, test_idx in kf.split(train_feature_splitted):\n",
    "    \n",
    "    model.fit(train_feature_ohe[train_idx], train_output[train_idx])\n",
    "    model2.fit(train_feature_transform[train_idx], train_output[train_idx])\n",
    "    \n",
    "    prediction = model.predict(train_feature_ohe[test_idx])\n",
    "    prediction2 = model2.predict(train_feature_transform[test_idx])\n",
    "    print(f1_score(train_output[test_idx], np.logical_or(prediction, prediction2)))"
   ]
  },
  {
   "cell_type": "code",
   "execution_count": null,
   "id": "joint-balance",
   "metadata": {},
   "outputs": [],
   "source": []
  }
 ],
 "metadata": {
  "kernelspec": {
   "display_name": "Python 3",
   "language": "python",
   "name": "python3"
  },
  "language_info": {
   "codemirror_mode": {
    "name": "ipython",
    "version": 3
   },
   "file_extension": ".py",
   "mimetype": "text/x-python",
   "name": "python",
   "nbconvert_exporter": "python",
   "pygments_lexer": "ipython3",
   "version": "3.7.10"
  },
  "latex_envs": {
   "LaTeX_envs_menu_present": true,
   "autoclose": false,
   "autocomplete": true,
   "bibliofile": "biblio.bib",
   "cite_by": "apalike",
   "current_citInitial": 1,
   "eqLabelWithNumbers": true,
   "eqNumInitial": 1,
   "hotkeys": {
    "equation": "Ctrl-E",
    "itemize": "Ctrl-I"
   },
   "labels_anchors": false,
   "latex_user_defs": false,
   "report_style_numbering": false,
   "user_envs_cfg": false
  },
  "toc": {
   "base_numbering": 1,
   "nav_menu": {},
   "number_sections": true,
   "sideBar": true,
   "skip_h1_title": false,
   "title_cell": "Table of Contents",
   "title_sidebar": "Contents",
   "toc_cell": false,
   "toc_position": {},
   "toc_section_display": true,
   "toc_window_display": false
  },
  "varInspector": {
   "cols": {
    "lenName": 16,
    "lenType": 16,
    "lenVar": 40
   },
   "kernels_config": {
    "python": {
     "delete_cmd_postfix": "",
     "delete_cmd_prefix": "del ",
     "library": "var_list.py",
     "varRefreshCmd": "print(var_dic_list())"
    },
    "r": {
     "delete_cmd_postfix": ") ",
     "delete_cmd_prefix": "rm(",
     "library": "var_list.r",
     "varRefreshCmd": "cat(var_dic_list()) "
    }
   },
   "types_to_exclude": [
    "module",
    "function",
    "builtin_function_or_method",
    "instance",
    "_Feature"
   ],
   "window_display": false
  }
 },
 "nbformat": 4,
 "nbformat_minor": 5
}
