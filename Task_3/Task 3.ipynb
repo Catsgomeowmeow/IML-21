{
 "cells": [
  {
   "cell_type": "markdown",
   "id": "0c6badad",
   "metadata": {},
   "source": [
    "# Task 3"
   ]
  },
  {
   "cell_type": "code",
   "execution_count": 1,
   "id": "90b84e91",
   "metadata": {},
   "outputs": [],
   "source": [
    "import numpy as np\n",
    "import pandas as pd\n",
    "\n",
    "#from sklearn.linear_model import Ridge\n",
    "from sklearn.neighbors import KNeighborsClassifier\n",
    "from sklearn.tree import DecisionTreeClassifier\n",
    "from sklearn.ensemble import RandomForestClassifier\n",
    "\n",
    "from sklearn.model_selection import cross_val_score\n",
    "from sklearn.metrics import make_scorer, f1_score\n",
    "from sklearn.preprocessing import OneHotEncoder"
   ]
  },
  {
   "cell_type": "code",
   "execution_count": 2,
   "id": "c6a99465",
   "metadata": {},
   "outputs": [],
   "source": [
    "test_data = pd.read_csv('test.csv') #These are just features names (48000)\n",
    "train_data = pd.read_csv('train.csv') #Says if something is active or not (112000)\n",
    "\n",
    "num_train_data = len(train_data)"
   ]
  },
  {
   "cell_type": "code",
   "execution_count": 3,
   "id": "concerned-attachment",
   "metadata": {},
   "outputs": [],
   "source": [
    "train_feature = np.array(train_data['Sequence'])\n",
    "train_output = np.array(train_data['Active'])\n",
    "train_feature_splitted = []"
   ]
  },
  {
   "cell_type": "code",
   "execution_count": 4,
   "id": "inappropriate-anderson",
   "metadata": {},
   "outputs": [],
   "source": [
    "for i, feature in enumerate(train_feature):\n",
    "    train_feature_splitted.append([])\n",
    "    for s in list(feature):\n",
    "        train_feature_splitted[i].append(ord(s))\n",
    "        \n",
    "train_feature_splitted = np.array(train_feature_splitted)"
   ]
  },
  {
   "cell_type": "code",
   "execution_count": 5,
   "id": "auburn-cholesterol",
   "metadata": {},
   "outputs": [],
   "source": [
    "score_func = make_scorer(f1_score)"
   ]
  },
  {
   "cell_type": "code",
   "execution_count": 6,
   "id": "b925eda4",
   "metadata": {},
   "outputs": [
    {
     "name": "stdout",
     "output_type": "stream",
     "text": [
      "[0.29186155 0.27677725 0.30698529 0.30882353 0.32618826]\n",
      "CPU times: user 4.79 s, sys: 26.1 ms, total: 4.81 s\n",
      "Wall time: 4.81 s\n"
     ]
    }
   ],
   "source": [
    "%%time\n",
    "model = KNeighborsClassifier(n_neighbors=5)\n",
    "scores = cross_val_score(model, train_feature_splitted, train_output, cv=5, scoring=score_func)\n",
    "\n",
    "print(scores)"
   ]
  },
  {
   "cell_type": "code",
   "execution_count": 7,
   "id": "distant-mattress",
   "metadata": {},
   "outputs": [
    {
     "name": "stdout",
     "output_type": "stream",
     "text": [
      "[0.75285628 0.74685817 0.75660161 0.75656325 0.74069699]\n",
      "CPU times: user 557 ms, sys: 23.9 ms, total: 581 ms\n",
      "Wall time: 580 ms\n"
     ]
    }
   ],
   "source": [
    "%%time\n",
    "model = DecisionTreeClassifier(criterion='entropy')\n",
    "scores = cross_val_score(model, train_feature_splitted, train_output, cv=5, scoring=score_func)\n",
    "\n",
    "print(scores)"
   ]
  },
  {
   "cell_type": "code",
   "execution_count": 8,
   "id": "virgin-compiler",
   "metadata": {},
   "outputs": [
    {
     "name": "stdout",
     "output_type": "stream",
     "text": [
      "[0.74544312 0.71761658 0.73716759 0.73718365 0.73363001]\n",
      "CPU times: user 23.8 s, sys: 103 ms, total: 23.9 s\n",
      "Wall time: 23.9 s\n"
     ]
    }
   ],
   "source": [
    "%%time\n",
    "model = RandomForestClassifier(criterion='entropy')\n",
    "scores = cross_val_score(model, train_feature_splitted, train_output, cv=5, scoring=score_func)\n",
    "\n",
    "print(scores)"
   ]
  },
  {
   "cell_type": "code",
   "execution_count": null,
   "id": "external-installation",
   "metadata": {},
   "outputs": [],
   "source": []
  }
 ],
 "metadata": {
  "kernelspec": {
   "display_name": "Python 3",
   "language": "python",
   "name": "python3"
  },
  "language_info": {
   "codemirror_mode": {
    "name": "ipython",
    "version": 3
   },
   "file_extension": ".py",
   "mimetype": "text/x-python",
   "name": "python",
   "nbconvert_exporter": "python",
   "pygments_lexer": "ipython3",
   "version": "3.7.10"
  },
  "latex_envs": {
   "LaTeX_envs_menu_present": true,
   "autoclose": false,
   "autocomplete": true,
   "bibliofile": "biblio.bib",
   "cite_by": "apalike",
   "current_citInitial": 1,
   "eqLabelWithNumbers": true,
   "eqNumInitial": 1,
   "hotkeys": {
    "equation": "Ctrl-E",
    "itemize": "Ctrl-I"
   },
   "labels_anchors": false,
   "latex_user_defs": false,
   "report_style_numbering": false,
   "user_envs_cfg": false
  },
  "toc": {
   "base_numbering": 1,
   "nav_menu": {},
   "number_sections": true,
   "sideBar": true,
   "skip_h1_title": false,
   "title_cell": "Table of Contents",
   "title_sidebar": "Contents",
   "toc_cell": false,
   "toc_position": {},
   "toc_section_display": true,
   "toc_window_display": false
  },
  "varInspector": {
   "cols": {
    "lenName": 16,
    "lenType": 16,
    "lenVar": 40
   },
   "kernels_config": {
    "python": {
     "delete_cmd_postfix": "",
     "delete_cmd_prefix": "del ",
     "library": "var_list.py",
     "varRefreshCmd": "print(var_dic_list())"
    },
    "r": {
     "delete_cmd_postfix": ") ",
     "delete_cmd_prefix": "rm(",
     "library": "var_list.r",
     "varRefreshCmd": "cat(var_dic_list()) "
    }
   },
   "types_to_exclude": [
    "module",
    "function",
    "builtin_function_or_method",
    "instance",
    "_Feature"
   ],
   "window_display": false
  }
 },
 "nbformat": 4,
 "nbformat_minor": 5
}
