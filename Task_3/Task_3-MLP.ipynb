{
 "cells": [
  {
   "cell_type": "markdown",
   "id": "0c6badad",
   "metadata": {},
   "source": [
    "# Task 3"
   ]
  },
  {
   "cell_type": "code",
   "execution_count": 1,
   "id": "90b84e91",
   "metadata": {},
   "outputs": [],
   "source": [
    "import numpy as np\n",
    "import pandas as pd\n",
    "\n",
    "from sklearn.model_selection import KFold\n",
    "\n",
    "from sklearn.neural_network import MLPClassifier\n",
    "\n",
    "from sklearn.model_selection import cross_val_score\n",
    "from sklearn.metrics import make_scorer, f1_score\n",
    "from sklearn.preprocessing import OneHotEncoder\n",
    "\n",
    "from itertools import permutations "
   ]
  },
  {
   "cell_type": "code",
   "execution_count": 2,
   "id": "c6a99465",
   "metadata": {},
   "outputs": [],
   "source": [
    "test_data = pd.read_csv('test.csv') #These are just features names (48000)\n",
    "train_data = pd.read_csv('train.csv') #Says if something is active or not (112000)\n",
    "\n",
    "num_train_data = len(train_data)"
   ]
  },
  {
   "cell_type": "code",
   "execution_count": 3,
   "id": "concerned-attachment",
   "metadata": {},
   "outputs": [],
   "source": [
    "train_feature = np.array(train_data['Sequence'])\n",
    "train_output = np.array(train_data['Active'])\n",
    "test_feature = np.array(test_data['Sequence'])\n",
    "\n",
    "train_feature_splitted = []\n",
    "test_feature_splitted = []"
   ]
  },
  {
   "cell_type": "code",
   "execution_count": 4,
   "id": "inappropriate-anderson",
   "metadata": {},
   "outputs": [],
   "source": [
    "for i, feature in enumerate(train_feature):\n",
    "    train_feature_splitted.append([])\n",
    "    for j, s in enumerate(list(feature)):\n",
    "        train_feature_splitted[i].append(ord(s)*(j+1))\n",
    "\n",
    "train_feature_splitted = np.array(train_feature_splitted)\n",
    "\n",
    "for i, feature in enumerate(test_feature):\n",
    "    test_feature_splitted.append([])\n",
    "    for j, s in enumerate(list(feature)):\n",
    "        test_feature_splitted[i].append(ord(s)*(j+1))\n",
    "\n",
    "test_feature_splitted = np.array(test_feature_splitted)"
   ]
  },
  {
   "cell_type": "code",
   "execution_count": 5,
   "id": "academic-shopping",
   "metadata": {},
   "outputs": [],
   "source": [
    "for i, j in permutations([0,1,2,3], 2):\n",
    "    train_feature_mult = np.array([(train_feature_splitted[:,i]+2000)*train_feature_splitted[:,j]]).T\n",
    "    train_feature_mult = train_feature_mult/np.max(train_feature_mult)\n",
    "    train_feature_splitted = np.concatenate((train_feature_splitted, train_feature_mult), axis=1)\n",
    "    \n",
    "for i, j in permutations([0,1,2,3], 2):\n",
    "    test_feature_mult = np.array([(test_feature_splitted[:,i]+2000)*test_feature_splitted[:,j]]).T\n",
    "    test_feature_mult = test_feature_mult/np.max(test_feature_mult)\n",
    "    test_feature_splitted = np.concatenate((test_feature_splitted, test_feature_mult), axis=1)"
   ]
  },
  {
   "cell_type": "code",
   "execution_count": 6,
   "id": "previous-catholic",
   "metadata": {},
   "outputs": [
    {
     "name": "stdout",
     "output_type": "stream",
     "text": [
      "(112000, 4865)\n",
      "(48000, 4865)\n"
     ]
    }
   ],
   "source": [
    "train_feature_splitted = np.array(train_feature_splitted, dtype=float)\n",
    "test_feature_splitted = np.array(test_feature_splitted, dtype=float)\n",
    "\n",
    "ohe = OneHotEncoder(handle_unknown='ignore')\n",
    "\n",
    "train_feature_ohe = ohe.fit_transform(train_feature_splitted)\n",
    "test_feature_ohe = ohe.transform(test_feature_splitted)\n",
    "\n",
    "print(np.shape(train_feature_ohe))\n",
    "print(np.shape(test_feature_ohe))"
   ]
  },
  {
   "cell_type": "code",
   "execution_count": 7,
   "id": "auburn-cholesterol",
   "metadata": {},
   "outputs": [],
   "source": [
    "score_func = make_scorer(f1_score)"
   ]
  },
  {
   "cell_type": "code",
   "execution_count": 9,
   "id": "ethical-colors",
   "metadata": {},
   "outputs": [
    {
     "name": "stdout",
     "output_type": "stream",
     "text": [
      "0.8643880926130099\n",
      "0.8591499824376537\n",
      "0.8667621776504298\n",
      "CPU times: user 34.3 s, sys: 53.5 s, total: 1min 27s\n",
      "Wall time: 13.5 s\n"
     ]
    }
   ],
   "source": [
    "%%time\n",
    "kf = KFold(n_splits=3, shuffle=False, random_state=None)\n",
    "model = MLPClassifier(hidden_layer_sizes=8, activation='tanh'\n",
    "                      , solver='lbfgs', max_iter=2000, tol=1e-4, alpha=1e-1)\n",
    "\n",
    "for train_idx, test_idx in kf.split(train_feature_splitted):\n",
    "    \n",
    "    model.fit(train_feature_ohe[train_idx], train_output[train_idx])\n",
    "    \n",
    "    prediction = model.predict(train_feature_ohe[test_idx])\n",
    "    \n",
    "    print(f1_score(train_output[test_idx], prediction))"
   ]
  },
  {
   "cell_type": "code",
   "execution_count": null,
   "id": "individual-walnut",
   "metadata": {},
   "outputs": [],
   "source": [
    "# Train whole data\n",
    "model.fit(train_feature_ohe, train_output)"
   ]
  },
  {
   "cell_type": "code",
   "execution_count": 16,
   "id": "instructional-roommate",
   "metadata": {},
   "outputs": [
    {
     "name": "stdout",
     "output_type": "stream",
     "text": [
      "(48000,)\n"
     ]
    }
   ],
   "source": [
    "# Make prediction\n",
    "prediction = model.predict(test_feature_ohe)"
   ]
  },
  {
   "cell_type": "code",
   "execution_count": 26,
   "id": "recreational-gates",
   "metadata": {},
   "outputs": [],
   "source": [
    "pd.DataFrame(prediction.T).to_csv('prediction.csv', index=False, header=None)"
   ]
  },
  {
   "cell_type": "code",
   "execution_count": 27,
   "id": "suburban-annex",
   "metadata": {},
   "outputs": [],
   "source": [
    "pred_data = pd.read_csv('prediction.csv', header=None)"
   ]
  },
  {
   "cell_type": "code",
   "execution_count": null,
   "id": "spoken-vision",
   "metadata": {},
   "outputs": [],
   "source": []
  }
 ],
 "metadata": {
  "kernelspec": {
   "display_name": "Python 3",
   "language": "python",
   "name": "python3"
  },
  "language_info": {
   "codemirror_mode": {
    "name": "ipython",
    "version": 3
   },
   "file_extension": ".py",
   "mimetype": "text/x-python",
   "name": "python",
   "nbconvert_exporter": "python",
   "pygments_lexer": "ipython3",
   "version": "3.7.10"
  },
  "latex_envs": {
   "LaTeX_envs_menu_present": true,
   "autoclose": false,
   "autocomplete": true,
   "bibliofile": "biblio.bib",
   "cite_by": "apalike",
   "current_citInitial": 1,
   "eqLabelWithNumbers": true,
   "eqNumInitial": 1,
   "hotkeys": {
    "equation": "Ctrl-E",
    "itemize": "Ctrl-I"
   },
   "labels_anchors": false,
   "latex_user_defs": false,
   "report_style_numbering": false,
   "user_envs_cfg": false
  },
  "toc": {
   "base_numbering": 1,
   "nav_menu": {},
   "number_sections": true,
   "sideBar": true,
   "skip_h1_title": false,
   "title_cell": "Table of Contents",
   "title_sidebar": "Contents",
   "toc_cell": false,
   "toc_position": {},
   "toc_section_display": true,
   "toc_window_display": false
  },
  "varInspector": {
   "cols": {
    "lenName": 16,
    "lenType": 16,
    "lenVar": 40
   },
   "kernels_config": {
    "python": {
     "delete_cmd_postfix": "",
     "delete_cmd_prefix": "del ",
     "library": "var_list.py",
     "varRefreshCmd": "print(var_dic_list())"
    },
    "r": {
     "delete_cmd_postfix": ") ",
     "delete_cmd_prefix": "rm(",
     "library": "var_list.r",
     "varRefreshCmd": "cat(var_dic_list()) "
    }
   },
   "types_to_exclude": [
    "module",
    "function",
    "builtin_function_or_method",
    "instance",
    "_Feature"
   ],
   "window_display": false
  }
 },
 "nbformat": 4,
 "nbformat_minor": 5
}
