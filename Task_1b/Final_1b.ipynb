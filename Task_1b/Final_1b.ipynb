{
 "cells": [
  {
   "cell_type": "code",
   "execution_count": 1,
   "id": "worthy-arkansas",
   "metadata": {},
   "outputs": [],
   "source": [
    "import pandas, numpy\n",
    "import numpy as np\n",
    "from sklearn.linear_model import LinearRegression, Ridge,SGDClassifier,Lasso, ElasticNet,ElasticNetCV,SGDRegressor\n",
    "from sklearn.metrics import mean_squared_error, make_scorer\n",
    "from sklearn.model_selection import KFold, train_test_split\n",
    "from sklearn.pipeline import make_pipeline\n",
    "from sklearn.preprocessing import StandardScaler\n",
    "\n",
    "import matplotlib.pyplot as plt"
   ]
  },
  {
   "cell_type": "code",
   "execution_count": 2,
   "id": "athletic-investigator",
   "metadata": {},
   "outputs": [],
   "source": [
    "def Transform(X):\n",
    "    \n",
    "    transformed = np.hstack((\n",
    "    X.copy(),#Linear\n",
    "    X.copy()**2,#Quadratic\n",
    "    np.exp(X.copy()),#Exponential\n",
    "    np.cos(X.copy()),#Cosin\n",
    "    np.ones((np.shape(X.copy())[0],1))#Constant\n",
    "    ))\n",
    "    \n",
    "    return transformed"
   ]
  },
  {
   "cell_type": "code",
   "execution_count": 3,
   "id": "prostate-reviewer",
   "metadata": {},
   "outputs": [
    {
     "name": "stdout",
     "output_type": "stream",
     "text": [
      "        Id         y    x1    x2    x3    x4    x5\n",
      "0      0.0 -6.822679  0.02  0.05 -0.09 -0.43 -0.08\n",
      "1      1.0 -6.326290 -0.13  0.11 -0.08 -0.29 -0.03\n",
      "2      2.0 -9.302728  0.08  0.06 -0.07 -0.41 -0.03\n",
      "3      3.0 -7.371893  0.02 -0.12  0.01 -0.43 -0.02\n",
      "4      4.0 -6.027647 -0.14 -0.12 -0.08 -0.02 -0.08\n",
      "..     ...       ...   ...   ...   ...   ...   ...\n",
      "695  695.0 -6.147394  0.31 -0.09  0.04 -0.09  0.03\n",
      "696  696.0 -6.214899 -0.26 -0.01  0.02 -0.40  0.05\n",
      "697  697.0 -6.841341 -0.27 -0.22 -0.01 -0.32 -0.05\n",
      "698  698.0 -6.523371  0.19  0.11 -0.05 -0.27 -0.04\n",
      "699  699.0 -5.676683 -0.09 -0.09 -0.06 -0.41 -0.06\n",
      "\n",
      "[700 rows x 7 columns]\n"
     ]
    }
   ],
   "source": [
    "TrainingData = pandas.read_csv(\"train.csv\", dtype=\"double\")\n",
    "print(TrainingData)"
   ]
  },
  {
   "cell_type": "code",
   "execution_count": 4,
   "id": "lightweight-attitude",
   "metadata": {},
   "outputs": [],
   "source": [
    "train_y = TrainingData['y']\n",
    "train_x = TrainingData.drop(columns=['y','Id'])"
   ]
  },
  {
   "cell_type": "code",
   "execution_count": 5,
   "id": "impressive-treat",
   "metadata": {},
   "outputs": [
    {
     "name": "stdout",
     "output_type": "stream",
     "text": [
      "[ 2.00000000e-02  5.00000000e-02 -9.00000000e-02 -4.30000000e-01\n",
      " -8.00000000e-02  4.00000000e-04  2.50000000e-03  8.10000000e-03\n",
      "  1.84900000e-01  6.40000000e-03  1.02020134e+00  1.05127110e+00\n",
      "  9.13931185e-01  6.50509095e-01  9.23116346e-01  9.99800007e-01\n",
      "  9.98750260e-01  9.95952733e-01  9.08965750e-01  9.96801706e-01\n",
      "  1.00000000e+00]\n"
     ]
    }
   ],
   "source": [
    "new_x = Transform(train_x)\n",
    "print(new_x[0])"
   ]
  },
  {
   "cell_type": "markdown",
   "id": "macro-thanksgiving",
   "metadata": {},
   "source": [
    "# Create Test and train dataset "
   ]
  },
  {
   "cell_type": "code",
   "execution_count": 6,
   "id": "intimate-casting",
   "metadata": {},
   "outputs": [],
   "source": [
    "weights = numpy.ones((21, 1))\n",
    "x_trans, X_test, Y, Y_test = train_test_split(new_x, train_y, shuffle=False)"
   ]
  },
  {
   "cell_type": "code",
   "execution_count": 7,
   "id": "continued-costa",
   "metadata": {},
   "outputs": [],
   "source": [
    "alpha_space = np.linspace(0.01, 200, 21)\n",
    "err_list = []\n",
    "ridge_weight_list = []"
   ]
  },
  {
   "cell_type": "code",
   "execution_count": 8,
   "id": "strange-parliament",
   "metadata": {},
   "outputs": [],
   "source": [
    "for alpha in alpha_space:\n",
    "    r = Ridge(alpha=alpha, fit_intercept=False)\n",
    "    r.fit(x_trans, Y)\n",
    "    y_predic = r.predict(X=X_test)\n",
    "    \n",
    "    ridge_weight_list.append(r.coef_)\n",
    "    \n",
    "    err = np.sqrt(mean_squared_error(Y_test, y_predic))\n",
    "    err_list.append(err)"
   ]
  },
  {
   "cell_type": "code",
   "execution_count": 9,
   "id": "residential-audience",
   "metadata": {},
   "outputs": [
    {
     "data": {
      "image/png": "[encoded data removed]",
      "text/plain": [
       "<Figure size 432x288 with 1 Axes>"
      ]
     },
     "metadata": {
      "needs_background": "light"
     },
     "output_type": "display_data"
    }
   ],
   "source": [
    "plt.figure()\n",
    "plt.plot(alpha_space, err_list)\n",
    "plt.show()"
   ]
  },
  {
   "cell_type": "code",
   "execution_count": 10,
   "id": "immune-maker",
   "metadata": {},
   "outputs": [
    {
     "name": "stdout",
     "output_type": "stream",
     "text": [
      "100.00500000000001\n"
     ]
    }
   ],
   "source": [
    "# Select the weights with minimum mean_squared_error\n",
    "idx = np.argmin(err_list)\n",
    "print(alpha_space[idx])\n",
    "weightsRidge = ridge_weight_list[idx]"
   ]
  },
  {
   "cell_type": "code",
   "execution_count": 11,
   "id": "integrated-registration",
   "metadata": {},
   "outputs": [
    {
     "name": "stdout",
     "output_type": "stream",
     "text": [
      "[ 0.10933685 -0.34844814 -0.47665237  0.23157521  0.07581848 -0.11386437\n",
      "  0.07804848  0.08381794 -0.12337118  0.02422881 -0.45807798 -0.8208734\n",
      " -0.94788547 -0.33493469 -0.424251   -0.45242661 -0.54777386 -0.55064236\n",
      " -0.44853598 -0.52052968 -0.50899846]\n"
     ]
    }
   ],
   "source": [
    "clf = SGDRegressor(max_iter=100000, tol=1e-4,loss = \"squared_loss\",shuffle=False)\n",
    "sol = clf.fit(new_x,train_y)\n",
    "weightssgd = (clf.coef_)\n",
    "print(weightssgd)"
   ]
  },
  {
   "cell_type": "code",
   "execution_count": 12,
   "id": "institutional-circumstances",
   "metadata": {},
   "outputs": [
    {
     "data": {
      "text/plain": [
       "[<matplotlib.lines.Line2D at 0x7f0cd503e990>]"
      ]
     },
     "execution_count": 12,
     "metadata": {},
     "output_type": "execute_result"
    },
    {
     "data": {
      "image/png": "[encoded data removed]",
      "text/plain": [
       "<Figure size 432x288 with 1 Axes>"
      ]
     },
     "metadata": {
      "needs_background": "light"
     },
     "output_type": "display_data"
    }
   ],
   "source": [
    "plt.plot(weightsRidge)\n",
    "plt.plot(weightssgd)"
   ]
  },
  {
   "cell_type": "code",
   "execution_count": 13,
   "id": "weird-darkness",
   "metadata": {},
   "outputs": [],
   "source": [
    "np.savetxt(\"results.csv\", weightsRidge, delimiter=\"\\n\")"
   ]
  },
  {
   "cell_type": "code",
   "execution_count": null,
   "id": "alive-toner",
   "metadata": {},
   "outputs": [],
   "source": []
  }
 ],
 "metadata": {
  "kernelspec": {
   "display_name": "Python 3",
   "language": "python",
   "name": "python3"
  },
  "language_info": {
   "codemirror_mode": {
    "name": "ipython",
    "version": 3
   },
   "file_extension": ".py",
   "mimetype": "text/x-python",
   "name": "python",
   "nbconvert_exporter": "python",
   "pygments_lexer": "ipython3",
   "version": "3.8.5"
  },
  "latex_envs": {
   "LaTeX_envs_menu_present": true,
   "autoclose": false,
   "autocomplete": true,
   "bibliofile": "biblio.bib",
   "cite_by": "apalike",
   "current_citInitial": 1,
   "eqLabelWithNumbers": true,
   "eqNumInitial": 1,
   "hotkeys": {
    "equation": "Ctrl-E",
    "itemize": "Ctrl-I"
   },
   "labels_anchors": false,
   "latex_user_defs": false,
   "report_style_numbering": false,
   "user_envs_cfg": false
  },
  "toc": {
   "base_numbering": 1,
   "nav_menu": {},
   "number_sections": true,
   "sideBar": true,
   "skip_h1_title": false,
   "title_cell": "Table of Contents",
   "title_sidebar": "Contents",
   "toc_cell": false,
   "toc_position": {},
   "toc_section_display": true,
   "toc_window_display": false
  },
  "varInspector": {
   "cols": {
    "lenName": 16,
    "lenType": 16,
    "lenVar": 40
   },
   "kernels_config": {
    "python": {
     "delete_cmd_postfix": "",
     "delete_cmd_prefix": "del ",
     "library": "var_list.py",
     "varRefreshCmd": "print(var_dic_list())"
    },
    "r": {
     "delete_cmd_postfix": ") ",
     "delete_cmd_prefix": "rm(",
     "library": "var_list.r",
     "varRefreshCmd": "cat(var_dic_list()) "
    }
   },
   "types_to_exclude": [
    "module",
    "function",
    "builtin_function_or_method",
    "instance",
    "_Feature"
   ],
   "window_display": false
  }
 },
 "nbformat": 4,
 "nbformat_minor": 5
}
