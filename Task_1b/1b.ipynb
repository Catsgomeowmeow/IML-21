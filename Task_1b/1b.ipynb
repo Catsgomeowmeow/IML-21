{
 "cells": [
  {
   "cell_type": "code",
   "execution_count": 202,
   "id": "worthy-arkansas",
   "metadata": {},
   "outputs": [],
   "source": [
    "import pandas, numpy\n",
    "from sklearn.linear_model import LinearRegression, Ridge,SGDClassifier,Lasso, ElasticNet,ElasticNetCV,SGDRegressor\n",
    "from sklearn.metrics import mean_squared_error, make_scorer\n",
    "from sklearn.model_selection import KFold, train_test_split\n",
    "from sklearn.pipeline import make_pipeline\n",
    "from sklearn.preprocessing import StandardScaler"
   ]
  },
  {
   "cell_type": "code",
   "execution_count": 217,
   "id": "synthetic-escape",
   "metadata": {},
   "outputs": [],
   "source": [
    "def Transform(X):\n",
    "    \n",
    "    transformed = np.hstack((\n",
    "    X.copy(),#Linear\n",
    "    X.copy()**2,#Quadratic\n",
    "    np.exp(X.copy()),#Exponential\n",
    "    np.cos(X.copy()),#Cosin\n",
    "    np.ones((np.shape(X.copy())[0],1))#Constant\n",
    "    ))\n",
    "    \n",
    "    return transformed"
   ]
  },
  {
   "cell_type": "code",
   "execution_count": 218,
   "id": "major-slovak",
   "metadata": {},
   "outputs": [
    {
     "name": "stdout",
     "output_type": "stream",
     "text": [
      "        Id         y    x1    x2    x3    x4    x5\n",
      "0      0.0 -6.822679  0.02  0.05 -0.09 -0.43 -0.08\n",
      "1      1.0 -6.326290 -0.13  0.11 -0.08 -0.29 -0.03\n",
      "2      2.0 -9.302728  0.08  0.06 -0.07 -0.41 -0.03\n",
      "3      3.0 -7.371893  0.02 -0.12  0.01 -0.43 -0.02\n",
      "4      4.0 -6.027647 -0.14 -0.12 -0.08 -0.02 -0.08\n",
      "..     ...       ...   ...   ...   ...   ...   ...\n",
      "695  695.0 -6.147394  0.31 -0.09  0.04 -0.09  0.03\n",
      "696  696.0 -6.214899 -0.26 -0.01  0.02 -0.40  0.05\n",
      "697  697.0 -6.841341 -0.27 -0.22 -0.01 -0.32 -0.05\n",
      "698  698.0 -6.523371  0.19  0.11 -0.05 -0.27 -0.04\n",
      "699  699.0 -5.676683 -0.09 -0.09 -0.06 -0.41 -0.06\n",
      "\n",
      "[700 rows x 7 columns]\n"
     ]
    }
   ],
   "source": [
    "TrainingData = pandas.read_csv(\"train.csv\", dtype=\"double\")\n",
    "print(TrainingData)"
   ]
  },
  {
   "cell_type": "code",
   "execution_count": 39,
   "id": "opposite-array",
   "metadata": {},
   "outputs": [],
   "source": [
    "train_y = TrainingData['y']\n",
    "train_x=TrainingData.drop(columns=['y','Id'])"
   ]
  },
  {
   "cell_type": "code",
   "execution_count": 220,
   "id": "distant-experiment",
   "metadata": {},
   "outputs": [
    {
     "name": "stdout",
     "output_type": "stream",
     "text": [
      "[ 2.00000000e-02  5.00000000e-02 -9.00000000e-02 -4.30000000e-01\n",
      " -8.00000000e-02  4.00000000e-04  2.50000000e-03  8.10000000e-03\n",
      "  1.84900000e-01  6.40000000e-03  1.02020134e+00  1.05127110e+00\n",
      "  9.13931185e-01  6.50509095e-01  9.23116346e-01  9.99800007e-01\n",
      "  9.98750260e-01  9.95952733e-01  9.08965750e-01  9.96801706e-01\n",
      "  1.00000000e+00]\n"
     ]
    }
   ],
   "source": [
    "new_x = Transform(train_x)\n",
    "print(new_x[0])"
   ]
  },
  {
   "cell_type": "markdown",
   "id": "offensive-mounting",
   "metadata": {},
   "source": [
    "# Create Test and train dataset "
   ]
  },
  {
   "cell_type": "code",
   "execution_count": 48,
   "id": "diverse-airport",
   "metadata": {},
   "outputs": [],
   "source": [
    "weights = numpy.ones((21, 1))\n",
    "x_trans,X, Y,Y_new = train_test_split(new_x,train_y)"
   ]
  },
  {
   "cell_type": "code",
   "execution_count": 190,
   "id": "minute-starter",
   "metadata": {},
   "outputs": [
    {
     "data": {
      "text/plain": [
       "21"
      ]
     },
     "execution_count": 190,
     "metadata": {},
     "output_type": "execute_result"
    }
   ],
   "source": [
    "kf = KFold(n_splits=21, random_state=None, shuffle=False)\n",
    "kf.get_n_splits(x_trans)"
   ]
  },
  {
   "cell_type": "code",
   "execution_count": 253,
   "id": "occupational-remove",
   "metadata": {},
   "outputs": [
    {
     "name": "stdout",
     "output_type": "stream",
     "text": [
      "[ 0.0126913  -0.57042241 -1.19151791 -0.10208056 -0.43783639 -0.70249461\n",
      "  0.25768828  0.00493462  0.42897624  0.41780418 -0.37136781 -0.39296296\n",
      " -1.1938153   0.00254569 -0.26634318  0.35016066 -0.1293005  -0.00240038\n",
      " -0.2094464  -0.20230619  0.        ]\n"
     ]
    }
   ],
   "source": [
    "r = Ridge(alpha=1)\n",
    "r.fit(x_trans,Y)\n",
    "r.coef_\n",
    "weightsRidge=(r.coef_)\n",
    "print(weightsRidge)"
   ]
  },
  {
   "cell_type": "code",
   "execution_count": 200,
   "id": "confident-pennsylvania",
   "metadata": {},
   "outputs": [
    {
     "name": "stdout",
     "output_type": "stream",
     "text": [
      "1.899772575411114\n"
     ]
    }
   ],
   "source": [
    "y_predic = r.predict(X=X)\n",
    "err =  np.sqrt(mean_squared_error(Y_new,y_predic))\n",
    "print(err)"
   ]
  },
  {
   "cell_type": "code",
   "execution_count": 343,
   "id": "experienced-facing",
   "metadata": {},
   "outputs": [
    {
     "name": "stdout",
     "output_type": "stream",
     "text": [
      "[ 0.10933685 -0.34844814 -0.47665237  0.23157521  0.07581848 -0.11386437\n",
      "  0.07804848  0.08381794 -0.12337118  0.02422881 -0.45807798 -0.8208734\n",
      " -0.94788547 -0.33493469 -0.424251   -0.45242661 -0.54777386 -0.55064236\n",
      " -0.44853598 -0.52052968 -0.50899846]\n"
     ]
    }
   ],
   "source": [
    "clf = SGDRegressor(max_iter=100000, tol=1e-4,loss = \"squared_loss\",shuffle=False)\n",
    "sol = clf.fit(new_x,train_y)\n",
    "weightssgd = (clf.coef_)\n",
    "print(weightssgd)"
   ]
  },
  {
   "cell_type": "code",
   "execution_count": 345,
   "id": "formal-destination",
   "metadata": {},
   "outputs": [
    {
     "data": {
      "text/plain": [
       "[<matplotlib.lines.Line2D at 0x1e9700206a0>]"
      ]
     },
     "execution_count": 345,
     "metadata": {},
     "output_type": "execute_result"
    },
    {
     "data": {
      "image/png": "[encoded data removed]",
      "text/plain": [
       "<Figure size 432x288 with 1 Axes>"
      ]
     },
     "metadata": {
      "needs_background": "light"
     },
     "output_type": "display_data"
    }
   ],
   "source": [
    "plt.plot(weightsRidge)\n",
    "plt.plot(weightssgd)"
   ]
  },
  {
   "cell_type": "code",
   "execution_count": 331,
   "id": "broken-tower",
   "metadata": {},
   "outputs": [],
   "source": [
    "np.savetxt(\"results.csv\", weightssgd, delimiter=\"\\n\")"
   ]
  }
 ],
 "metadata": {
  "kernelspec": {
   "display_name": "Python 3",
   "language": "python",
   "name": "python3"
  },
  "language_info": {
   "codemirror_mode": {
    "name": "ipython",
    "version": 3
   },
   "file_extension": ".py",
   "mimetype": "text/x-python",
   "name": "python",
   "nbconvert_exporter": "python",
   "pygments_lexer": "ipython3",
   "version": "3.8.5"
  },
  "latex_envs": {
   "LaTeX_envs_menu_present": true,
   "autoclose": false,
   "autocomplete": true,
   "bibliofile": "biblio.bib",
   "cite_by": "apalike",
   "current_citInitial": 1,
   "eqLabelWithNumbers": true,
   "eqNumInitial": 1,
   "hotkeys": {
    "equation": "Ctrl-E",
    "itemize": "Ctrl-I"
   },
   "labels_anchors": false,
   "latex_user_defs": false,
   "report_style_numbering": false,
   "user_envs_cfg": false
  },
  "toc": {
   "base_numbering": 1,
   "nav_menu": {},
   "number_sections": true,
   "sideBar": true,
   "skip_h1_title": false,
   "title_cell": "Table of Contents",
   "title_sidebar": "Contents",
   "toc_cell": false,
   "toc_position": {},
   "toc_section_display": true,
   "toc_window_display": false
  },
  "varInspector": {
   "cols": {
    "lenName": 16,
    "lenType": 16,
    "lenVar": 40
   },
   "kernels_config": {
    "python": {
     "delete_cmd_postfix": "",
     "delete_cmd_prefix": "del ",
     "library": "var_list.py",
     "varRefreshCmd": "print(var_dic_list())"
    },
    "r": {
     "delete_cmd_postfix": ") ",
     "delete_cmd_prefix": "rm(",
     "library": "var_list.r",
     "varRefreshCmd": "cat(var_dic_list()) "
    }
   },
   "types_to_exclude": [
    "module",
    "function",
    "builtin_function_or_method",
    "instance",
    "_Feature"
   ],
   "window_display": false
  }
 },
 "nbformat": 4,
 "nbformat_minor": 5
}
