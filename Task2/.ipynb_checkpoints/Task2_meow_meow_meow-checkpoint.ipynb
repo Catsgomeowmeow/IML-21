{
 "cells": [
  {
   "cell_type": "code",
   "execution_count": 16,
   "metadata": {
    "id": "UWAPx6FenY1-"
   },
   "outputs": [],
   "source": [
    "import numpy as np\n",
    "from numpy.polynomial import Polynomial\n",
    "import pandas as pd \n",
    "from sklearn.impute import SimpleImputer\n",
    "from sklearn import svm\n",
    "from sklearn.linear_model import Ridge\n",
    "from sklearn.model_selection import cross_val_score\n",
    "\n",
    "from copy import deepcopy"
   ]
  },
  {
   "cell_type": "code",
   "execution_count": 17,
   "metadata": {
    "id": "-1dlNYDTxylJ"
   },
   "outputs": [],
   "source": [
    "from skorch.callbacks import EpochScoring\n",
    "from skorch import NeuralNetClassifier"
   ]
  },
  {
   "cell_type": "code",
   "execution_count": 19,
   "metadata": {
    "id": "JE8PIX7zne94"
   },
   "outputs": [],
   "source": [
    "train_features = pd.read_csv('../Task2/train_features.csv')\n",
    "ground_truth = pd.read_csv('../Task2/train_labels.csv')\n",
    "test_features = pd.read_csv('../Task2/test_features.csv')"
   ]
  },
  {
   "cell_type": "code",
   "execution_count": 20,
   "metadata": {
    "colab": {
     "base_uri": "https://localhost:8080/"
    },
    "id": "LA74iN7qnr5m",
    "outputId": "11c717c8-6cc7-41fe-91cc-82d49a169d44"
   },
   "outputs": [
    {
     "name": "stdout",
     "output_type": "stream",
     "text": [
      "number of validation patients:18995\n",
      "number of prediction patients:12664\n"
     ]
    }
   ],
   "source": [
    "pids = train_features[\"pid\"].unique().astype(np.int)\n",
    "print('number of validation patients:{}'.format(pids.size))\n",
    "print('number of prediction patients:{}'.format(test_features.pid.unique().size))"
   ]
  },
  {
   "cell_type": "markdown",
   "metadata": {
    "id": "1CJ4isvL0tP0"
   },
   "source": [
    "Pre Processing"
   ]
  },
  {
   "cell_type": "code",
   "execution_count": 21,
   "metadata": {
    "id": "l8Q4Y4I60kGH"
   },
   "outputs": [],
   "source": [
    "training_mean = {}\n",
    "training_std = {}\n",
    "training_med = {}\n",
    "for key in train_features:\n",
    "    #print(key)\n",
    "    training_mean[key]=np.nanmean(train_features[key])\n",
    "    training_std[key]=np.nanstd(train_features[key])\n",
    "    training_med[key]=np.nanmedian(train_features[key])"
   ]
  },
  {
   "cell_type": "code",
   "execution_count": 7,
   "metadata": {
    "colab": {
     "base_uri": "https://localhost:8080/",
     "height": 419
    },
    "id": "Kf1Kw61M2O1G",
    "outputId": "f2a11e96-8da3-4267-fbd9-f530a1a74698"
   },
   "outputs": [
    {
     "data": {
      "text/html": [
       "<div>\n",
       "<style scoped>\n",
       "    .dataframe tbody tr th:only-of-type {\n",
       "        vertical-align: middle;\n",
       "    }\n",
       "\n",
       "    .dataframe tbody tr th {\n",
       "        vertical-align: top;\n",
       "    }\n",
       "\n",
       "    .dataframe thead th {\n",
       "        text-align: right;\n",
       "    }\n",
       "</style>\n",
       "<table border=\"1\" class=\"dataframe\">\n",
       "  <thead>\n",
       "    <tr style=\"text-align: right;\">\n",
       "      <th></th>\n",
       "      <th>pid</th>\n",
       "      <th>Time</th>\n",
       "      <th>Age</th>\n",
       "      <th>EtCO2</th>\n",
       "      <th>PTT</th>\n",
       "      <th>BUN</th>\n",
       "      <th>Lactate</th>\n",
       "      <th>Temp</th>\n",
       "      <th>Hgb</th>\n",
       "      <th>HCO3</th>\n",
       "      <th>...</th>\n",
       "      <th>Alkalinephos</th>\n",
       "      <th>SpO2</th>\n",
       "      <th>Bilirubin_direct</th>\n",
       "      <th>Chloride</th>\n",
       "      <th>Hct</th>\n",
       "      <th>Heartrate</th>\n",
       "      <th>Bilirubin_total</th>\n",
       "      <th>TroponinI</th>\n",
       "      <th>ABPs</th>\n",
       "      <th>pH</th>\n",
       "    </tr>\n",
       "  </thead>\n",
       "  <tbody>\n",
       "    <tr>\n",
       "      <th>0</th>\n",
       "      <td>1</td>\n",
       "      <td>3</td>\n",
       "      <td>34.0</td>\n",
       "      <td>NaN</td>\n",
       "      <td>NaN</td>\n",
       "      <td>12.0</td>\n",
       "      <td>NaN</td>\n",
       "      <td>36.0</td>\n",
       "      <td>8.7</td>\n",
       "      <td>24.0</td>\n",
       "      <td>...</td>\n",
       "      <td>NaN</td>\n",
       "      <td>100.0</td>\n",
       "      <td>NaN</td>\n",
       "      <td>114.0</td>\n",
       "      <td>24.6</td>\n",
       "      <td>94.0</td>\n",
       "      <td>NaN</td>\n",
       "      <td>NaN</td>\n",
       "      <td>142.0</td>\n",
       "      <td>7.33</td>\n",
       "    </tr>\n",
       "    <tr>\n",
       "      <th>1</th>\n",
       "      <td>1</td>\n",
       "      <td>4</td>\n",
       "      <td>34.0</td>\n",
       "      <td>NaN</td>\n",
       "      <td>NaN</td>\n",
       "      <td>NaN</td>\n",
       "      <td>NaN</td>\n",
       "      <td>36.0</td>\n",
       "      <td>NaN</td>\n",
       "      <td>NaN</td>\n",
       "      <td>...</td>\n",
       "      <td>NaN</td>\n",
       "      <td>100.0</td>\n",
       "      <td>NaN</td>\n",
       "      <td>NaN</td>\n",
       "      <td>NaN</td>\n",
       "      <td>99.0</td>\n",
       "      <td>NaN</td>\n",
       "      <td>NaN</td>\n",
       "      <td>125.0</td>\n",
       "      <td>7.33</td>\n",
       "    </tr>\n",
       "    <tr>\n",
       "      <th>2</th>\n",
       "      <td>1</td>\n",
       "      <td>5</td>\n",
       "      <td>34.0</td>\n",
       "      <td>NaN</td>\n",
       "      <td>NaN</td>\n",
       "      <td>NaN</td>\n",
       "      <td>NaN</td>\n",
       "      <td>36.0</td>\n",
       "      <td>NaN</td>\n",
       "      <td>NaN</td>\n",
       "      <td>...</td>\n",
       "      <td>NaN</td>\n",
       "      <td>100.0</td>\n",
       "      <td>NaN</td>\n",
       "      <td>NaN</td>\n",
       "      <td>NaN</td>\n",
       "      <td>92.0</td>\n",
       "      <td>NaN</td>\n",
       "      <td>NaN</td>\n",
       "      <td>110.0</td>\n",
       "      <td>7.37</td>\n",
       "    </tr>\n",
       "    <tr>\n",
       "      <th>3</th>\n",
       "      <td>1</td>\n",
       "      <td>6</td>\n",
       "      <td>34.0</td>\n",
       "      <td>NaN</td>\n",
       "      <td>NaN</td>\n",
       "      <td>NaN</td>\n",
       "      <td>NaN</td>\n",
       "      <td>37.0</td>\n",
       "      <td>NaN</td>\n",
       "      <td>NaN</td>\n",
       "      <td>...</td>\n",
       "      <td>NaN</td>\n",
       "      <td>100.0</td>\n",
       "      <td>NaN</td>\n",
       "      <td>NaN</td>\n",
       "      <td>NaN</td>\n",
       "      <td>88.0</td>\n",
       "      <td>NaN</td>\n",
       "      <td>NaN</td>\n",
       "      <td>104.0</td>\n",
       "      <td>7.37</td>\n",
       "    </tr>\n",
       "    <tr>\n",
       "      <th>4</th>\n",
       "      <td>1</td>\n",
       "      <td>7</td>\n",
       "      <td>34.0</td>\n",
       "      <td>NaN</td>\n",
       "      <td>NaN</td>\n",
       "      <td>NaN</td>\n",
       "      <td>NaN</td>\n",
       "      <td>NaN</td>\n",
       "      <td>NaN</td>\n",
       "      <td>NaN</td>\n",
       "      <td>...</td>\n",
       "      <td>NaN</td>\n",
       "      <td>100.0</td>\n",
       "      <td>NaN</td>\n",
       "      <td>NaN</td>\n",
       "      <td>22.4</td>\n",
       "      <td>81.0</td>\n",
       "      <td>NaN</td>\n",
       "      <td>NaN</td>\n",
       "      <td>100.0</td>\n",
       "      <td>7.41</td>\n",
       "    </tr>\n",
       "    <tr>\n",
       "      <th>...</th>\n",
       "      <td>...</td>\n",
       "      <td>...</td>\n",
       "      <td>...</td>\n",
       "      <td>...</td>\n",
       "      <td>...</td>\n",
       "      <td>...</td>\n",
       "      <td>...</td>\n",
       "      <td>...</td>\n",
       "      <td>...</td>\n",
       "      <td>...</td>\n",
       "      <td>...</td>\n",
       "      <td>...</td>\n",
       "      <td>...</td>\n",
       "      <td>...</td>\n",
       "      <td>...</td>\n",
       "      <td>...</td>\n",
       "      <td>...</td>\n",
       "      <td>...</td>\n",
       "      <td>...</td>\n",
       "      <td>...</td>\n",
       "      <td>...</td>\n",
       "    </tr>\n",
       "    <tr>\n",
       "      <th>227935</th>\n",
       "      <td>9999</td>\n",
       "      <td>8</td>\n",
       "      <td>85.0</td>\n",
       "      <td>NaN</td>\n",
       "      <td>NaN</td>\n",
       "      <td>NaN</td>\n",
       "      <td>NaN</td>\n",
       "      <td>NaN</td>\n",
       "      <td>NaN</td>\n",
       "      <td>NaN</td>\n",
       "      <td>...</td>\n",
       "      <td>NaN</td>\n",
       "      <td>NaN</td>\n",
       "      <td>NaN</td>\n",
       "      <td>NaN</td>\n",
       "      <td>NaN</td>\n",
       "      <td>80.0</td>\n",
       "      <td>NaN</td>\n",
       "      <td>NaN</td>\n",
       "      <td>110.0</td>\n",
       "      <td>NaN</td>\n",
       "    </tr>\n",
       "    <tr>\n",
       "      <th>227936</th>\n",
       "      <td>9999</td>\n",
       "      <td>9</td>\n",
       "      <td>85.0</td>\n",
       "      <td>NaN</td>\n",
       "      <td>NaN</td>\n",
       "      <td>NaN</td>\n",
       "      <td>NaN</td>\n",
       "      <td>NaN</td>\n",
       "      <td>NaN</td>\n",
       "      <td>NaN</td>\n",
       "      <td>...</td>\n",
       "      <td>NaN</td>\n",
       "      <td>NaN</td>\n",
       "      <td>NaN</td>\n",
       "      <td>NaN</td>\n",
       "      <td>NaN</td>\n",
       "      <td>83.0</td>\n",
       "      <td>NaN</td>\n",
       "      <td>NaN</td>\n",
       "      <td>123.0</td>\n",
       "      <td>NaN</td>\n",
       "    </tr>\n",
       "    <tr>\n",
       "      <th>227937</th>\n",
       "      <td>9999</td>\n",
       "      <td>10</td>\n",
       "      <td>85.0</td>\n",
       "      <td>NaN</td>\n",
       "      <td>NaN</td>\n",
       "      <td>NaN</td>\n",
       "      <td>NaN</td>\n",
       "      <td>36.0</td>\n",
       "      <td>NaN</td>\n",
       "      <td>NaN</td>\n",
       "      <td>...</td>\n",
       "      <td>NaN</td>\n",
       "      <td>98.0</td>\n",
       "      <td>NaN</td>\n",
       "      <td>NaN</td>\n",
       "      <td>NaN</td>\n",
       "      <td>80.0</td>\n",
       "      <td>NaN</td>\n",
       "      <td>NaN</td>\n",
       "      <td>138.0</td>\n",
       "      <td>NaN</td>\n",
       "    </tr>\n",
       "    <tr>\n",
       "      <th>227938</th>\n",
       "      <td>9999</td>\n",
       "      <td>11</td>\n",
       "      <td>85.0</td>\n",
       "      <td>NaN</td>\n",
       "      <td>NaN</td>\n",
       "      <td>NaN</td>\n",
       "      <td>NaN</td>\n",
       "      <td>NaN</td>\n",
       "      <td>10.2</td>\n",
       "      <td>NaN</td>\n",
       "      <td>...</td>\n",
       "      <td>NaN</td>\n",
       "      <td>98.0</td>\n",
       "      <td>NaN</td>\n",
       "      <td>NaN</td>\n",
       "      <td>31.0</td>\n",
       "      <td>75.0</td>\n",
       "      <td>NaN</td>\n",
       "      <td>NaN</td>\n",
       "      <td>125.0</td>\n",
       "      <td>NaN</td>\n",
       "    </tr>\n",
       "    <tr>\n",
       "      <th>227939</th>\n",
       "      <td>9999</td>\n",
       "      <td>12</td>\n",
       "      <td>85.0</td>\n",
       "      <td>NaN</td>\n",
       "      <td>NaN</td>\n",
       "      <td>NaN</td>\n",
       "      <td>NaN</td>\n",
       "      <td>NaN</td>\n",
       "      <td>NaN</td>\n",
       "      <td>NaN</td>\n",
       "      <td>...</td>\n",
       "      <td>NaN</td>\n",
       "      <td>NaN</td>\n",
       "      <td>NaN</td>\n",
       "      <td>NaN</td>\n",
       "      <td>NaN</td>\n",
       "      <td>79.0</td>\n",
       "      <td>NaN</td>\n",
       "      <td>NaN</td>\n",
       "      <td>128.0</td>\n",
       "      <td>NaN</td>\n",
       "    </tr>\n",
       "  </tbody>\n",
       "</table>\n",
       "<p>227940 rows × 37 columns</p>\n",
       "</div>"
      ],
      "text/plain": [
       "         pid  Time   Age  EtCO2  PTT   BUN  Lactate  Temp   Hgb  HCO3  ...  \\\n",
       "0          1     3  34.0    NaN  NaN  12.0      NaN  36.0   8.7  24.0  ...   \n",
       "1          1     4  34.0    NaN  NaN   NaN      NaN  36.0   NaN   NaN  ...   \n",
       "2          1     5  34.0    NaN  NaN   NaN      NaN  36.0   NaN   NaN  ...   \n",
       "3          1     6  34.0    NaN  NaN   NaN      NaN  37.0   NaN   NaN  ...   \n",
       "4          1     7  34.0    NaN  NaN   NaN      NaN   NaN   NaN   NaN  ...   \n",
       "...      ...   ...   ...    ...  ...   ...      ...   ...   ...   ...  ...   \n",
       "227935  9999     8  85.0    NaN  NaN   NaN      NaN   NaN   NaN   NaN  ...   \n",
       "227936  9999     9  85.0    NaN  NaN   NaN      NaN   NaN   NaN   NaN  ...   \n",
       "227937  9999    10  85.0    NaN  NaN   NaN      NaN  36.0   NaN   NaN  ...   \n",
       "227938  9999    11  85.0    NaN  NaN   NaN      NaN   NaN  10.2   NaN  ...   \n",
       "227939  9999    12  85.0    NaN  NaN   NaN      NaN   NaN   NaN   NaN  ...   \n",
       "\n",
       "        Alkalinephos   SpO2  Bilirubin_direct  Chloride   Hct  Heartrate  \\\n",
       "0                NaN  100.0               NaN     114.0  24.6       94.0   \n",
       "1                NaN  100.0               NaN       NaN   NaN       99.0   \n",
       "2                NaN  100.0               NaN       NaN   NaN       92.0   \n",
       "3                NaN  100.0               NaN       NaN   NaN       88.0   \n",
       "4                NaN  100.0               NaN       NaN  22.4       81.0   \n",
       "...              ...    ...               ...       ...   ...        ...   \n",
       "227935           NaN    NaN               NaN       NaN   NaN       80.0   \n",
       "227936           NaN    NaN               NaN       NaN   NaN       83.0   \n",
       "227937           NaN   98.0               NaN       NaN   NaN       80.0   \n",
       "227938           NaN   98.0               NaN       NaN  31.0       75.0   \n",
       "227939           NaN    NaN               NaN       NaN   NaN       79.0   \n",
       "\n",
       "        Bilirubin_total  TroponinI   ABPs    pH  \n",
       "0                   NaN        NaN  142.0  7.33  \n",
       "1                   NaN        NaN  125.0  7.33  \n",
       "2                   NaN        NaN  110.0  7.37  \n",
       "3                   NaN        NaN  104.0  7.37  \n",
       "4                   NaN        NaN  100.0  7.41  \n",
       "...                 ...        ...    ...   ...  \n",
       "227935              NaN        NaN  110.0   NaN  \n",
       "227936              NaN        NaN  123.0   NaN  \n",
       "227937              NaN        NaN  138.0   NaN  \n",
       "227938              NaN        NaN  125.0   NaN  \n",
       "227939              NaN        NaN  128.0   NaN  \n",
       "\n",
       "[227940 rows x 37 columns]"
      ]
     },
     "execution_count": 7,
     "metadata": {
      "tags": []
     },
     "output_type": "execute_result"
    }
   ],
   "source": [
    "train_features"
   ]
  },
  {
   "cell_type": "code",
   "execution_count": 22,
   "metadata": {
    "id": "6rEGSvJD0yUs"
   },
   "outputs": [],
   "source": [
    "#Fill in the missing data using an imputer here i just use the median data\n",
    "imputer = SimpleImputer(strategy='median').fit(train_features)\n",
    "imputed_data= imputer.transform(train_features)"
   ]
  },
  {
   "cell_type": "markdown",
   "metadata": {
    "id": "fTgAPH5s1RJU"
   },
   "source": [
    "Subtask 1"
   ]
  },
  {
   "cell_type": "code",
   "execution_count": 23,
   "metadata": {
    "id": "KEJWer5MgRca"
   },
   "outputs": [],
   "source": [
    "labels1 = [\n",
    "    \"LABEL_BaseExcess\",\n",
    "    \"LABEL_Fibrinogen\",\n",
    "    \"LABEL_AST\",\n",
    "    \"LABEL_Alkalinephos\",\n",
    "    \"LABEL_Bilirubin_total\",\n",
    "    \"LABEL_Lactate\",\n",
    "    \"LABEL_TroponinI\",\n",
    "    \"LABEL_SaO2\",\n",
    "    \"LABEL_Bilirubin_direct\",\n",
    "    \"LABEL_EtCO2\"\n",
    "]\n",
    "ytrain = ground_truth[labels1].to_numpy()"
   ]
  },
  {
   "cell_type": "code",
   "execution_count": null,
   "metadata": {
    "id": "7RdbtEnLEVkV"
   },
   "outputs": [],
   "source": [
    "#svc = svm.LinearSVC(C=1)"
   ]
  },
  {
   "cell_type": "code",
   "execution_count": null,
   "metadata": {
    "id": "ARe2XUFKp1YD"
   },
   "outputs": [],
   "source": [
    "# for i,label in enumerate(ground_truth):\n",
    "#   estimator = Pipline([('imputer',Imputer(missing_values = np.nan, strategy = 'median'])),\n",
    "#                       ('')\n",
    "#   scores = "
   ]
  },
  {
   "cell_type": "code",
   "execution_count": null,
   "metadata": {
    "id": "CuPTNkq6kXSg"
   },
   "outputs": [],
   "source": [
    "# for i,label in enumerate(ground_truth):\n",
    "#   svc.fit(imputed_data,ytrain[:,i])"
   ]
  },
  {
   "cell_type": "code",
   "execution_count": 24,
   "metadata": {
    "colab": {
     "base_uri": "https://localhost:8080/"
    },
    "id": "2-jUs2vdMhd4",
    "outputId": "35c4f964-3405-43f4-dc09-4b3ceaa4be93"
   },
   "outputs": [
    {
     "name": "stdout",
     "output_type": "stream",
     "text": [
      "(18995, 16)\n",
      "(227940, 37)\n"
     ]
    }
   ],
   "source": [
    "print(ground_truth.shape)\n",
    "print(imputed_data.shape)\n",
    "num_ground_truth = ground_truth.shape[0]\n",
    "num_features = imputed_data.shape[1] - 2\n",
    "num_hours = 12\n",
    "imputed_data_slope_intersect = np.zeros((num_ground_truth, num_features*2+1))\n",
    "imputed_data_slope_intersect.shape\n",
    "\n",
    "generated_models = []"
   ]
  },
  {
   "cell_type": "code",
   "execution_count": null,
   "metadata": {
    "colab": {
     "base_uri": "https://localhost:8080/"
    },
    "id": "Gh1VJqLHQnvI",
    "outputId": "b6b4f969-a7fb-4109-9cff-b760e8c40210"
   },
   "outputs": [
    {
     "name": "stdout",
     "output_type": "stream",
     "text": [
      "Wall time: 0 ns\n"
     ]
    }
   ],
   "source": [
    "%time\n",
    "for i in range(num_ground_truth):\n",
    "  current_hour = imputed_data[num_hours*i:num_hours*(i+1), 1]\n",
    "  for j in range(num_features):\n",
    "    intersect, slope = Polynomial.fit(current_hour, imputed_data[num_hours*i:num_hours*(i+1), j+2], deg=1).coef\n",
    "    imputed_data_slope_intersect[i, 0]       = current_hour[-1] # The total time of stay\n",
    "    imputed_data_slope_intersect[i, 2*j+1]   = intersect\n",
    "    imputed_data_slope_intersect[i, 2*(j+1)] = slope\n",
    "  #imputed_data[num_hours*i:num_hours*(i+1), :]"
   ]
  },
  {
   "cell_type": "code",
   "execution_count": null,
   "metadata": {
    "colab": {
     "base_uri": "https://localhost:8080/"
    },
    "id": "9TIyOSi6gXzz",
    "outputId": "e1f508d1-f07d-4cff-f7e2-571cc0a70131"
   },
   "outputs": [
    {
     "name": "stdout",
     "output_type": "stream",
     "text": [
      "[0.77160165 0.77468988 0.75738023 0.77933115 0.77019883]\n",
      "[0.74074328 0.73177967 0.72535109 0.72433562 0.7386048 ]\n",
      "[0.68534232 0.69095966 0.67612538 0.69031552 0.68307851]\n",
      "[0.68821861 0.69469721 0.67829438 0.69172856 0.68472459]\n",
      "[0.68398161 0.69324602 0.68462074 0.68837368 0.68323177]\n",
      "[0.70854965 0.71185072 0.686267   0.71462721 0.68838198]\n",
      "[0.76753436 0.75718505 0.73851685 0.76420241 0.73597975]\n",
      "[0.73564189 0.73475077 0.72356891 0.7340884  0.73113097]\n",
      "[0.73975789 0.72527576 0.66184969 0.69251142 0.75289854]\n",
      "[0.78048705 0.80131622 0.7369809  0.77119497 0.80523364]\n",
      "CPU times: user 2.91 s, sys: 4.83 s, total: 7.74 s\n",
      "Wall time: 1.18 s\n"
     ]
    }
   ],
   "source": [
    "%%time\n",
    "#clf = svm.SVR(kernel='linear')\n",
    "model_task1 = Ridge(alpha=1e0, fit_intercept=True)\n",
    "\n",
    "for label in labels1:\n",
    "  scores = cross_val_score(model_task1, imputed_data_slope_intersect, ground_truth[label], cv=5, scoring='roc_auc')\n",
    "  print(scores)"
   ]
  },
  {
   "cell_type": "code",
   "execution_count": 11,
   "metadata": {
    "colab": {
     "base_uri": "https://localhost:8080/"
    },
    "id": "GNFiWo9L1NBP",
    "outputId": "26e82ae3-067a-4d88-c56b-f7e00e3f362a"
   },
   "outputs": [
    {
     "name": "stdout",
     "output_type": "stream",
     "text": [
      "[0.91947131 0.91356793 0.91583069 0.92012094 0.9230447 ]\n",
      "[0.78977946 0.7953066  0.80336997 0.78884728 0.80695764]\n",
      "[0.7419024  0.73862415 0.73747894 0.73229948 0.73290458]\n",
      "[0.74851677 0.74272212 0.7375719  0.73872154 0.73333556]\n",
      "[0.74111017 0.73971307 0.74222038 0.73128818 0.73531471]\n",
      "[0.80335916 0.81188887 0.80119018 0.80778411 0.78143802]\n",
      "[0.89781898 0.9001516  0.88506265 0.89328604 0.89695528]\n",
      "[0.83170889 0.82732262 0.82306996 0.81602712 0.82991298]\n",
      "[0.78620969 0.77460871 0.74453668 0.74129544 0.76679868]\n",
      "[0.93268864 0.92361669 0.92019184 0.94310526 0.93320461]\n",
      "Wall time: 8min 57s\n"
     ]
    }
   ],
   "source": [
    "%%time \n",
    "from sklearn.ensemble import GradientBoostingClassifier\n",
    "model_task1_gradient = GradientBoostingClassifier()\n",
    "for label in labels1:\n",
    "  scores = cross_val_score(model_task1_gradient,imputed_data_slope_intersect, ground_truth[label], cv=5, scoring='roc_auc')\n",
    "  print(scores )"
   ]
  },
  {
   "cell_type": "code",
   "execution_count": 11,
   "metadata": {
    "colab": {
     "base_uri": "https://localhost:8080/"
    },
    "id": "Nn-zX8DuTZw2",
    "outputId": "3f899e7f-5626-4263-eae5-00f3c35c0491"
   },
   "outputs": [
    {
     "name": "stdout",
     "output_type": "stream",
     "text": [
      "Wall time: 28.9 ms\n"
     ]
    }
   ],
   "source": [
    "%%time \n",
    "from sklearn.ensemble import GradientBoostingClassifier\n",
    "from sklearn.pipeline import make_pipeline\n",
    "from sklearn.preprocessing import StandardScaler\n",
    "\n",
    "model_task1_gradient = make_pipeline(StandardScaler(),\n",
    "                                    GradientBoostingClassifier()\n",
    ")\n",
    "for label in labels1:\n",
    "  scores = cross_val_score(model_task1_gradient,imputed_data_slope_intersect, ground_truth[label], cv=5, scoring='roc_auc',n_jobs=4,verbose = 2)\n",
    "  print(scores )"
   ]
  },
  {
   "cell_type": "code",
   "execution_count": 12,
   "metadata": {
    "colab": {
     "base_uri": "https://localhost:8080/",
     "height": 1000
    },
    "id": "2G8BIu82VfwL",
    "outputId": "e7dde0f7-7276-45c5-91a4-f7b70f6df279"
   },
   "outputs": [
    {
     "name": "stdout",
     "output_type": "stream",
     "text": [
      "Pipeline(steps=[('standardscaler', StandardScaler()),\n",
      "                ('gradientboostingclassifier', GradientBoostingClassifier())])\n",
      "[[0.73171887 0.26828113]\n",
      " [0.73171887 0.26828113]\n",
      " [0.73171887 0.26828113]\n",
      " ...\n",
      " [0.73171887 0.26828113]\n",
      " [0.73171887 0.26828113]\n",
      " [0.73171887 0.26828113]]\n",
      "Pipeline(steps=[('standardscaler', StandardScaler()),\n",
      "                ('gradientboostingclassifier', GradientBoostingClassifier())])\n",
      "[[0.92629639 0.07370361]\n",
      " [0.92629639 0.07370361]\n",
      " [0.92629639 0.07370361]\n",
      " ...\n",
      " [0.92629639 0.07370361]\n",
      " [0.92629639 0.07370361]\n",
      " [0.92629639 0.07370361]]\n"
     ]
    },
    {
     "ename": "KeyboardInterrupt",
     "evalue": "ignored",
     "output_type": "error",
     "traceback": [
      "\u001b[1;31m---------------------------------------------------------------------------\u001b[0m",
      "\u001b[1;31mKeyboardInterrupt\u001b[0m                         Traceback (most recent call last)",
      "\u001b[1;32m<ipython-input-12-cd82e6797b5a>\u001b[0m in \u001b[0;36m<module>\u001b[1;34m\u001b[0m\n\u001b[0;32m      3\u001b[0m )\n\u001b[0;32m      4\u001b[0m \u001b[1;32mfor\u001b[0m \u001b[0mlabel\u001b[0m \u001b[1;32min\u001b[0m \u001b[0mlabels1\u001b[0m\u001b[1;33m:\u001b[0m\u001b[1;33m\u001b[0m\u001b[1;33m\u001b[0m\u001b[0m\n\u001b[1;32m----> 5\u001b[1;33m   \u001b[0mfit\u001b[0m \u001b[1;33m=\u001b[0m \u001b[0mmodel_task1_gradient\u001b[0m\u001b[1;33m.\u001b[0m\u001b[0mfit\u001b[0m\u001b[1;33m(\u001b[0m\u001b[0mimputed_data_slope_intersect\u001b[0m\u001b[1;33m,\u001b[0m \u001b[0mground_truth\u001b[0m\u001b[1;33m[\u001b[0m\u001b[0mlabel\u001b[0m\u001b[1;33m]\u001b[0m\u001b[1;33m)\u001b[0m\u001b[1;33m\u001b[0m\u001b[1;33m\u001b[0m\u001b[0m\n\u001b[0m\u001b[0;32m      6\u001b[0m   \u001b[0mprobs\u001b[0m \u001b[1;33m=\u001b[0m \u001b[0mfit\u001b[0m\u001b[1;33m.\u001b[0m\u001b[0mpredict_proba\u001b[0m\u001b[1;33m(\u001b[0m\u001b[0mimputed_data_slope_intersect\u001b[0m\u001b[1;33m)\u001b[0m\u001b[1;33m\u001b[0m\u001b[1;33m\u001b[0m\u001b[0m\n\u001b[0;32m      7\u001b[0m   \u001b[0mprint\u001b[0m\u001b[1;33m(\u001b[0m\u001b[0mfit\u001b[0m \u001b[1;33m)\u001b[0m\u001b[1;33m\u001b[0m\u001b[1;33m\u001b[0m\u001b[0m\n",
      "\u001b[1;32mH:\\Python\\envs\\Python\\lib\\site-packages\\sklearn\\pipeline.py\u001b[0m in \u001b[0;36mfit\u001b[1;34m(self, X, y, **fit_params)\u001b[0m\n\u001b[0;32m    344\u001b[0m             \u001b[1;32mif\u001b[0m \u001b[0mself\u001b[0m\u001b[1;33m.\u001b[0m\u001b[0m_final_estimator\u001b[0m \u001b[1;33m!=\u001b[0m \u001b[1;34m'passthrough'\u001b[0m\u001b[1;33m:\u001b[0m\u001b[1;33m\u001b[0m\u001b[1;33m\u001b[0m\u001b[0m\n\u001b[0;32m    345\u001b[0m                 \u001b[0mfit_params_last_step\u001b[0m \u001b[1;33m=\u001b[0m \u001b[0mfit_params_steps\u001b[0m\u001b[1;33m[\u001b[0m\u001b[0mself\u001b[0m\u001b[1;33m.\u001b[0m\u001b[0msteps\u001b[0m\u001b[1;33m[\u001b[0m\u001b[1;33m-\u001b[0m\u001b[1;36m1\u001b[0m\u001b[1;33m]\u001b[0m\u001b[1;33m[\u001b[0m\u001b[1;36m0\u001b[0m\u001b[1;33m]\u001b[0m\u001b[1;33m]\u001b[0m\u001b[1;33m\u001b[0m\u001b[1;33m\u001b[0m\u001b[0m\n\u001b[1;32m--> 346\u001b[1;33m                 \u001b[0mself\u001b[0m\u001b[1;33m.\u001b[0m\u001b[0m_final_estimator\u001b[0m\u001b[1;33m.\u001b[0m\u001b[0mfit\u001b[0m\u001b[1;33m(\u001b[0m\u001b[0mXt\u001b[0m\u001b[1;33m,\u001b[0m \u001b[0my\u001b[0m\u001b[1;33m,\u001b[0m \u001b[1;33m**\u001b[0m\u001b[0mfit_params_last_step\u001b[0m\u001b[1;33m)\u001b[0m\u001b[1;33m\u001b[0m\u001b[1;33m\u001b[0m\u001b[0m\n\u001b[0m\u001b[0;32m    347\u001b[0m \u001b[1;33m\u001b[0m\u001b[0m\n\u001b[0;32m    348\u001b[0m         \u001b[1;32mreturn\u001b[0m \u001b[0mself\u001b[0m\u001b[1;33m\u001b[0m\u001b[1;33m\u001b[0m\u001b[0m\n",
      "\u001b[1;32mH:\\Python\\envs\\Python\\lib\\site-packages\\sklearn\\ensemble\\_gb.py\u001b[0m in \u001b[0;36mfit\u001b[1;34m(self, X, y, sample_weight, monitor)\u001b[0m\n\u001b[0;32m    502\u001b[0m \u001b[1;33m\u001b[0m\u001b[0m\n\u001b[0;32m    503\u001b[0m         \u001b[1;31m# fit the boosting stages\u001b[0m\u001b[1;33m\u001b[0m\u001b[1;33m\u001b[0m\u001b[1;33m\u001b[0m\u001b[0m\n\u001b[1;32m--> 504\u001b[1;33m         n_stages = self._fit_stages(\n\u001b[0m\u001b[0;32m    505\u001b[0m             \u001b[0mX\u001b[0m\u001b[1;33m,\u001b[0m \u001b[0my\u001b[0m\u001b[1;33m,\u001b[0m \u001b[0mraw_predictions\u001b[0m\u001b[1;33m,\u001b[0m \u001b[0msample_weight\u001b[0m\u001b[1;33m,\u001b[0m \u001b[0mself\u001b[0m\u001b[1;33m.\u001b[0m\u001b[0m_rng\u001b[0m\u001b[1;33m,\u001b[0m \u001b[0mX_val\u001b[0m\u001b[1;33m,\u001b[0m \u001b[0my_val\u001b[0m\u001b[1;33m,\u001b[0m\u001b[1;33m\u001b[0m\u001b[1;33m\u001b[0m\u001b[0m\n\u001b[0;32m    506\u001b[0m             sample_weight_val, begin_at_stage, monitor)\n",
      "\u001b[1;32mH:\\Python\\envs\\Python\\lib\\site-packages\\sklearn\\ensemble\\_gb.py\u001b[0m in \u001b[0;36m_fit_stages\u001b[1;34m(self, X, y, raw_predictions, sample_weight, random_state, X_val, y_val, sample_weight_val, begin_at_stage, monitor)\u001b[0m\n\u001b[0;32m    559\u001b[0m \u001b[1;33m\u001b[0m\u001b[0m\n\u001b[0;32m    560\u001b[0m             \u001b[1;31m# fit next stage of trees\u001b[0m\u001b[1;33m\u001b[0m\u001b[1;33m\u001b[0m\u001b[1;33m\u001b[0m\u001b[0m\n\u001b[1;32m--> 561\u001b[1;33m             raw_predictions = self._fit_stage(\n\u001b[0m\u001b[0;32m    562\u001b[0m                 \u001b[0mi\u001b[0m\u001b[1;33m,\u001b[0m \u001b[0mX\u001b[0m\u001b[1;33m,\u001b[0m \u001b[0my\u001b[0m\u001b[1;33m,\u001b[0m \u001b[0mraw_predictions\u001b[0m\u001b[1;33m,\u001b[0m \u001b[0msample_weight\u001b[0m\u001b[1;33m,\u001b[0m \u001b[0msample_mask\u001b[0m\u001b[1;33m,\u001b[0m\u001b[1;33m\u001b[0m\u001b[1;33m\u001b[0m\u001b[0m\n\u001b[0;32m    563\u001b[0m                 random_state, X_csc, X_csr)\n",
      "\u001b[1;32mH:\\Python\\envs\\Python\\lib\\site-packages\\sklearn\\ensemble\\_gb.py\u001b[0m in \u001b[0;36m_fit_stage\u001b[1;34m(self, i, X, y, raw_predictions, sample_weight, sample_mask, random_state, X_csc, X_csr)\u001b[0m\n\u001b[0;32m    212\u001b[0m \u001b[1;33m\u001b[0m\u001b[0m\n\u001b[0;32m    213\u001b[0m             \u001b[0mX\u001b[0m \u001b[1;33m=\u001b[0m \u001b[0mX_csr\u001b[0m \u001b[1;32mif\u001b[0m \u001b[0mX_csr\u001b[0m \u001b[1;32mis\u001b[0m \u001b[1;32mnot\u001b[0m \u001b[1;32mNone\u001b[0m \u001b[1;32melse\u001b[0m \u001b[0mX\u001b[0m\u001b[1;33m\u001b[0m\u001b[1;33m\u001b[0m\u001b[0m\n\u001b[1;32m--> 214\u001b[1;33m             tree.fit(X, residual, sample_weight=sample_weight,\n\u001b[0m\u001b[0;32m    215\u001b[0m                      check_input=False)\n\u001b[0;32m    216\u001b[0m \u001b[1;33m\u001b[0m\u001b[0m\n",
      "\u001b[1;32mH:\\Python\\envs\\Python\\lib\\site-packages\\sklearn\\tree\\_classes.py\u001b[0m in \u001b[0;36mfit\u001b[1;34m(self, X, y, sample_weight, check_input, X_idx_sorted)\u001b[0m\n\u001b[0;32m   1245\u001b[0m         \"\"\"\n\u001b[0;32m   1246\u001b[0m \u001b[1;33m\u001b[0m\u001b[0m\n\u001b[1;32m-> 1247\u001b[1;33m         super().fit(\n\u001b[0m\u001b[0;32m   1248\u001b[0m             \u001b[0mX\u001b[0m\u001b[1;33m,\u001b[0m \u001b[0my\u001b[0m\u001b[1;33m,\u001b[0m\u001b[1;33m\u001b[0m\u001b[1;33m\u001b[0m\u001b[0m\n\u001b[0;32m   1249\u001b[0m             \u001b[0msample_weight\u001b[0m\u001b[1;33m=\u001b[0m\u001b[0msample_weight\u001b[0m\u001b[1;33m,\u001b[0m\u001b[1;33m\u001b[0m\u001b[1;33m\u001b[0m\u001b[0m\n",
      "\u001b[1;32mH:\\Python\\envs\\Python\\lib\\site-packages\\sklearn\\tree\\_classes.py\u001b[0m in \u001b[0;36mfit\u001b[1;34m(self, X, y, sample_weight, check_input, X_idx_sorted)\u001b[0m\n\u001b[0;32m    387\u001b[0m                                            min_impurity_split)\n\u001b[0;32m    388\u001b[0m \u001b[1;33m\u001b[0m\u001b[0m\n\u001b[1;32m--> 389\u001b[1;33m         \u001b[0mbuilder\u001b[0m\u001b[1;33m.\u001b[0m\u001b[0mbuild\u001b[0m\u001b[1;33m(\u001b[0m\u001b[0mself\u001b[0m\u001b[1;33m.\u001b[0m\u001b[0mtree_\u001b[0m\u001b[1;33m,\u001b[0m \u001b[0mX\u001b[0m\u001b[1;33m,\u001b[0m \u001b[0my\u001b[0m\u001b[1;33m,\u001b[0m \u001b[0msample_weight\u001b[0m\u001b[1;33m)\u001b[0m\u001b[1;33m\u001b[0m\u001b[1;33m\u001b[0m\u001b[0m\n\u001b[0m\u001b[0;32m    390\u001b[0m \u001b[1;33m\u001b[0m\u001b[0m\n\u001b[0;32m    391\u001b[0m         \u001b[1;32mif\u001b[0m \u001b[0mself\u001b[0m\u001b[1;33m.\u001b[0m\u001b[0mn_outputs_\u001b[0m \u001b[1;33m==\u001b[0m \u001b[1;36m1\u001b[0m \u001b[1;32mand\u001b[0m \u001b[0mis_classifier\u001b[0m\u001b[1;33m(\u001b[0m\u001b[0mself\u001b[0m\u001b[1;33m)\u001b[0m\u001b[1;33m:\u001b[0m\u001b[1;33m\u001b[0m\u001b[1;33m\u001b[0m\u001b[0m\n",
      "\u001b[1;31mKeyboardInterrupt\u001b[0m: "
     ]
    }
   ],
   "source": [
    "model_task1_gradient = make_pipeline(StandardScaler(),\n",
    "                                    GradientBoostingClassifier()\n",
    ")\n",
    "for label in labels1:\n",
    "  fit = model_task1_gradient.fit(imputed_data_slope_intersect, ground_truth[label])\n",
    "  probs = fit.predict_proba(imputed_data_slope_intersect)\n",
    "  print(fit )\n",
    "  print(probs)"
   ]
  },
  {
   "cell_type": "code",
   "execution_count": 14,
   "metadata": {
    "colab": {
     "base_uri": "https://localhost:8080/"
    },
    "id": "LhO-w5fNWv3r",
    "outputId": "237a5919-db16-4ab5-d97c-cd88a330b4c2"
   },
   "outputs": [
    {
     "data": {
      "text/plain": [
       "array([[0.92629639, 0.07370361],\n",
       "       [0.92629639, 0.07370361],\n",
       "       [0.92629639, 0.07370361],\n",
       "       ...,\n",
       "       [0.92629639, 0.07370361],\n",
       "       [0.92629639, 0.07370361],\n",
       "       [0.92629639, 0.07370361]])"
      ]
     },
     "execution_count": 14,
     "metadata": {
      "tags": []
     },
     "output_type": "execute_result"
    }
   ],
   "source": [
    "probs[1,:]"
   ]
  },
  {
   "cell_type": "code",
   "execution_count": 14,
   "metadata": {
    "id": "1mbUrY_yYTnn"
   },
   "outputs": [],
   "source": [
    "for label in labels1:\n",
    "  #model_task1 = Ridge(alpha=1e0, fit_intercept=True)\n",
    "  # generated_models.append(deepcopy(model_task1.fit(imputed_data_slope_intersect, ground_truth[label])))\n",
    "    generated_models.append(deepcopy(model_task1_gradient.fit(imputed_data_slope_intersect, ground_truth[label])))"
   ]
  },
  {
   "cell_type": "code",
   "execution_count": 16,
   "metadata": {
    "id": "fyTf5oCo1fE3"
   },
   "outputs": [],
   "source": [
    "labels2 = [\"LABEL_Sepsis\"]"
   ]
  },
  {
   "cell_type": "code",
   "execution_count": null,
   "metadata": {
    "colab": {
     "base_uri": "https://localhost:8080/"
    },
    "id": "1dMBSOIT5JcC",
    "outputId": "45b98ba4-8e29-4115-a203-e5f2838949bf"
   },
   "outputs": [
    {
     "name": "stdout",
     "output_type": "stream",
     "text": [
      "[0.60528422 0.62615497 0.63152265 0.67432257 0.62600434]\n",
      "CPU times: user 344 ms, sys: 529 ms, total: 872 ms\n",
      "Wall time: 122 ms\n"
     ]
    }
   ],
   "source": [
    "%%time\n",
    "#clf = svm.SVR(kernel='linear')\n",
    "model_task2 = Ridge(alpha=1e-3, fit_intercept=False)\n",
    "for label in labels2:\n",
    "  scores = cross_val_score(model_task2, imputed_data_slope_intersect, ground_truth[label], cv=5, scoring='roc_auc')\n",
    "  print(scores)"
   ]
  },
  {
   "cell_type": "code",
   "execution_count": 17,
   "metadata": {
    "colab": {
     "base_uri": "https://localhost:8080/"
    },
    "id": "h_jGHPoN6cp9",
    "outputId": "1016e314-fbdb-4755-be24-62bbd2d6483f"
   },
   "outputs": [
    {
     "name": "stdout",
     "output_type": "stream",
     "text": [
      "[0.67794876 0.70528397 0.7222388  0.73332689 0.69010181]\n",
      "Wall time: 1min\n"
     ]
    }
   ],
   "source": [
    "%%time \n",
    "from sklearn.ensemble import GradientBoostingClassifier\n",
    "model_task2_gradient = GradientBoostingClassifier()\n",
    "for label in labels2:\n",
    "  scores = cross_val_score(model_task2_gradient,imputed_data_slope_intersect, ground_truth[label], cv=5, scoring='roc_auc')\n",
    "  print(scores )"
   ]
  },
  {
   "cell_type": "code",
   "execution_count": 19,
   "metadata": {
    "id": "KjnfnAbfeQNN"
   },
   "outputs": [],
   "source": [
    "for label in labels2:\n",
    "  #model_task2 = Ridge(alpha=1e-3, fit_intercept=False)\n",
    "  # generated_models.append(deepcopy(model_task2.fit(imputed_data_slope_intersect, ground_truth[label])))\n",
    "  generated_models.append(deepcopy(model_task2_gradient.fit(imputed_data_slope_intersect, ground_truth[label])))"
   ]
  },
  {
   "cell_type": "markdown",
   "metadata": {
    "id": "LxG8YWEO1gif"
   },
   "source": [
    "Subtask 3"
   ]
  },
  {
   "cell_type": "code",
   "execution_count": 15,
   "metadata": {
    "id": "W8VDpmTR1h10"
   },
   "outputs": [],
   "source": [
    "labels3 = [\"LABEL_RRate\", \"LABEL_ABPm\", \"LABEL_SpO2\", \"LABEL_Heartrate\"]"
   ]
  },
  {
   "cell_type": "code",
   "execution_count": null,
   "metadata": {
    "colab": {
     "base_uri": "https://localhost:8080/"
    },
    "id": "mSF0FERxv9ip",
    "outputId": "45f5e29f-a7e6-4fea-b1ed-567c15c0df31"
   },
   "outputs": [
    {
     "name": "stdout",
     "output_type": "stream",
     "text": [
      "[0.40894774 0.4127732  0.38678359 0.39499773 0.39439058]\n",
      "[0.59394455 0.61273909 0.61196354 0.55735943 0.58479061]\n",
      "[0.32619909 0.28476361 0.2387217  0.28472182 0.27133392]\n",
      "[0.64062868 0.63574534 0.61505676 0.62174256 0.65007918]\n",
      "Wall time: 511 ms\n"
     ]
    }
   ],
   "source": [
    "%%time\n",
    "#clf = svm.SVR(kernel='linear')\n",
    "model_task3 = Ridge(alpha=5e4, fit_intercept=False)\n",
    "for label in labels3:\n",
    "  scores = cross_val_score(model_task3, imputed_data_slope_intersect, ground_truth[label], cv=5, scoring='r2')\n",
    "  print(scores)"
   ]
  },
  {
   "cell_type": "code",
   "execution_count": 18,
   "metadata": {
    "colab": {
     "base_uri": "https://localhost:8080/"
    },
    "id": "u17L7nZp609i",
    "outputId": "9571ceab-b27e-4c10-a95e-23fc597827ba"
   },
   "outputs": [
    {
     "name": "stdout",
     "output_type": "stream",
     "text": [
      "[0.42609049 0.42320746 0.3961676  0.41429038 0.41443615]\n",
      "[0.60823004 0.62374379 0.62777821 0.57268545 0.60263681]\n",
      "[0.3735219  0.35617012 0.29222881 0.3761474  0.31956473]\n",
      "[0.64565912 0.64016443 0.61749396 0.62646044 0.64891793]\n",
      "Wall time: 12min 59s\n"
     ]
    }
   ],
   "source": [
    "%%time \n",
    "from sklearn.ensemble import RandomForestRegressor\n",
    "model_task3_gradient = RandomForestRegressor()\n",
    "for label in labels3:\n",
    "  scores = cross_val_score(model_task3_gradient,imputed_data_slope_intersect, ground_truth[label], cv=5, scoring='r2')\n",
    "  print(scores )"
   ]
  },
  {
   "cell_type": "code",
   "execution_count": 20,
   "metadata": {
    "id": "mQgw6ddveblg"
   },
   "outputs": [],
   "source": [
    "for label in labels3:\n",
    "  #model_task3 = Ridge(alpha=5e4, fit_intercept=False)\n",
    "  # generated_models.append(deepcopy(model_task3.fit(imputed_data_slope_intersect, ground_truth[label])))\n",
    "  generated_models.append(deepcopy(model_task3_gradient.fit(imputed_data_slope_intersect, ground_truth[label])))"
   ]
  },
  {
   "cell_type": "code",
   "execution_count": 24,
   "metadata": {
    "colab": {
     "base_uri": "https://localhost:8080/"
    },
    "id": "XrCQgYpmfeRR",
    "outputId": "7d7ae9f5-aeae-4d84-fe15-5da559b5bbff"
   },
   "outputs": [
    {
     "name": "stdout",
     "output_type": "stream",
     "text": [
      "(151968, 37)\n"
     ]
    }
   ],
   "source": [
    "print(test_features.shape)\n",
    "num_test_features = test_features.shape[0]\n",
    "num_test_prediction = int(num_test_features/num_hours)\n",
    "\n",
    "imputed_test_features = imputer.transform(test_features)\n",
    "imputed_test_features_slope_intersect = np.zeros((num_test_prediction, num_features*2+1))\n",
    "test_features_id = np.zeros(num_test_prediction)"
   ]
  },
  {
   "cell_type": "code",
   "execution_count": 25,
   "metadata": {
    "colab": {
     "base_uri": "https://localhost:8080/"
    },
    "id": "FriF0_IMUxzc",
    "outputId": "1ce21b71-79ea-4f74-9ba6-e991816256be"
   },
   "outputs": [
    {
     "name": "stdout",
     "output_type": "stream",
     "text": [
      "Wall time: 56.2 s\n"
     ]
    }
   ],
   "source": [
    "%%time\n",
    "for i in range(num_test_prediction):\n",
    "  current_hour = imputed_test_features[num_hours*i:num_hours*(i+1), 1]\n",
    "  test_features_id[i] = imputed_test_features[num_hours*i, 0]\n",
    "  for j in range(num_features):\n",
    "    intersect, slope = Polynomial.fit(current_hour, imputed_test_features[num_hours*i:num_hours*(i+1), j+2], deg=1).coef\n",
    "    imputed_test_features_slope_intersect[i, 0]       = current_hour[-1] # The total time of stay\n",
    "    imputed_test_features_slope_intersect[i, 2*j+1]   = intersect\n",
    "    imputed_test_features_slope_intersect[i, 2*(j+1)] = slope"
   ]
  },
  {
   "cell_type": "code",
   "execution_count": 26,
   "metadata": {
    "colab": {
     "base_uri": "https://localhost:8080/"
    },
    "id": "locAt_ypxrOs",
    "outputId": "22377c53-fbc3-4f69-9ab5-2fb26da14702"
   },
   "outputs": [
    {
     "data": {
      "text/plain": [
       "15"
      ]
     },
     "execution_count": 26,
     "metadata": {
      "tags": []
     },
     "output_type": "execute_result"
    }
   ],
   "source": [
    "len(generated_models)"
   ]
  },
  {
   "cell_type": "code",
   "execution_count": 27,
   "metadata": {
    "id": "HT2bjIFQXeDX"
   },
   "outputs": [],
   "source": [
    "prediction = [test_features_id]\n",
    "for model in generated_models:\n",
    "  prediction.append(model.predict(imputed_test_features_slope_intersect))"
   ]
  },
  {
   "cell_type": "code",
   "execution_count": 28,
   "metadata": {
    "colab": {
     "base_uri": "https://localhost:8080/"
    },
    "id": "0rVj9Rizj0hw",
    "outputId": "8a1e152d-ac94-43cd-be3f-339065f98f84"
   },
   "outputs": [
    {
     "data": {
      "text/plain": [
       "(16, 12664)"
      ]
     },
     "execution_count": 28,
     "metadata": {
      "tags": []
     },
     "output_type": "execute_result"
    }
   ],
   "source": [
    "prediction = np.array(prediction)\n",
    "prediction.shape"
   ]
  },
  {
   "cell_type": "code",
   "execution_count": 33,
   "metadata": {
    "id": "URpKXwNhj3sb"
   },
   "outputs": [],
   "source": [
    "pd.DataFrame(prediction.T, columns=['pid'] + labels1 + labels2 + labels3).to_csv('prediction.zip', index=False, float_format='%.3f', compression='zip')"
   ]
  },
  {
   "cell_type": "code",
   "execution_count": 32,
   "metadata": {
    "colab": {
     "base_uri": "https://localhost:8080/"
    },
    "id": "PyflHldrlhI3",
    "outputId": "604e9acc-f450-4396-94da-e086d4f9e46d"
   },
   "outputs": [
    {
     "data": {
      "text/plain": [
       "array([1.0241e+04, 1.0000e+00, 0.0000e+00, 0.0000e+00, 0.0000e+00,\n",
       "       0.0000e+00, 0.0000e+00, 1.0000e+00, 0.0000e+00, 0.0000e+00,\n",
       "       0.0000e+00, 0.0000e+00, 1.5428e+01, 8.5890e+01, 9.8183e+01,\n",
       "       7.5599e+01])"
      ]
     },
     "execution_count": 32,
     "metadata": {
      "tags": []
     },
     "output_type": "execute_result"
    }
   ],
   "source": [
    "prediction.T[100]"
   ]
  },
  {
   "cell_type": "code",
   "execution_count": 35,
   "metadata": {
    "id": "W1yQPY7oPjdR"
   },
   "outputs": [],
   "source": [
    "pd.DataFrame(prediction.T, columns=['pid'] + labels1 + labels2 + labels3).to_csv('prediction.csv', index=False, float_format='%.3f')"
   ]
  },
  {
   "cell_type": "code",
   "execution_count": null,
   "metadata": {
    "id": "4XV-ADKOtViH"
   },
   "outputs": [],
   "source": []
  }
 ],
 "metadata": {
  "colab": {
   "collapsed_sections": [],
   "name": "Task2_meow_meow_meow",
   "provenance": []
  },
  "kernelspec": {
   "display_name": "Python 3",
   "language": "python",
   "name": "python3"
  },
  "language_info": {
   "codemirror_mode": {
    "name": "ipython",
    "version": 3
   },
   "file_extension": ".py",
   "mimetype": "text/x-python",
   "name": "python",
   "nbconvert_exporter": "python",
   "pygments_lexer": "ipython3",
   "version": "3.8.5"
  },
  "latex_envs": {
   "LaTeX_envs_menu_present": true,
   "autoclose": false,
   "autocomplete": true,
   "bibliofile": "biblio.bib",
   "cite_by": "apalike",
   "current_citInitial": 1,
   "eqLabelWithNumbers": true,
   "eqNumInitial": 1,
   "hotkeys": {
    "equation": "Ctrl-E",
    "itemize": "Ctrl-I"
   },
   "labels_anchors": false,
   "latex_user_defs": false,
   "report_style_numbering": false,
   "user_envs_cfg": false
  },
  "toc": {
   "base_numbering": 1,
   "nav_menu": {},
   "number_sections": true,
   "sideBar": true,
   "skip_h1_title": false,
   "title_cell": "Table of Contents",
   "title_sidebar": "Contents",
   "toc_cell": false,
   "toc_position": {},
   "toc_section_display": true,
   "toc_window_display": false
  },
  "varInspector": {
   "cols": {
    "lenName": 16,
    "lenType": 16,
    "lenVar": 40
   },
   "kernels_config": {
    "python": {
     "delete_cmd_postfix": "",
     "delete_cmd_prefix": "del ",
     "library": "var_list.py",
     "varRefreshCmd": "print(var_dic_list())"
    },
    "r": {
     "delete_cmd_postfix": ") ",
     "delete_cmd_prefix": "rm(",
     "library": "var_list.r",
     "varRefreshCmd": "cat(var_dic_list()) "
    }
   },
   "types_to_exclude": [
    "module",
    "function",
    "builtin_function_or_method",
    "instance",
    "_Feature"
   ],
   "window_display": false
  }
 },
 "nbformat": 4,
 "nbformat_minor": 1
}
