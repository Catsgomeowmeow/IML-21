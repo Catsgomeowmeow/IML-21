{
 "cells": [
  {
   "cell_type": "code",
   "execution_count": 86,
   "metadata": {
    "ExecuteTime": {
     "end_time": "2021-04-16T08:25:29.098860Z",
     "start_time": "2021-04-16T08:25:26.304694Z"
    }
   },
   "outputs": [],
   "source": [
    "import numpy as np\n",
    "import pandas as pd \n",
    "from sklearn.impute import SimpleImputer"
   ]
  },
  {
   "cell_type": "code",
   "execution_count": 29,
   "metadata": {
    "ExecuteTime": {
     "end_time": "2021-04-15T14:24:46.643653Z",
     "start_time": "2021-04-15T14:24:46.005391Z"
    }
   },
   "outputs": [],
   "source": [
    "train_features = pd.read_csv('train_features.csv')\n",
    "labels = pd.read_csv('train_labels.csv')\n",
    "test_features = pd.read_csv('test_features.csv')"
   ]
  },
  {
   "cell_type": "code",
   "execution_count": 54,
   "metadata": {
    "ExecuteTime": {
     "end_time": "2021-04-16T07:57:34.050095Z",
     "start_time": "2021-04-16T07:57:34.030097Z"
    }
   },
   "outputs": [
    {
     "name": "stdout",
     "output_type": "stream",
     "text": [
      "number of validation patients:18995\n",
      "number of prediction patients:12664\n"
     ]
    }
   ],
   "source": [
    "pids = train_features[\"pid\"].unique().astype(np.int)\n",
    "print('number of validation patients:{}'.format(pids.size))\n",
    "print('number of prediction patients:{}'.format(test_features.pid.unique().size))"
   ]
  },
  {
   "cell_type": "markdown",
   "metadata": {},
   "source": [
    "# Preprocessing"
   ]
  },
  {
   "cell_type": "code",
   "execution_count": 83,
   "metadata": {
    "ExecuteTime": {
     "end_time": "2021-04-16T08:09:38.900029Z",
     "start_time": "2021-04-16T08:09:38.690024Z"
    }
   },
   "outputs": [],
   "source": [
    "training_mean = {}\n",
    "training_std = {}\n",
    "training_med = {}\n",
    "for key in train_features:\n",
    "    training_mean[key]=np.nanmean(train_features[key])\n",
    "    training_std[key]=np.nanstd(train_features[key])\n",
    "    training_med[key]=np.nanmedian(train_features[key])"
   ]
  },
  {
   "cell_type": "code",
   "execution_count": 93,
   "metadata": {
    "ExecuteTime": {
     "end_time": "2021-04-16T08:27:04.231729Z",
     "start_time": "2021-04-16T08:27:03.896809Z"
    }
   },
   "outputs": [],
   "source": [
    "#Fill in the missing data using an imputer here i just use the mean data\n",
    "imputer = SimpleImputer(strategy='mean').fit(train_features)\n",
    "imputed_data= imputer.transform(train_features)"
   ]
  },
  {
   "cell_type": "code",
   "execution_count": 94,
   "metadata": {
    "ExecuteTime": {
     "end_time": "2021-04-16T08:27:07.662099Z",
     "start_time": "2021-04-16T08:27:07.648099Z"
    }
   },
   "outputs": [
    {
     "data": {
      "text/plain": [
       "array([[1.00000000e+00, 3.00000000e+00, 3.40000000e+01, ...,\n",
       "        7.26923994e+00, 1.42000000e+02, 7.33000000e+00],\n",
       "       [1.00000000e+00, 4.00000000e+00, 3.40000000e+01, ...,\n",
       "        7.26923994e+00, 1.25000000e+02, 7.33000000e+00],\n",
       "       [1.00000000e+00, 5.00000000e+00, 3.40000000e+01, ...,\n",
       "        7.26923994e+00, 1.10000000e+02, 7.37000000e+00],\n",
       "       ...,\n",
       "       [9.99900000e+03, 1.00000000e+01, 8.50000000e+01, ...,\n",
       "        7.26923994e+00, 1.38000000e+02, 7.36723149e+00],\n",
       "       [9.99900000e+03, 1.10000000e+01, 8.50000000e+01, ...,\n",
       "        7.26923994e+00, 1.25000000e+02, 7.36723149e+00],\n",
       "       [9.99900000e+03, 1.20000000e+01, 8.50000000e+01, ...,\n",
       "        7.26923994e+00, 1.28000000e+02, 7.36723149e+00]])"
      ]
     },
     "execution_count": 94,
     "metadata": {},
     "output_type": "execute_result"
    }
   ],
   "source": []
  }
 ],
 "metadata": {
  "hide_input": false,
  "kernelspec": {
   "display_name": "Python 3",
   "language": "python",
   "name": "python3"
  },
  "language_info": {
   "codemirror_mode": {
    "name": "ipython",
    "version": 3
   },
   "file_extension": ".py",
   "mimetype": "text/x-python",
   "name": "python",
   "nbconvert_exporter": "python",
   "pygments_lexer": "ipython3",
   "version": "3.7.6"
  },
  "latex_envs": {
   "LaTeX_envs_menu_present": true,
   "autoclose": false,
   "autocomplete": true,
   "bibliofile": "biblio.bib",
   "cite_by": "apalike",
   "current_citInitial": 1,
   "eqLabelWithNumbers": true,
   "eqNumInitial": 1,
   "hotkeys": {
    "equation": "Ctrl-E",
    "itemize": "Ctrl-I"
   },
   "labels_anchors": false,
   "latex_user_defs": false,
   "report_style_numbering": false,
   "user_envs_cfg": false
  },
  "varInspector": {
   "cols": {
    "lenName": 16,
    "lenType": 16,
    "lenVar": 40
   },
   "kernels_config": {
    "python": {
     "delete_cmd_postfix": "",
     "delete_cmd_prefix": "del ",
     "library": "var_list.py",
     "varRefreshCmd": "print(var_dic_list())"
    },
    "r": {
     "delete_cmd_postfix": ") ",
     "delete_cmd_prefix": "rm(",
     "library": "var_list.r",
     "varRefreshCmd": "cat(var_dic_list()) "
    }
   },
   "types_to_exclude": [
    "module",
    "function",
    "builtin_function_or_method",
    "instance",
    "_Feature"
   ],
   "window_display": false
  }
 },
 "nbformat": 4,
 "nbformat_minor": 4
}
