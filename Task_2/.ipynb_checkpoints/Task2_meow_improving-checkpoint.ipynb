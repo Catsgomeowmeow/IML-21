{
 "cells": [
  {
   "cell_type": "code",
   "execution_count": 1,
   "metadata": {
    "ExecuteTime": {
     "end_time": "2021-04-21T15:21:03.203368Z",
     "start_time": "2021-04-21T15:21:02.619359Z"
    },
    "id": "UWAPx6FenY1-"
   },
   "outputs": [],
   "source": [
    "import numpy as np\n",
    "from numpy.polynomial import Polynomial\n",
    "import pandas as pd \n",
    "from sklearn.impute import SimpleImputer\n",
    "from sklearn import svm\n",
    "from sklearn.linear_model import Ridge\n",
    "from sklearn.model_selection import cross_val_score\n",
    "\n",
    "from copy import deepcopy"
   ]
  },
  {
   "cell_type": "code",
   "execution_count": 3,
   "metadata": {
    "ExecuteTime": {
     "end_time": "2021-04-21T15:21:18.864914Z",
     "start_time": "2021-04-21T15:21:18.178881Z"
    },
    "id": "JE8PIX7zne94"
   },
   "outputs": [],
   "source": [
    "train_features = pd.read_csv('../Task2/train_features.csv')\n",
    "ground_truth = pd.read_csv('../Task2/train_labels.csv')\n",
    "test_features = pd.read_csv('../Task2/test_features.csv')"
   ]
  },
  {
   "cell_type": "code",
   "execution_count": 4,
   "metadata": {
    "ExecuteTime": {
     "end_time": "2021-04-21T15:21:25.254643Z",
     "start_time": "2021-04-21T15:21:25.242645Z"
    },
    "colab": {
     "base_uri": "https://localhost:8080/"
    },
    "id": "LA74iN7qnr5m",
    "outputId": "08e21894-9802-4dd0-8c4f-4552cd2f9f04"
   },
   "outputs": [
    {
     "name": "stdout",
     "output_type": "stream",
     "text": [
      "number of validation patients:18995\n",
      "number of prediction patients:12664\n"
     ]
    }
   ],
   "source": [
    "pids = train_features[\"pid\"].unique().astype(np.int)\n",
    "print('number of validation patients:{}'.format(pids.size))\n",
    "print('number of prediction patients:{}'.format(test_features.pid.unique().size))"
   ]
  },
  {
   "cell_type": "markdown",
   "metadata": {
    "id": "1CJ4isvL0tP0"
   },
   "source": [
    "Pre Processing"
   ]
  },
  {
   "cell_type": "code",
   "execution_count": 5,
   "metadata": {
    "ExecuteTime": {
     "end_time": "2021-04-21T15:21:27.185122Z",
     "start_time": "2021-04-21T15:21:26.998112Z"
    },
    "id": "l8Q4Y4I60kGH"
   },
   "outputs": [],
   "source": [
    "training_mean = {}\n",
    "training_std = {}\n",
    "training_med = {}\n",
    "for key in train_features:\n",
    "    #print(key)\n",
    "    training_mean[key]=np.nanmean(train_features[key])\n",
    "    training_std[key]=np.nanstd(train_features[key])\n",
    "    training_med[key]=np.nanmedian(train_features[key])"
   ]
  },
  {
   "cell_type": "code",
   "execution_count": 6,
   "metadata": {
    "ExecuteTime": {
     "end_time": "2021-04-21T15:21:27.804163Z",
     "start_time": "2021-04-21T15:21:27.719137Z"
    },
    "colab": {
     "base_uri": "https://localhost:8080/",
     "height": 419
    },
    "id": "Kf1Kw61M2O1G",
    "outputId": "22b82b79-289f-4c1f-8bf7-c3f5e2ec6ad8"
   },
   "outputs": [
    {
     "data": {
      "text/html": [
       "<div>\n",
       "<style scoped>\n",
       "    .dataframe tbody tr th:only-of-type {\n",
       "        vertical-align: middle;\n",
       "    }\n",
       "\n",
       "    .dataframe tbody tr th {\n",
       "        vertical-align: top;\n",
       "    }\n",
       "\n",
       "    .dataframe thead th {\n",
       "        text-align: right;\n",
       "    }\n",
       "</style>\n",
       "<table border=\"1\" class=\"dataframe\">\n",
       "  <thead>\n",
       "    <tr style=\"text-align: right;\">\n",
       "      <th></th>\n",
       "      <th>pid</th>\n",
       "      <th>Time</th>\n",
       "      <th>Age</th>\n",
       "      <th>EtCO2</th>\n",
       "      <th>PTT</th>\n",
       "      <th>BUN</th>\n",
       "      <th>Lactate</th>\n",
       "      <th>Temp</th>\n",
       "      <th>Hgb</th>\n",
       "      <th>HCO3</th>\n",
       "      <th>...</th>\n",
       "      <th>Alkalinephos</th>\n",
       "      <th>SpO2</th>\n",
       "      <th>Bilirubin_direct</th>\n",
       "      <th>Chloride</th>\n",
       "      <th>Hct</th>\n",
       "      <th>Heartrate</th>\n",
       "      <th>Bilirubin_total</th>\n",
       "      <th>TroponinI</th>\n",
       "      <th>ABPs</th>\n",
       "      <th>pH</th>\n",
       "    </tr>\n",
       "  </thead>\n",
       "  <tbody>\n",
       "    <tr>\n",
       "      <th>0</th>\n",
       "      <td>1</td>\n",
       "      <td>3</td>\n",
       "      <td>34.0</td>\n",
       "      <td>NaN</td>\n",
       "      <td>NaN</td>\n",
       "      <td>12.0</td>\n",
       "      <td>NaN</td>\n",
       "      <td>36.0</td>\n",
       "      <td>8.7</td>\n",
       "      <td>24.0</td>\n",
       "      <td>...</td>\n",
       "      <td>NaN</td>\n",
       "      <td>100.0</td>\n",
       "      <td>NaN</td>\n",
       "      <td>114.0</td>\n",
       "      <td>24.6</td>\n",
       "      <td>94.0</td>\n",
       "      <td>NaN</td>\n",
       "      <td>NaN</td>\n",
       "      <td>142.0</td>\n",
       "      <td>7.33</td>\n",
       "    </tr>\n",
       "    <tr>\n",
       "      <th>1</th>\n",
       "      <td>1</td>\n",
       "      <td>4</td>\n",
       "      <td>34.0</td>\n",
       "      <td>NaN</td>\n",
       "      <td>NaN</td>\n",
       "      <td>NaN</td>\n",
       "      <td>NaN</td>\n",
       "      <td>36.0</td>\n",
       "      <td>NaN</td>\n",
       "      <td>NaN</td>\n",
       "      <td>...</td>\n",
       "      <td>NaN</td>\n",
       "      <td>100.0</td>\n",
       "      <td>NaN</td>\n",
       "      <td>NaN</td>\n",
       "      <td>NaN</td>\n",
       "      <td>99.0</td>\n",
       "      <td>NaN</td>\n",
       "      <td>NaN</td>\n",
       "      <td>125.0</td>\n",
       "      <td>7.33</td>\n",
       "    </tr>\n",
       "    <tr>\n",
       "      <th>2</th>\n",
       "      <td>1</td>\n",
       "      <td>5</td>\n",
       "      <td>34.0</td>\n",
       "      <td>NaN</td>\n",
       "      <td>NaN</td>\n",
       "      <td>NaN</td>\n",
       "      <td>NaN</td>\n",
       "      <td>36.0</td>\n",
       "      <td>NaN</td>\n",
       "      <td>NaN</td>\n",
       "      <td>...</td>\n",
       "      <td>NaN</td>\n",
       "      <td>100.0</td>\n",
       "      <td>NaN</td>\n",
       "      <td>NaN</td>\n",
       "      <td>NaN</td>\n",
       "      <td>92.0</td>\n",
       "      <td>NaN</td>\n",
       "      <td>NaN</td>\n",
       "      <td>110.0</td>\n",
       "      <td>7.37</td>\n",
       "    </tr>\n",
       "    <tr>\n",
       "      <th>3</th>\n",
       "      <td>1</td>\n",
       "      <td>6</td>\n",
       "      <td>34.0</td>\n",
       "      <td>NaN</td>\n",
       "      <td>NaN</td>\n",
       "      <td>NaN</td>\n",
       "      <td>NaN</td>\n",
       "      <td>37.0</td>\n",
       "      <td>NaN</td>\n",
       "      <td>NaN</td>\n",
       "      <td>...</td>\n",
       "      <td>NaN</td>\n",
       "      <td>100.0</td>\n",
       "      <td>NaN</td>\n",
       "      <td>NaN</td>\n",
       "      <td>NaN</td>\n",
       "      <td>88.0</td>\n",
       "      <td>NaN</td>\n",
       "      <td>NaN</td>\n",
       "      <td>104.0</td>\n",
       "      <td>7.37</td>\n",
       "    </tr>\n",
       "    <tr>\n",
       "      <th>4</th>\n",
       "      <td>1</td>\n",
       "      <td>7</td>\n",
       "      <td>34.0</td>\n",
       "      <td>NaN</td>\n",
       "      <td>NaN</td>\n",
       "      <td>NaN</td>\n",
       "      <td>NaN</td>\n",
       "      <td>NaN</td>\n",
       "      <td>NaN</td>\n",
       "      <td>NaN</td>\n",
       "      <td>...</td>\n",
       "      <td>NaN</td>\n",
       "      <td>100.0</td>\n",
       "      <td>NaN</td>\n",
       "      <td>NaN</td>\n",
       "      <td>22.4</td>\n",
       "      <td>81.0</td>\n",
       "      <td>NaN</td>\n",
       "      <td>NaN</td>\n",
       "      <td>100.0</td>\n",
       "      <td>7.41</td>\n",
       "    </tr>\n",
       "    <tr>\n",
       "      <th>...</th>\n",
       "      <td>...</td>\n",
       "      <td>...</td>\n",
       "      <td>...</td>\n",
       "      <td>...</td>\n",
       "      <td>...</td>\n",
       "      <td>...</td>\n",
       "      <td>...</td>\n",
       "      <td>...</td>\n",
       "      <td>...</td>\n",
       "      <td>...</td>\n",
       "      <td>...</td>\n",
       "      <td>...</td>\n",
       "      <td>...</td>\n",
       "      <td>...</td>\n",
       "      <td>...</td>\n",
       "      <td>...</td>\n",
       "      <td>...</td>\n",
       "      <td>...</td>\n",
       "      <td>...</td>\n",
       "      <td>...</td>\n",
       "      <td>...</td>\n",
       "    </tr>\n",
       "    <tr>\n",
       "      <th>227935</th>\n",
       "      <td>9999</td>\n",
       "      <td>8</td>\n",
       "      <td>85.0</td>\n",
       "      <td>NaN</td>\n",
       "      <td>NaN</td>\n",
       "      <td>NaN</td>\n",
       "      <td>NaN</td>\n",
       "      <td>NaN</td>\n",
       "      <td>NaN</td>\n",
       "      <td>NaN</td>\n",
       "      <td>...</td>\n",
       "      <td>NaN</td>\n",
       "      <td>NaN</td>\n",
       "      <td>NaN</td>\n",
       "      <td>NaN</td>\n",
       "      <td>NaN</td>\n",
       "      <td>80.0</td>\n",
       "      <td>NaN</td>\n",
       "      <td>NaN</td>\n",
       "      <td>110.0</td>\n",
       "      <td>NaN</td>\n",
       "    </tr>\n",
       "    <tr>\n",
       "      <th>227936</th>\n",
       "      <td>9999</td>\n",
       "      <td>9</td>\n",
       "      <td>85.0</td>\n",
       "      <td>NaN</td>\n",
       "      <td>NaN</td>\n",
       "      <td>NaN</td>\n",
       "      <td>NaN</td>\n",
       "      <td>NaN</td>\n",
       "      <td>NaN</td>\n",
       "      <td>NaN</td>\n",
       "      <td>...</td>\n",
       "      <td>NaN</td>\n",
       "      <td>NaN</td>\n",
       "      <td>NaN</td>\n",
       "      <td>NaN</td>\n",
       "      <td>NaN</td>\n",
       "      <td>83.0</td>\n",
       "      <td>NaN</td>\n",
       "      <td>NaN</td>\n",
       "      <td>123.0</td>\n",
       "      <td>NaN</td>\n",
       "    </tr>\n",
       "    <tr>\n",
       "      <th>227937</th>\n",
       "      <td>9999</td>\n",
       "      <td>10</td>\n",
       "      <td>85.0</td>\n",
       "      <td>NaN</td>\n",
       "      <td>NaN</td>\n",
       "      <td>NaN</td>\n",
       "      <td>NaN</td>\n",
       "      <td>36.0</td>\n",
       "      <td>NaN</td>\n",
       "      <td>NaN</td>\n",
       "      <td>...</td>\n",
       "      <td>NaN</td>\n",
       "      <td>98.0</td>\n",
       "      <td>NaN</td>\n",
       "      <td>NaN</td>\n",
       "      <td>NaN</td>\n",
       "      <td>80.0</td>\n",
       "      <td>NaN</td>\n",
       "      <td>NaN</td>\n",
       "      <td>138.0</td>\n",
       "      <td>NaN</td>\n",
       "    </tr>\n",
       "    <tr>\n",
       "      <th>227938</th>\n",
       "      <td>9999</td>\n",
       "      <td>11</td>\n",
       "      <td>85.0</td>\n",
       "      <td>NaN</td>\n",
       "      <td>NaN</td>\n",
       "      <td>NaN</td>\n",
       "      <td>NaN</td>\n",
       "      <td>NaN</td>\n",
       "      <td>10.2</td>\n",
       "      <td>NaN</td>\n",
       "      <td>...</td>\n",
       "      <td>NaN</td>\n",
       "      <td>98.0</td>\n",
       "      <td>NaN</td>\n",
       "      <td>NaN</td>\n",
       "      <td>31.0</td>\n",
       "      <td>75.0</td>\n",
       "      <td>NaN</td>\n",
       "      <td>NaN</td>\n",
       "      <td>125.0</td>\n",
       "      <td>NaN</td>\n",
       "    </tr>\n",
       "    <tr>\n",
       "      <th>227939</th>\n",
       "      <td>9999</td>\n",
       "      <td>12</td>\n",
       "      <td>85.0</td>\n",
       "      <td>NaN</td>\n",
       "      <td>NaN</td>\n",
       "      <td>NaN</td>\n",
       "      <td>NaN</td>\n",
       "      <td>NaN</td>\n",
       "      <td>NaN</td>\n",
       "      <td>NaN</td>\n",
       "      <td>...</td>\n",
       "      <td>NaN</td>\n",
       "      <td>NaN</td>\n",
       "      <td>NaN</td>\n",
       "      <td>NaN</td>\n",
       "      <td>NaN</td>\n",
       "      <td>79.0</td>\n",
       "      <td>NaN</td>\n",
       "      <td>NaN</td>\n",
       "      <td>128.0</td>\n",
       "      <td>NaN</td>\n",
       "    </tr>\n",
       "  </tbody>\n",
       "</table>\n",
       "<p>227940 rows × 37 columns</p>\n",
       "</div>"
      ],
      "text/plain": [
       "         pid  Time   Age  EtCO2  PTT   BUN  Lactate  Temp   Hgb  HCO3  ...  \\\n",
       "0          1     3  34.0    NaN  NaN  12.0      NaN  36.0   8.7  24.0  ...   \n",
       "1          1     4  34.0    NaN  NaN   NaN      NaN  36.0   NaN   NaN  ...   \n",
       "2          1     5  34.0    NaN  NaN   NaN      NaN  36.0   NaN   NaN  ...   \n",
       "3          1     6  34.0    NaN  NaN   NaN      NaN  37.0   NaN   NaN  ...   \n",
       "4          1     7  34.0    NaN  NaN   NaN      NaN   NaN   NaN   NaN  ...   \n",
       "...      ...   ...   ...    ...  ...   ...      ...   ...   ...   ...  ...   \n",
       "227935  9999     8  85.0    NaN  NaN   NaN      NaN   NaN   NaN   NaN  ...   \n",
       "227936  9999     9  85.0    NaN  NaN   NaN      NaN   NaN   NaN   NaN  ...   \n",
       "227937  9999    10  85.0    NaN  NaN   NaN      NaN  36.0   NaN   NaN  ...   \n",
       "227938  9999    11  85.0    NaN  NaN   NaN      NaN   NaN  10.2   NaN  ...   \n",
       "227939  9999    12  85.0    NaN  NaN   NaN      NaN   NaN   NaN   NaN  ...   \n",
       "\n",
       "        Alkalinephos   SpO2  Bilirubin_direct  Chloride   Hct  Heartrate  \\\n",
       "0                NaN  100.0               NaN     114.0  24.6       94.0   \n",
       "1                NaN  100.0               NaN       NaN   NaN       99.0   \n",
       "2                NaN  100.0               NaN       NaN   NaN       92.0   \n",
       "3                NaN  100.0               NaN       NaN   NaN       88.0   \n",
       "4                NaN  100.0               NaN       NaN  22.4       81.0   \n",
       "...              ...    ...               ...       ...   ...        ...   \n",
       "227935           NaN    NaN               NaN       NaN   NaN       80.0   \n",
       "227936           NaN    NaN               NaN       NaN   NaN       83.0   \n",
       "227937           NaN   98.0               NaN       NaN   NaN       80.0   \n",
       "227938           NaN   98.0               NaN       NaN  31.0       75.0   \n",
       "227939           NaN    NaN               NaN       NaN   NaN       79.0   \n",
       "\n",
       "        Bilirubin_total  TroponinI   ABPs    pH  \n",
       "0                   NaN        NaN  142.0  7.33  \n",
       "1                   NaN        NaN  125.0  7.33  \n",
       "2                   NaN        NaN  110.0  7.37  \n",
       "3                   NaN        NaN  104.0  7.37  \n",
       "4                   NaN        NaN  100.0  7.41  \n",
       "...                 ...        ...    ...   ...  \n",
       "227935              NaN        NaN  110.0   NaN  \n",
       "227936              NaN        NaN  123.0   NaN  \n",
       "227937              NaN        NaN  138.0   NaN  \n",
       "227938              NaN        NaN  125.0   NaN  \n",
       "227939              NaN        NaN  128.0   NaN  \n",
       "\n",
       "[227940 rows x 37 columns]"
      ]
     },
     "execution_count": 6,
     "metadata": {},
     "output_type": "execute_result"
    }
   ],
   "source": [
    "train_features"
   ]
  },
  {
   "cell_type": "code",
   "execution_count": 7,
   "metadata": {
    "ExecuteTime": {
     "end_time": "2021-04-21T15:21:30.028325Z",
     "start_time": "2021-04-21T15:21:29.278161Z"
    },
    "id": "6rEGSvJD0yUs"
   },
   "outputs": [],
   "source": [
    "#Fill in the missing data using an imputer here i just use the median data\n",
    "imputer = SimpleImputer(strategy='median').fit(train_features)\n",
    "imputed_data= imputer.transform(train_features)"
   ]
  },
  {
   "cell_type": "markdown",
   "metadata": {
    "id": "fTgAPH5s1RJU"
   },
   "source": [
    "Subtask 1"
   ]
  },
  {
   "cell_type": "code",
   "execution_count": 8,
   "metadata": {
    "ExecuteTime": {
     "end_time": "2021-04-21T15:21:30.314448Z",
     "start_time": "2021-04-21T15:21:30.297357Z"
    },
    "id": "KEJWer5MgRca"
   },
   "outputs": [],
   "source": [
    "labels1 = [\n",
    "    \"LABEL_BaseExcess\",\n",
    "    \"LABEL_Fibrinogen\",\n",
    "    \"LABEL_AST\",\n",
    "    \"LABEL_Alkalinephos\",\n",
    "    \"LABEL_Bilirubin_total\",\n",
    "    \"LABEL_Lactate\",\n",
    "    \"LABEL_TroponinI\",\n",
    "    \"LABEL_SaO2\",\n",
    "    \"LABEL_Bilirubin_direct\",\n",
    "    \"LABEL_EtCO2\"\n",
    "]\n",
    "ytrain = ground_truth[labels1].to_numpy()"
   ]
  },
  {
   "cell_type": "code",
   "execution_count": null,
   "metadata": {
    "id": "7RdbtEnLEVkV"
   },
   "outputs": [],
   "source": [
    "#svc = svm.LinearSVC(C=1)"
   ]
  },
  {
   "cell_type": "code",
   "execution_count": null,
   "metadata": {
    "id": "ARe2XUFKp1YD"
   },
   "outputs": [],
   "source": [
    "# for i,label in enumerate(ground_truth):\n",
    "#   estimator = Pipline([('imputer',Imputer(missing_values = np.nan, strategy = 'median'])),\n",
    "#                       ('')\n",
    "#   scores = "
   ]
  },
  {
   "cell_type": "code",
   "execution_count": null,
   "metadata": {
    "id": "CuPTNkq6kXSg"
   },
   "outputs": [],
   "source": [
    "# for i,label in enumerate(ground_truth):\n",
    "#   svc.fit(imputed_data,ytrain[:,i])"
   ]
  },
  {
   "cell_type": "code",
   "execution_count": 9,
   "metadata": {
    "ExecuteTime": {
     "end_time": "2021-04-21T15:21:33.010486Z",
     "start_time": "2021-04-21T15:21:32.997487Z"
    },
    "colab": {
     "base_uri": "https://localhost:8080/"
    },
    "id": "2-jUs2vdMhd4",
    "outputId": "def76090-4851-4b05-b037-eb0149607f69"
   },
   "outputs": [
    {
     "name": "stdout",
     "output_type": "stream",
     "text": [
      "(18995, 16)\n",
      "(227940, 37)\n"
     ]
    },
    {
     "data": {
      "text/plain": [
       "(18995, 106)"
      ]
     },
     "execution_count": 9,
     "metadata": {},
     "output_type": "execute_result"
    }
   ],
   "source": [
    "print(ground_truth.shape)\n",
    "print(imputed_data.shape)\n",
    "num_ground_truth = ground_truth.shape[0]\n",
    "num_features = imputed_data.shape[1] - 2\n",
    "num_hours = 12\n",
    "imputed_data_slope_intersect = np.zeros((num_ground_truth, num_features*3+1))\n",
    "imputed_data_slope_intersect.shape"
   ]
  },
  {
   "cell_type": "code",
   "execution_count": null,
   "metadata": {
    "ExecuteTime": {
     "start_time": "2021-04-21T15:21:34.661Z"
    },
    "colab": {
     "base_uri": "https://localhost:8080/"
    },
    "id": "Gh1VJqLHQnvI",
    "outputId": "0aab6dbc-beca-4e30-d205-419f5f1c15d2"
   },
   "outputs": [],
   "source": [
    "%%time\n",
    "for i in range(num_ground_truth):\n",
    "  current_hour = imputed_data[num_hours*i:num_hours*(i+1), 1]\n",
    "  for j in range(num_features):\n",
    "    intersect, slope = Polynomial.fit(current_hour, imputed_data[num_hours*i:num_hours*(i+1), j+2], deg=1).coef\n",
    "    imputed_data_slope_intersect[i, 0]       = current_hour[-1] # The total time of stay\n",
    "    imputed_data_slope_intersect[i, 3*j+1]   = np.max(imputed_data[num_hours*i:num_hours*(i+1), j+2]) #intersect\n",
    "    imputed_data_slope_intersect[i, 3*j+2]   = slope\n",
    "    imputed_data_slope_intersect[i, 3*j+3]   = np.var(imputed_data[num_hours*i:num_hours*(i+1), j+2])"
   ]
  },
  {
   "cell_type": "code",
   "execution_count": null,
   "metadata": {
    "colab": {
     "base_uri": "https://localhost:8080/"
    },
    "id": "9TIyOSi6gXzz",
    "outputId": "4882e33d-c053-428e-8a65-bdbb8f21d606"
   },
   "outputs": [
    {
     "name": "stdout",
     "output_type": "stream",
     "text": [
      "[0.87690145 0.87376319 0.86923956 0.87362845 0.87776692]\n",
      "[0.77130329 0.77517541 0.75308637 0.750985   0.7845481 ]\n",
      "[0.70804027 0.71914376 0.69072633 0.70567522 0.70559358]\n",
      "[0.711371   0.72412556 0.692805   0.7090757  0.70818751]\n",
      "[0.70811414 0.71920281 0.69801468 0.70279488 0.70666273]\n",
      "[0.76923962 0.77873886 0.75938378 0.76549589 0.74902116]\n",
      "[0.81805291 0.80469867 0.79263754 0.82086365 0.79331542]\n",
      "[0.81351077 0.80213855 0.78854654 0.7822608  0.80918147]\n",
      "[0.7621977  0.75160809 0.67548207 0.69205899 0.76670807]\n",
      "[0.86629335 0.87728869 0.83485634 0.83806794 0.85415649]\n",
      "0.7716346854091994\n",
      "CPU times: user 4.45 s, sys: 6.9 s, total: 11.3 s\n",
      "Wall time: 1.81 s\n"
     ]
    }
   ],
   "source": [
    "%%time\n",
    "#clf = svm.SVR(kernel='linear')\n",
    "model_task1 = Ridge(alpha=1e0, fit_intercept=True)\n",
    "\n",
    "mean_score = []\n",
    "for label in labels1:\n",
    "  scores = cross_val_score(model_task1, imputed_data_slope_intersect, ground_truth[label], cv=5, scoring='roc_auc')\n",
    "  print(scores)\n",
    "  mean_score.append(np.mean(scores))\n",
    "print(np.mean(mean_score))"
   ]
  },
  {
   "cell_type": "code",
   "execution_count": null,
   "metadata": {
    "id": "GNFiWo9L1NBP"
   },
   "outputs": [],
   "source": [
    "%%time \n",
    "from sklearn.ensemble import GradientBoostingRegressor\n",
    "model_task1_gradient = GradientBoostingRegressor()\n",
    "for label in labels1:\n",
    "  scores = cross_val_score(model_task1_gradient,imputed_data_slope_intersect, ground_truth[label], cv=5, scoring='roc_auc')\n",
    "  print(scores )"
   ]
  },
  {
   "cell_type": "code",
   "execution_count": null,
   "metadata": {
    "id": "1mbUrY_yYTnn"
   },
   "outputs": [],
   "source": [
    "generated_models = []\n",
    "\n",
    "for label in labels1:\n",
    "  #model_task1 = Ridge(alpha=1e0, fit_intercept=True)\n",
    "  generated_models.append(deepcopy(model_task1.fit(imputed_data_slope_intersect, ground_truth[label])))"
   ]
  },
  {
   "cell_type": "code",
   "execution_count": null,
   "metadata": {
    "id": "fyTf5oCo1fE3"
   },
   "outputs": [],
   "source": [
    "labels2 = [\"LABEL_Sepsis\"]"
   ]
  },
  {
   "cell_type": "code",
   "execution_count": null,
   "metadata": {
    "colab": {
     "base_uri": "https://localhost:8080/"
    },
    "id": "1dMBSOIT5JcC",
    "outputId": "685b5e06-cf83-49e9-8045-80dfcb3b8862"
   },
   "outputs": [
    {
     "name": "stdout",
     "output_type": "stream",
     "text": [
      "[0.64597036 0.67298149 0.67509715 0.68475005 0.65699689]\n",
      "0.6671591885203785\n",
      "CPU times: user 327 ms, sys: 415 ms, total: 742 ms\n",
      "Wall time: 142 ms\n"
     ]
    }
   ],
   "source": [
    "%%time\n",
    "#clf = svm.SVR(kernel='linear')\n",
    "model_task2 = Ridge(alpha=1e1, fit_intercept=False)\n",
    "for label in labels2:\n",
    "  scores = cross_val_score(model_task2, imputed_data_slope_intersect, ground_truth[label], cv=5, scoring='roc_auc')\n",
    "  print(scores)\n",
    "  print(np.mean(scores))"
   ]
  },
  {
   "cell_type": "code",
   "execution_count": null,
   "metadata": {
    "id": "KjnfnAbfeQNN"
   },
   "outputs": [],
   "source": [
    "for label in labels2:\n",
    "  #model_task2 = Ridge(alpha=1e-3, fit_intercept=False)\n",
    "  generated_models.append(deepcopy(model_task2.fit(imputed_data_slope_intersect, ground_truth[label])))"
   ]
  },
  {
   "cell_type": "markdown",
   "metadata": {
    "id": "LxG8YWEO1gif"
   },
   "source": [
    "Subtask 3"
   ]
  },
  {
   "cell_type": "code",
   "execution_count": null,
   "metadata": {
    "colab": {
     "base_uri": "https://localhost:8080/"
    },
    "id": "qR44RPt_IAnh",
    "outputId": "952f9244-f0c9-493f-a673-d278f9d109c9"
   },
   "outputs": [
    {
     "name": "stdout",
     "output_type": "stream",
     "text": [
      "CPU times: user 685 ms, sys: 3.64 ms, total: 688 ms\n",
      "Wall time: 687 ms\n"
     ]
    }
   ],
   "source": [
    "%%time\n",
    "imputed_data_slope = np.zeros((num_ground_truth, 2*num_features+1))\n",
    "\n",
    "for i in range(num_ground_truth):\n",
    "  current_hour = imputed_data[num_hours*i:num_hours*(i+1), 1]\n",
    "  for j in range(num_features):\n",
    "    #intersect, slope = Polynomial.fit(current_hour, imputed_data[num_hours*i:num_hours*(i+1), j+2], deg=1).coef\n",
    "    imputed_data_slope[i, 0]   = current_hour[-1] # The total time of stay\n",
    "    imputed_data_slope[i, 2*j+1] = imputed_data_slope_intersect[i, 3*j+2]\n",
    "    imputed_data_slope[i, 2*j+2] = imputed_data_slope_intersect[i, 3*j+1]\n",
    "    "
   ]
  },
  {
   "cell_type": "code",
   "execution_count": null,
   "metadata": {
    "id": "W8VDpmTR1h10"
   },
   "outputs": [],
   "source": [
    "labels3 = [\"LABEL_RRate\", \"LABEL_ABPm\", \"LABEL_SpO2\", \"LABEL_Heartrate\"]"
   ]
  },
  {
   "cell_type": "code",
   "execution_count": null,
   "metadata": {
    "colab": {
     "base_uri": "https://localhost:8080/"
    },
    "id": "mSF0FERxv9ip",
    "outputId": "4108f3ad-767c-499a-83f8-c7560f8e0870"
   },
   "outputs": [
    {
     "name": "stdout",
     "output_type": "stream",
     "text": [
      "[0.34500077 0.33931972 0.31279815 0.30895724 0.28331212]\n",
      "[0.4826062  0.48780003 0.48723347 0.34398841 0.47137183]\n",
      "[0.1817411  0.12713835 0.13672613 0.03586492 0.12947565]\n",
      "[0.53786418 0.52437687 0.51215264 0.47961946 0.53645253]\n",
      "CPU times: user 897 ms, sys: 1.36 s, total: 2.26 s\n",
      "Wall time: 364 ms\n"
     ]
    }
   ],
   "source": [
    "%%time\n",
    "#clf = svm.SVR(kernel='linear')\n",
    "model_task3 = [] \n",
    "alpha_list = [5e2, 5e4, 5e4, 1e4]\n",
    "for i, label in enumerate(labels3):\n",
    "  model_task3.append(Ridge(alpha=alpha_list[i], fit_intercept=False))\n",
    "  scores = cross_val_score(model_task3[i], imputed_data_slope, ground_truth[label], cv=5, scoring='r2')\n",
    "  print(scores)"
   ]
  },
  {
   "cell_type": "code",
   "execution_count": null,
   "metadata": {
    "id": "mQgw6ddveblg"
   },
   "outputs": [],
   "source": [
    "for i, label in enumerate(labels3):\n",
    "  #model_task3 = Ridge(alpha=5e4, fit_intercept=False)\n",
    "  generated_models.append(deepcopy(model_task3[i].fit(imputed_data_slope, ground_truth[label])))"
   ]
  },
  {
   "cell_type": "code",
   "execution_count": null,
   "metadata": {
    "colab": {
     "base_uri": "https://localhost:8080/"
    },
    "id": "XrCQgYpmfeRR",
    "outputId": "e74d327a-4867-43fc-a4eb-838ea8df9221"
   },
   "outputs": [
    {
     "name": "stdout",
     "output_type": "stream",
     "text": [
      "(151968, 37)\n"
     ]
    }
   ],
   "source": [
    "print(test_features.shape)\n",
    "num_test_features = test_features.shape[0]\n",
    "num_test_prediction = int(num_test_features/num_hours)\n",
    "\n",
    "imputed_test_features = imputer.transform(test_features)\n",
    "imputed_test_features_slope_intersect = np.zeros((num_test_prediction, num_features*3+1))\n",
    "imputed_test_features_slope = np.zeros((num_test_prediction, num_features*2+1))\n",
    "test_features_id = np.zeros(num_test_prediction)"
   ]
  },
  {
   "cell_type": "code",
   "execution_count": null,
   "metadata": {
    "colab": {
     "base_uri": "https://localhost:8080/"
    },
    "id": "FriF0_IMUxzc",
    "outputId": "f3b18386-52de-4cdd-b7b4-8846740a8a31"
   },
   "outputs": [
    {
     "name": "stdout",
     "output_type": "stream",
     "text": [
      "CPU times: user 2min 18s, sys: 228 ms, total: 2min 18s\n",
      "Wall time: 2min 18s\n"
     ]
    }
   ],
   "source": [
    "%%time\n",
    "for i in range(num_test_prediction):\n",
    "  current_hour = imputed_test_features[num_hours*i:num_hours*(i+1), 1]\n",
    "  test_features_id[i] = imputed_test_features[num_hours*i, 0]\n",
    "  for j in range(num_features):\n",
    "    intersect, slope = Polynomial.fit(current_hour, imputed_test_features[num_hours*i:num_hours*(i+1), j+2], deg=1).coef\n",
    "    imputed_test_features_slope_intersect[i, 0]     = current_hour[-1] # The total time of stay\n",
    "    imputed_test_features_slope_intersect[i, 3*j+1] = np.max(imputed_test_features[num_hours*i:num_hours*(i+1), j+2])\n",
    "    imputed_test_features_slope_intersect[i, 3*j+2] = slope\n",
    "    imputed_test_features_slope_intersect[i, 3*j+3] = np.var(imputed_test_features[num_hours*i:num_hours*(i+1), j+2])"
   ]
  },
  {
   "cell_type": "code",
   "execution_count": null,
   "metadata": {
    "colab": {
     "base_uri": "https://localhost:8080/"
    },
    "id": "dACxRMGMNhcP",
    "outputId": "9ef38815-ff90-4af6-9691-d2ce41556805"
   },
   "outputs": [
    {
     "name": "stdout",
     "output_type": "stream",
     "text": [
      "CPU times: user 511 ms, sys: 3.2 ms, total: 515 ms\n",
      "Wall time: 513 ms\n"
     ]
    }
   ],
   "source": [
    "%%time\n",
    "for i in range(num_test_prediction):\n",
    "  current_hour = imputed_test_features[num_hours*i:num_hours*(i+1), 1]\n",
    "  test_features_id[i] = imputed_test_features[num_hours*i, 0]\n",
    "  for j in range(num_features):\n",
    "    imputed_test_features_slope[i, 0]     = current_hour[-1] # The total time of stay\n",
    "    imputed_test_features_slope[i, 2*j+1] = imputed_test_features_slope_intersect[i, 3*j+2]\n",
    "    imputed_test_features_slope[i, 2*j+2] = imputed_test_features_slope_intersect[i, 3*j+1]"
   ]
  },
  {
   "cell_type": "code",
   "execution_count": null,
   "metadata": {
    "colab": {
     "base_uri": "https://localhost:8080/"
    },
    "id": "locAt_ypxrOs",
    "outputId": "6c48e5a8-944e-49c3-8ea7-4c9ad866b5df"
   },
   "outputs": [
    {
     "data": {
      "text/plain": [
       "15"
      ]
     },
     "execution_count": 94,
     "metadata": {
      "tags": []
     },
     "output_type": "execute_result"
    }
   ],
   "source": [
    "len(generated_models)"
   ]
  },
  {
   "cell_type": "code",
   "execution_count": null,
   "metadata": {
    "id": "HT2bjIFQXeDX"
   },
   "outputs": [],
   "source": [
    "prediction = [test_features_id]\n",
    "for model in generated_models[:-4]:\n",
    "  prediction.append(model.predict(imputed_test_features_slope_intersect))\n",
    "for model in generated_models[-4:]:\n",
    "  prediction.append(model.predict(imputed_test_features_slope))"
   ]
  },
  {
   "cell_type": "code",
   "execution_count": null,
   "metadata": {
    "colab": {
     "base_uri": "https://localhost:8080/"
    },
    "id": "0rVj9Rizj0hw",
    "outputId": "c008c8a1-a92e-49c9-9a12-22de4c64b050"
   },
   "outputs": [
    {
     "data": {
      "text/plain": [
       "(16, 12664)"
      ]
     },
     "execution_count": 96,
     "metadata": {
      "tags": []
     },
     "output_type": "execute_result"
    }
   ],
   "source": [
    "prediction = np.array(prediction)\n",
    "prediction.shape"
   ]
  },
  {
   "cell_type": "code",
   "execution_count": null,
   "metadata": {
    "id": "URpKXwNhj3sb"
   },
   "outputs": [],
   "source": [
    "pd.DataFrame(prediction.T, columns=['pid'] + labels1 + labels2 + labels3).to_csv('prediction.zip', index=False, float_format='%.3f', compression='zip')"
   ]
  },
  {
   "cell_type": "code",
   "execution_count": null,
   "metadata": {
    "colab": {
     "base_uri": "https://localhost:8080/"
    },
    "id": "PyflHldrlhI3",
    "outputId": "854c0c10-d065-40a2-d6a7-2093d62b73be"
   },
   "outputs": [
    {
     "data": {
      "text/plain": [
       "array([1.02410000e+04, 4.88690724e-01, 1.92640148e-01, 2.58472794e-01,\n",
       "       2.57535895e-01, 2.83708486e-01, 2.22722485e-01, 1.96078191e-01,\n",
       "       3.24063095e-01, 4.78068135e-02, 6.02502606e-02, 7.89048915e-02,\n",
       "       1.67156254e+01, 8.04085353e+01, 9.70783953e+01, 7.43985497e+01])"
      ]
     },
     "execution_count": 97,
     "metadata": {
      "tags": []
     },
     "output_type": "execute_result"
    }
   ],
   "source": [
    "prediction.T[100]"
   ]
  },
  {
   "cell_type": "code",
   "execution_count": null,
   "metadata": {
    "id": "4XV-ADKOtViH"
   },
   "outputs": [],
   "source": []
  }
 ],
 "metadata": {
  "colab": {
   "collapsed_sections": [],
   "name": "Task2_meow_improving",
   "provenance": []
  },
  "hide_input": false,
  "kernelspec": {
   "display_name": "Python 3",
   "language": "python",
   "name": "python3"
  },
  "language_info": {
   "codemirror_mode": {
    "name": "ipython",
    "version": 3
   },
   "file_extension": ".py",
   "mimetype": "text/x-python",
   "name": "python",
   "nbconvert_exporter": "python",
   "pygments_lexer": "ipython3",
   "version": "3.8.2"
  },
  "latex_envs": {
   "LaTeX_envs_menu_present": true,
   "autoclose": false,
   "autocomplete": true,
   "bibliofile": "biblio.bib",
   "cite_by": "apalike",
   "current_citInitial": 1,
   "eqLabelWithNumbers": true,
   "eqNumInitial": 1,
   "hotkeys": {
    "equation": "Ctrl-E",
    "itemize": "Ctrl-I"
   },
   "labels_anchors": false,
   "latex_user_defs": false,
   "report_style_numbering": false,
   "user_envs_cfg": false
  },
  "varInspector": {
   "cols": {
    "lenName": 16,
    "lenType": 16,
    "lenVar": 40
   },
   "kernels_config": {
    "python": {
     "delete_cmd_postfix": "",
     "delete_cmd_prefix": "del ",
     "library": "var_list.py",
     "varRefreshCmd": "print(var_dic_list())"
    },
    "r": {
     "delete_cmd_postfix": ") ",
     "delete_cmd_prefix": "rm(",
     "library": "var_list.r",
     "varRefreshCmd": "cat(var_dic_list()) "
    }
   },
   "types_to_exclude": [
    "module",
    "function",
    "builtin_function_or_method",
    "instance",
    "_Feature"
   ],
   "window_display": false
  }
 },
 "nbformat": 4,
 "nbformat_minor": 1
}
