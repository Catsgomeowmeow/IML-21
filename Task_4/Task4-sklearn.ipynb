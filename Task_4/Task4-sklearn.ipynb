{
 "cells": [
  {
   "cell_type": "code",
   "execution_count": 1,
   "id": "interim-detective",
   "metadata": {},
   "outputs": [],
   "source": [
    "import numpy as np\n",
    "import pandas as pd\n",
    "import matplotlib.pyplot as plt\n",
    "\n",
    "from sklearn.neural_network import MLPClassifier\n",
    "from sklearn.model_selection import cross_val_score\n",
    "\n",
    "from sklearn.metrics import make_scorer, f1_score\n",
    "\n",
    "np.random.seed(1234)\n",
    "\n",
    "num_figures = 10000"
   ]
  },
  {
   "cell_type": "code",
   "execution_count": 2,
   "id": "beneficial-purse",
   "metadata": {},
   "outputs": [
    {
     "name": "stdout",
     "output_type": "stream",
     "text": [
      "CPU times: user 25.9 s, sys: 485 ms, total: 26.3 s\n",
      "Wall time: 30.6 s\n"
     ]
    }
   ],
   "source": [
    "%%time\n",
    "features = []\n",
    "\n",
    "target_nx = 200\n",
    "target_ny = 300\n",
    "\n",
    "extract_ratio = 1e-2\n",
    "\n",
    "random_part = np.random.rand(target_nx*target_ny) < extract_ratio\n",
    "random_part = np.array([random_part]*3).reshape(target_nx, target_ny, 3)\n",
    "#random_part = random_part.reshape(target_nx, target_ny, 3)\n",
    "\n",
    "#im_sum = np.zeros([target_nx, target_ny, 3])\n",
    "\n",
    "for i in range(num_figures):\n",
    "    im = plt.imread('task4_be9ai3nsdj/food/' + f'{i:05d}' +'.jpg')\n",
    "    \n",
    "    nx, ny, nc = np.shape(im)\n",
    "    \n",
    "    start_idx = int((nx - target_nx)/2)\n",
    "    end_idx = target_nx + start_idx\n",
    "    \n",
    "    start_idy = int((ny - target_ny)/2)\n",
    "    end_idy = target_ny + start_idy\n",
    "        \n",
    "    im_cropped = im[start_idx:end_idx, start_idy:end_idy, :]\n",
    "    \n",
    "    features.append(im_cropped[random_part])"
   ]
  },
  {
   "cell_type": "code",
   "execution_count": 3,
   "id": "permanent-component",
   "metadata": {},
   "outputs": [],
   "source": [
    "triplets = pd.read_csv('task4_be9ai3nsdj/train_triplets.txt', header=None, delimiter=' ', dtype=str).to_numpy()\n",
    "triplets_id = pd.read_csv('task4_be9ai3nsdj/train_triplets.txt', header=None, delimiter=' ', dtype=int).to_numpy()"
   ]
  },
  {
   "cell_type": "code",
   "execution_count": 4,
   "id": "entertaining-oxford",
   "metadata": {},
   "outputs": [],
   "source": [
    "num_feature = len(features[0])\n",
    "num_obsv = len(triplets_id)\n",
    "\n",
    "triplets_id_appended = np.append(triplets_id, np.array([triplets_id[:,0], triplets_id[:,2], triplets_id[:,1]]).T, axis=0)\n",
    "\n",
    "train_observation = np.zeros(len(triplets_id_appended))\n",
    "train_observation[:num_obsv] = 1"
   ]
  },
  {
   "cell_type": "code",
   "execution_count": 5,
   "id": "contained-facial",
   "metadata": {},
   "outputs": [
    {
     "name": "stdout",
     "output_type": "stream",
     "text": [
      "1830\n"
     ]
    }
   ],
   "source": [
    "print(num_feature)"
   ]
  },
  {
   "cell_type": "code",
   "execution_count": 6,
   "id": "arctic-offense",
   "metadata": {},
   "outputs": [],
   "source": [
    "feature_transformed = []\n",
    "\n",
    "for id_list in triplets_id_appended:\n",
    "    feature_transformed.append([features[idx] for idx in id_list][0])\n",
    "    \n",
    "feature_transformed = np.array(feature_transformed)"
   ]
  },
  {
   "cell_type": "code",
   "execution_count": 7,
   "id": "alone-delicious",
   "metadata": {},
   "outputs": [],
   "source": [
    "score_func = make_scorer(f1_score)"
   ]
  },
  {
   "cell_type": "code",
   "execution_count": null,
   "id": "median-eclipse",
   "metadata": {},
   "outputs": [],
   "source": [
    "%%time\n",
    "model = MLPClassifier(hidden_layer_sizes=100, activation='identity'\n",
    "                      , solver='adam', max_iter=5000, tol=1e-5, alpha=1e-7)\n",
    "\n",
    "scores = cross_val_score(model, feature_transformed, train_observation, cv=5,\n",
    "                         scoring=score_func, n_jobs=7)\n",
    "\n",
    "print(scores)"
   ]
  },
  {
   "cell_type": "code",
   "execution_count": null,
   "id": "controversial-bulgaria",
   "metadata": {},
   "outputs": [],
   "source": []
  }
 ],
 "metadata": {
  "kernelspec": {
   "display_name": "Python 3",
   "language": "python",
   "name": "python3"
  },
  "language_info": {
   "codemirror_mode": {
    "name": "ipython",
    "version": 3
   },
   "file_extension": ".py",
   "mimetype": "text/x-python",
   "name": "python",
   "nbconvert_exporter": "python",
   "pygments_lexer": "ipython3",
   "version": "3.7.10"
  }
 },
 "nbformat": 4,
 "nbformat_minor": 5
}
