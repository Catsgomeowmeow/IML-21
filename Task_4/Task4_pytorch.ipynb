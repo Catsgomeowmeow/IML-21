{
 "cells": [
  {
   "cell_type": "code",
   "execution_count": 1,
   "id": "fa2cceb8",
   "metadata": {
    "ExecuteTime": {
     "end_time": "2021-05-25T11:26:28.290184Z",
     "start_time": "2021-05-25T11:26:28.281181Z"
    }
   },
   "outputs": [],
   "source": [
    "import torch \n",
    "import torchvision \n",
    "from torch.utils.data import  DataLoader,datasets,Subset\n",
    "from torchvision import transforms, datasets\n",
    "\n",
    "import numpy as np\n",
    "import pandas as pd\n",
    "import matplotlib.pyplot as plt \n",
    "import torchvision.models as models\n",
    "from torch.autograd import Variable\n",
    "#import torchtext\n",
    "#from torchtext.data import get_tokenizer"
   ]
  },
  {
   "cell_type": "code",
   "execution_count": 2,
   "id": "0c98e6e6",
   "metadata": {
    "ExecuteTime": {
     "end_time": "2021-05-25T09:01:48.627413Z",
     "start_time": "2021-05-25T09:01:48.609414Z"
    }
   },
   "outputs": [
    {
     "data": {
      "text/plain": [
       "True"
      ]
     },
     "execution_count": 2,
     "metadata": {},
     "output_type": "execute_result"
    }
   ],
   "source": [
    "device = torch.device('cuda:0' if torch.cuda.is_available() else 'cpu')\n",
    "torch.cuda.is_available()"
   ]
  },
  {
   "cell_type": "markdown",
   "id": "6ef7eaca",
   "metadata": {
    "ExecuteTime": {
     "end_time": "2021-05-25T08:59:25.854889Z",
     "start_time": "2021-05-25T08:59:25.838888Z"
    }
   },
   "source": [
    "# Main stuff"
   ]
  },
  {
   "cell_type": "code",
   "execution_count": 3,
   "id": "inappropriate-general",
   "metadata": {},
   "outputs": [],
   "source": [
    "triplets_id = pd.read_csv('task4_be9ai3nsdj/train_triplets.txt', header=None, delimiter=' ', dtype=int).to_numpy()\n",
    "test_triplets_id = pd.read_csv('task4_be9ai3nsdj/test_triplets.txt', header=None, delimiter=' ', dtype=int).to_numpy()"
   ]
  },
  {
   "cell_type": "code",
   "execution_count": 4,
   "id": "interior-ending",
   "metadata": {},
   "outputs": [
    {
     "data": {
      "text/plain": [
       "(10000, 512)"
      ]
     },
     "execution_count": 4,
     "metadata": {},
     "output_type": "execute_result"
    }
   ],
   "source": [
    "features = np.load('features_resnet18.npy')\n",
    "features.shape"
   ]
  },
  {
   "cell_type": "code",
   "execution_count": 132,
   "id": "living-intent",
   "metadata": {},
   "outputs": [],
   "source": [
    "feature_transformed = features[triplets_id]#.reshape(59515, 512*3)\n",
    "test_feature = features[test_triplets_id]\n",
    "#feature_transformed = feature_transformed.transpose([0,2,1])"
   ]
  },
  {
   "cell_type": "code",
   "execution_count": 133,
   "id": "great-medium",
   "metadata": {},
   "outputs": [],
   "source": [
    "feature_transformed = torch.tensor(feature_transformed)\n",
    "test_feature = torch.tensor(test_feature)\n",
    "#features = torch.tensor(features)"
   ]
  },
  {
   "cell_type": "code",
   "execution_count": 134,
   "id": "tough-choir",
   "metadata": {},
   "outputs": [
    {
     "name": "stdout",
     "output_type": "stream",
     "text": [
      "torch.Size([59515, 3, 512]) torch.Size([59544, 3, 512])\n"
     ]
    }
   ],
   "source": [
    "print(feature_transformed.shape, test_feature.shape)"
   ]
  },
  {
   "cell_type": "code",
   "execution_count": 105,
   "id": "attempted-spectrum",
   "metadata": {},
   "outputs": [],
   "source": [
    "import torch.nn as nn\n",
    "import torch.nn.functional as F\n",
    "\n",
    "in_dim = feature_transformed.shape[2]\n",
    "out_dim = 1\n",
    "\n",
    "class Net(nn.Module):\n",
    "    def __init__(self):\n",
    "        super().__init__()\n",
    "        self.hidden1 = nn.Linear(in_dim, 128) \n",
    "        self.hidden2 = nn.Linear(128, 64) \n",
    "        self.triplet_loss = nn.TripletMarginLoss(margin=0.5, p=2.0, reduction='none')\n",
    "        \n",
    "    def forward(self, x):\n",
    "        x = F.logsigmoid(self.hidden1(x))\n",
    "        x = F.relu(self.hidden2(x))\n",
    "        x = self.triplet_loss(x[:,0,:], x[:,1,:], x[:,2,:])\n",
    "        \n",
    "        return x\n",
    "\n",
    "net = Net()"
   ]
  },
  {
   "cell_type": "code",
   "execution_count": 106,
   "id": "german-berlin",
   "metadata": {},
   "outputs": [
    {
     "data": {
      "text/plain": [
       "tensor([0.8284, 0.5372, 0.5219,  ..., 0.3840, 0.4039, 0.3612],\n",
       "       grad_fn=<ClampMinBackward>)"
      ]
     },
     "execution_count": 106,
     "metadata": {},
     "output_type": "execute_result"
    }
   ],
   "source": [
    "forward = net(feature_transformed)\n",
    "forward"
   ]
  },
  {
   "cell_type": "code",
   "execution_count": 110,
   "id": "chicken-handling",
   "metadata": {},
   "outputs": [],
   "source": [
    "import torch.optim as optim\n",
    "optimizer = optim.Adam(net.parameters(), lr=1e-2)"
   ]
  },
  {
   "cell_type": "code",
   "execution_count": 111,
   "id": "dressed-galaxy",
   "metadata": {},
   "outputs": [],
   "source": [
    "num_epochs = 15"
   ]
  },
  {
   "cell_type": "code",
   "execution_count": 130,
   "id": "laughing-health",
   "metadata": {},
   "outputs": [
    {
     "name": "stdout",
     "output_type": "stream",
     "text": [
      "tensor(0.1032, grad_fn=<MeanBackward0>)\n",
      "tensor(0.1049, grad_fn=<MeanBackward0>)\n",
      "tensor(0.0997, grad_fn=<MeanBackward0>)\n",
      "tensor(0.0990, grad_fn=<MeanBackward0>)\n",
      "tensor(0.0982, grad_fn=<MeanBackward0>)\n",
      "tensor(0.0950, grad_fn=<MeanBackward0>)\n",
      "tensor(0.0993, grad_fn=<MeanBackward0>)\n",
      "tensor(0.0994, grad_fn=<MeanBackward0>)\n",
      "tensor(0.1036, grad_fn=<MeanBackward0>)\n",
      "tensor(0.1021, grad_fn=<MeanBackward0>)\n",
      "tensor(0.0952, grad_fn=<MeanBackward0>)\n",
      "tensor(0.0930, grad_fn=<MeanBackward0>)\n",
      "tensor(0.0975, grad_fn=<MeanBackward0>)\n",
      "tensor(0.0965, grad_fn=<MeanBackward0>)\n",
      "tensor(0.0911, grad_fn=<MeanBackward0>)\n",
      "CPU times: user 21.8 s, sys: 3.6 s, total: 25.4 s\n",
      "Wall time: 6.35 s\n"
     ]
    }
   ],
   "source": [
    "%%time\n",
    "for epoch in range(num_epochs):  # loop over the dataset multiple times\n",
    "\n",
    "    running_loss = 0.0\n",
    "    \n",
    "    # zero the parameter gradients\n",
    "    optimizer.zero_grad()\n",
    "\n",
    "    # forward + backward + optimize\n",
    "    outputs = net(feature_transformed)\n",
    "    \n",
    "    criterion = torch.mean(outputs)\n",
    "    criterion.backward()\n",
    "    \n",
    "    optimizer.step()\n",
    "    \n",
    "    print(criterion)"
   ]
  },
  {
   "cell_type": "code",
   "execution_count": 152,
   "id": "analyzed-donor",
   "metadata": {},
   "outputs": [
    {
     "data": {
      "text/plain": [
       "tensor(55583)"
      ]
     },
     "execution_count": 152,
     "metadata": {},
     "output_type": "execute_result"
    }
   ],
   "source": [
    "torch.sum(net(feature_transformed)<0.5)"
   ]
  },
  {
   "cell_type": "code",
   "execution_count": 153,
   "id": "brown-plymouth",
   "metadata": {},
   "outputs": [],
   "source": [
    "prediction = (net(test_feature)<0.5).numpy()"
   ]
  },
  {
   "cell_type": "code",
   "execution_count": 154,
   "id": "academic-entity",
   "metadata": {},
   "outputs": [],
   "source": [
    "prediction = np.array(prediction, dtype=int)"
   ]
  },
  {
   "cell_type": "code",
   "execution_count": 157,
   "id": "executive-miami",
   "metadata": {},
   "outputs": [
    {
     "data": {
      "text/plain": [
       "(59544,)"
      ]
     },
     "execution_count": 157,
     "metadata": {},
     "output_type": "execute_result"
    }
   ],
   "source": [
    "np.shape(prediction)"
   ]
  },
  {
   "cell_type": "code",
   "execution_count": 158,
   "id": "naked-conversion",
   "metadata": {},
   "outputs": [],
   "source": [
    "pd.DataFrame(prediction.T).to_csv('prediction.csv', index=False, header=None)"
   ]
  },
  {
   "cell_type": "code",
   "execution_count": null,
   "id": "personalized-gibson",
   "metadata": {},
   "outputs": [],
   "source": []
  }
 ],
 "metadata": {
  "hide_input": false,
  "kernelspec": {
   "display_name": "Python 3",
   "language": "python",
   "name": "python3"
  },
  "language_info": {
   "codemirror_mode": {
    "name": "ipython",
    "version": 3
   },
   "file_extension": ".py",
   "mimetype": "text/x-python",
   "name": "python",
   "nbconvert_exporter": "python",
   "pygments_lexer": "ipython3",
   "version": "3.7.10"
  },
  "latex_envs": {
   "LaTeX_envs_menu_present": true,
   "autoclose": false,
   "autocomplete": true,
   "bibliofile": "biblio.bib",
   "cite_by": "apalike",
   "current_citInitial": 1,
   "eqLabelWithNumbers": true,
   "eqNumInitial": 1,
   "hotkeys": {
    "equation": "Ctrl-E",
    "itemize": "Ctrl-I"
   },
   "labels_anchors": false,
   "latex_user_defs": false,
   "report_style_numbering": false,
   "user_envs_cfg": false
  },
  "varInspector": {
   "cols": {
    "lenName": 16,
    "lenType": 16,
    "lenVar": 40
   },
   "kernels_config": {
    "python": {
     "delete_cmd_postfix": "",
     "delete_cmd_prefix": "del ",
     "library": "var_list.py",
     "varRefreshCmd": "print(var_dic_list())"
    },
    "r": {
     "delete_cmd_postfix": ") ",
     "delete_cmd_prefix": "rm(",
     "library": "var_list.r",
     "varRefreshCmd": "cat(var_dic_list()) "
    }
   },
   "types_to_exclude": [
    "module",
    "function",
    "builtin_function_or_method",
    "instance",
    "_Feature"
   ],
   "window_display": false
  }
 },
 "nbformat": 4,
 "nbformat_minor": 5
}
