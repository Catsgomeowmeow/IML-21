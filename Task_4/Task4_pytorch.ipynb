{
 "cells": [
  {
   "cell_type": "code",
   "execution_count": 2,
   "id": "fa2cceb8",
   "metadata": {
    "ExecuteTime": {
     "end_time": "2021-06-02T14:53:37.828942Z",
     "start_time": "2021-06-02T14:53:36.827230Z"
    }
   },
   "outputs": [],
   "source": [
    "import torch \n",
    "import torchvision \n",
    "from torch.utils.data import  DataLoader,datasets,Subset\n",
    "from torchvision import transforms, datasets\n",
    "\n",
    "import numpy as np\n",
    "import pandas as pd\n",
    "import matplotlib.pyplot as plt \n",
    "import torchvision.models as models\n",
    "from torch.autograd import Variable\n",
    "from tqdm import tqdm,trange\n",
    "#import torchtext\n",
    "#from torchtext.data import get_tokenizer"
   ]
  },
  {
   "cell_type": "code",
   "execution_count": 14,
   "id": "0c98e6e6",
   "metadata": {
    "ExecuteTime": {
     "end_time": "2021-06-02T14:55:09.539447Z",
     "start_time": "2021-06-02T14:55:09.526447Z"
    }
   },
   "outputs": [
    {
     "data": {
      "text/plain": [
       "True"
      ]
     },
     "execution_count": 14,
     "metadata": {},
     "output_type": "execute_result"
    }
   ],
   "source": [
    "device = torch.device('cuda' if torch.cuda.is_available() else 'cpu')\n",
    "torch.cuda.is_available()"
   ]
  },
  {
   "cell_type": "markdown",
   "id": "6ef7eaca",
   "metadata": {
    "ExecuteTime": {
     "end_time": "2021-05-25T08:59:25.854889Z",
     "start_time": "2021-05-25T08:59:25.838888Z"
    }
   },
   "source": [
    "# Main stuff"
   ]
  },
  {
   "cell_type": "code",
   "execution_count": 15,
   "id": "inappropriate-general",
   "metadata": {
    "ExecuteTime": {
     "end_time": "2021-06-02T14:55:11.027458Z",
     "start_time": "2021-06-02T14:55:10.981462Z"
    }
   },
   "outputs": [],
   "source": [
    "triplets_id = pd.read_csv('task4_be9ai3nsdj/train_triplets.txt', header=None, delimiter=' ', dtype=int).to_numpy()\n",
    "test_triplets_id = pd.read_csv('task4_be9ai3nsdj/test_triplets.txt', header=None, delimiter=' ', dtype=int).to_numpy()"
   ]
  },
  {
   "cell_type": "code",
   "execution_count": 16,
   "id": "interior-ending",
   "metadata": {
    "ExecuteTime": {
     "end_time": "2021-06-02T14:55:11.138461Z",
     "start_time": "2021-06-02T14:55:11.124461Z"
    }
   },
   "outputs": [
    {
     "data": {
      "text/plain": [
       "(10000, 512)"
      ]
     },
     "execution_count": 16,
     "metadata": {},
     "output_type": "execute_result"
    }
   ],
   "source": [
    "features = np.load('features_resnet18.npy')\n",
    "features.shape"
   ]
  },
  {
   "cell_type": "code",
   "execution_count": 17,
   "id": "living-intent",
   "metadata": {
    "ExecuteTime": {
     "end_time": "2021-06-02T14:55:11.733860Z",
     "start_time": "2021-06-02T14:55:11.551850Z"
    }
   },
   "outputs": [],
   "source": [
    "feature_transformed = features[triplets_id]#.reshape(59515, 512*3)\n",
    "test_feature = features[test_triplets_id]\n",
    "#feature_transformed = feature_transformed.transpose([0,2,1])"
   ]
  },
  {
   "cell_type": "code",
   "execution_count": 18,
   "id": "great-medium",
   "metadata": {
    "ExecuteTime": {
     "end_time": "2021-06-02T14:55:12.628915Z",
     "start_time": "2021-06-02T14:55:12.285927Z"
    }
   },
   "outputs": [],
   "source": [
    "feature_transformed = torch.tensor(feature_transformed).to(device)\n",
    "test_feature = torch.tensor(test_feature).to(device)\n",
    "#features = torch.tensor(features)"
   ]
  },
  {
   "cell_type": "code",
   "execution_count": 72,
   "id": "6196fc86",
   "metadata": {
    "ExecuteTime": {
     "end_time": "2021-06-02T15:04:28.726411Z",
     "start_time": "2021-06-02T15:04:28.711411Z"
    }
   },
   "outputs": [
    {
     "data": {
      "text/plain": [
       "torch.Size([59515, 3, 512])"
      ]
     },
     "execution_count": 72,
     "metadata": {},
     "output_type": "execute_result"
    }
   ],
   "source": [
    "feature_transformed.shape"
   ]
  },
  {
   "cell_type": "code",
   "execution_count": 19,
   "id": "tough-choir",
   "metadata": {
    "ExecuteTime": {
     "end_time": "2021-06-02T14:55:13.088004Z",
     "start_time": "2021-06-02T14:55:13.082006Z"
    }
   },
   "outputs": [
    {
     "name": "stdout",
     "output_type": "stream",
     "text": [
      "torch.Size([59515, 3, 512]) torch.Size([59544, 3, 512])\n"
     ]
    }
   ],
   "source": [
    "print(feature_transformed.shape, test_feature.shape)"
   ]
  },
  {
   "cell_type": "code",
   "execution_count": 47,
   "id": "attempted-spectrum",
   "metadata": {
    "ExecuteTime": {
     "end_time": "2021-06-02T15:01:04.749093Z",
     "start_time": "2021-06-02T15:01:04.727093Z"
    }
   },
   "outputs": [],
   "source": [
    "import torch.nn as nn\n",
    "import torch.nn.functional as F\n",
    "\n",
    "in_dim = feature_transformed.shape[2]\n",
    "out_dim = 1\n",
    "\n",
    "class Net(nn.Module):\n",
    "    def __init__(self):\n",
    "        super().__init__()\n",
    "        self.hidden1 = nn.Linear(in_dim, 128) \n",
    "        self.hidden2 = nn.Linear(128, 64) \n",
    "        self.triplet_loss = nn.TripletMarginLoss(margin=0.5, p=2.0, reduction='none')\n",
    "        \n",
    "    def forward(self, x):\n",
    "        x = F.logsigmoid(self.hidden1(x))\n",
    "        x = F.relu(self.hidden2(x))\n",
    "        x = self.triplet_loss(x[:,0,:], x[:,1,:], x[:,2,:])\n",
    "        \n",
    "        return x\n",
    "\n",
    "net = Net()"
   ]
  },
  {
   "cell_type": "code",
   "execution_count": 48,
   "id": "35a76c64",
   "metadata": {
    "ExecuteTime": {
     "end_time": "2021-06-02T15:01:04.941091Z",
     "start_time": "2021-06-02T15:01:04.922092Z"
    }
   },
   "outputs": [
    {
     "data": {
      "text/plain": [
       "Net(\n",
       "  (hidden1): Linear(in_features=512, out_features=128, bias=True)\n",
       "  (hidden2): Linear(in_features=128, out_features=64, bias=True)\n",
       "  (triplet_loss): TripletMarginLoss()\n",
       ")"
      ]
     },
     "execution_count": 48,
     "metadata": {},
     "output_type": "execute_result"
    }
   ],
   "source": [
    "net.to(device)"
   ]
  },
  {
   "cell_type": "code",
   "execution_count": 49,
   "id": "german-berlin",
   "metadata": {
    "ExecuteTime": {
     "end_time": "2021-06-02T15:01:05.873715Z",
     "start_time": "2021-06-02T15:01:05.567679Z"
    }
   },
   "outputs": [
    {
     "data": {
      "text/plain": [
       "tensor([0.8514, 0.4409, 0.4658,  ..., 0.3276, 0.5653, 0.4281], device='cuda:0',\n",
       "       grad_fn=<ClampMinBackward>)"
      ]
     },
     "execution_count": 49,
     "metadata": {},
     "output_type": "execute_result"
    }
   ],
   "source": [
    "forward = net(feature_transformed)\n",
    "forward"
   ]
  },
  {
   "cell_type": "code",
   "execution_count": 86,
   "id": "chicken-handling",
   "metadata": {
    "ExecuteTime": {
     "end_time": "2021-06-02T15:05:43.315664Z",
     "start_time": "2021-06-02T15:05:43.306664Z"
    }
   },
   "outputs": [],
   "source": [
    "import torch.optim as optim\n",
    "optimizer = optim.Adam(net.parameters(), lr=1e-4)"
   ]
  },
  {
   "cell_type": "code",
   "execution_count": 87,
   "id": "dressed-galaxy",
   "metadata": {
    "ExecuteTime": {
     "end_time": "2021-06-02T15:05:43.470997Z",
     "start_time": "2021-06-02T15:05:43.458998Z"
    }
   },
   "outputs": [],
   "source": [
    "num_epochs = 20"
   ]
  },
  {
   "cell_type": "code",
   "execution_count": 88,
   "id": "laughing-health",
   "metadata": {
    "ExecuteTime": {
     "end_time": "2021-06-02T15:05:48.608767Z",
     "start_time": "2021-06-02T15:05:43.594997Z"
    }
   },
   "outputs": [
    {
     "name": "stderr",
     "output_type": "stream",
     "text": [
      "mean 0.04395558685064316: 100%|██████████████████████████████████████████████████████| 100/100 [00:05<00:00, 19.99it/s]"
     ]
    },
    {
     "name": "stdout",
     "output_type": "stream",
     "text": [
      "Wall time: 5 s\n"
     ]
    },
    {
     "name": "stderr",
     "output_type": "stream",
     "text": [
      "\n"
     ]
    }
   ],
   "source": [
    "%%time\n",
    "pbar = trange(num_epochs)\n",
    "for i in pbar:  # loop over the dataset multiple times\n",
    "\n",
    "    running_loss = 0.0\n",
    "    \n",
    "    # zero the parameter gradients\n",
    "    optimizer.zero_grad()\n",
    "\n",
    "    # forward + backward + optimize\n",
    "    outputs = net(feature_transformed)\n",
    "    \n",
    "    criterion = torch.mean(outputs)\n",
    "    criterion.backward()\n",
    "    \n",
    "    optimizer.step()\n",
    "    \n",
    "#     print(criterion)\n",
    "    pbar.set_description(f\"mean {criterion}\")"
   ]
  },
  {
   "cell_type": "code",
   "execution_count": 64,
   "id": "analyzed-donor",
   "metadata": {
    "ExecuteTime": {
     "end_time": "2021-06-02T15:02:29.289353Z",
     "start_time": "2021-06-02T15:02:29.258355Z"
    }
   },
   "outputs": [
    {
     "data": {
      "text/plain": [
       "tensor(55838, device='cuda:0')"
      ]
     },
     "execution_count": 64,
     "metadata": {},
     "output_type": "execute_result"
    }
   ],
   "source": [
    "torch.sum(net(feature_transformed)<0.5)"
   ]
  },
  {
   "cell_type": "code",
   "execution_count": 66,
   "id": "brown-plymouth",
   "metadata": {
    "ExecuteTime": {
     "end_time": "2021-06-02T15:02:53.567351Z",
     "start_time": "2021-06-02T15:02:53.536354Z"
    }
   },
   "outputs": [],
   "source": [
    "prediction = (net(test_feature)<0.5).cpu()"
   ]
  },
  {
   "cell_type": "code",
   "execution_count": 67,
   "id": "academic-entity",
   "metadata": {
    "ExecuteTime": {
     "end_time": "2021-06-02T15:02:54.346569Z",
     "start_time": "2021-06-02T15:02:54.332567Z"
    }
   },
   "outputs": [],
   "source": [
    "prediction = np.array(prediction, dtype=int)"
   ]
  },
  {
   "cell_type": "code",
   "execution_count": 68,
   "id": "executive-miami",
   "metadata": {
    "ExecuteTime": {
     "end_time": "2021-06-02T15:02:55.220525Z",
     "start_time": "2021-06-02T15:02:55.201527Z"
    }
   },
   "outputs": [
    {
     "data": {
      "text/plain": [
       "(59544,)"
      ]
     },
     "execution_count": 68,
     "metadata": {},
     "output_type": "execute_result"
    }
   ],
   "source": [
    "np.shape(prediction)"
   ]
  },
  {
   "cell_type": "code",
   "execution_count": 70,
   "id": "naked-conversion",
   "metadata": {
    "ExecuteTime": {
     "end_time": "2021-06-02T15:03:05.253801Z",
     "start_time": "2021-06-02T15:03:05.191807Z"
    }
   },
   "outputs": [],
   "source": [
    "pd.DataFrame(prediction.T).to_csv('prediction.csv', index=False, header=None)"
   ]
  },
  {
   "cell_type": "code",
   "execution_count": null,
   "id": "personalized-gibson",
   "metadata": {},
   "outputs": [],
   "source": []
  }
 ],
 "metadata": {
  "hide_input": false,
  "kernelspec": {
   "display_name": "Python 3",
   "language": "python",
   "name": "python3"
  },
  "language_info": {
   "codemirror_mode": {
    "name": "ipython",
    "version": 3
   },
   "file_extension": ".py",
   "mimetype": "text/x-python",
   "name": "python",
   "nbconvert_exporter": "python",
   "pygments_lexer": "ipython3",
   "version": "3.9.4"
  },
  "latex_envs": {
   "LaTeX_envs_menu_present": true,
   "autoclose": false,
   "autocomplete": true,
   "bibliofile": "biblio.bib",
   "cite_by": "apalike",
   "current_citInitial": 1,
   "eqLabelWithNumbers": true,
   "eqNumInitial": 1,
   "hotkeys": {
    "equation": "Ctrl-E",
    "itemize": "Ctrl-I"
   },
   "labels_anchors": false,
   "latex_user_defs": false,
   "report_style_numbering": false,
   "user_envs_cfg": false
  },
  "varInspector": {
   "cols": {
    "lenName": 16,
    "lenType": 16,
    "lenVar": 40
   },
   "kernels_config": {
    "python": {
     "delete_cmd_postfix": "",
     "delete_cmd_prefix": "del ",
     "library": "var_list.py",
     "varRefreshCmd": "print(var_dic_list())"
    },
    "r": {
     "delete_cmd_postfix": ") ",
     "delete_cmd_prefix": "rm(",
     "library": "var_list.r",
     "varRefreshCmd": "cat(var_dic_list()) "
    }
   },
   "types_to_exclude": [
    "module",
    "function",
    "builtin_function_or_method",
    "instance",
    "_Feature"
   ],
   "window_display": false
  }
 },
 "nbformat": 4,
 "nbformat_minor": 5
}
