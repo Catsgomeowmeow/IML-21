{
 "cells": [
  {
   "cell_type": "code",
   "execution_count": 1,
   "id": "6aae2175",
   "metadata": {
    "ExecuteTime": {
     "end_time": "2021-06-03T14:55:28.206115Z",
     "start_time": "2021-06-03T14:55:26.574499Z"
    }
   },
   "outputs": [],
   "source": [
    "import torch\n",
    "import torch.nn as nn\n",
    "import torch.optim as optim\n",
    "import torchvision \n",
    "from torch.optim import lr_scheduler\n",
    "from torch.utils.data import  DataLoader,datasets,Subset\n",
    "from torchvision import datasets, models, transforms\n",
    "from PIL import Image\n",
    "from torchvision import transforms\n",
    "from PIL import Image\n",
    "import numpy as np\n",
    "import pandas as pd\n",
    "import time\n",
    "import matplotlib.pyplot as plt \n",
    "import torchvision.models as models\n",
    "import copy\n",
    "\n",
    "from tqdm import tqdm,trange\n",
    "import os \n",
    "from sklearn.model_selection import train_test_split\n",
    "from sklearn.preprocessing import StandardScaler\n",
    "from torchmetrics import Accuracy\n",
    "\n",
    "\n",
    "from sklearn.linear_model import RidgeClassifier\n",
    "from sklearn.neural_network import MLPClassifier\n",
    "from sklearn.preprocessing import StandardScaler, MinMaxScaler, QuantileTransformer\n",
    "from sklearn.model_selection import cross_val_score, KFold\n",
    "from sklearn.metrics import make_scorer, f1_score\n"
   ]
  },
  {
   "cell_type": "code",
   "execution_count": 2,
   "id": "6de4e975",
   "metadata": {
    "ExecuteTime": {
     "end_time": "2021-06-03T14:55:28.316628Z",
     "start_time": "2021-06-03T14:55:28.302628Z"
    }
   },
   "outputs": [],
   "source": [
    "process_images = False\n",
    "generate_datasets = False\n",
    "generate_datasets_test = False"
   ]
  },
  {
   "cell_type": "code",
   "execution_count": 3,
   "id": "854f2693",
   "metadata": {
    "ExecuteTime": {
     "end_time": "2021-06-03T14:55:29.918816Z",
     "start_time": "2021-06-03T14:55:28.409756Z"
    }
   },
   "outputs": [
    {
     "data": {
      "text/plain": [
       "ResNet(\n",
       "  (conv1): Conv2d(3, 64, kernel_size=(7, 7), stride=(2, 2), padding=(3, 3), bias=False)\n",
       "  (bn1): BatchNorm2d(64, eps=1e-05, momentum=0.1, affine=True, track_running_stats=True)\n",
       "  (relu): ReLU(inplace=True)\n",
       "  (maxpool): MaxPool2d(kernel_size=3, stride=2, padding=1, dilation=1, ceil_mode=False)\n",
       "  (layer1): Sequential(\n",
       "    (0): Bottleneck(\n",
       "      (conv1): Conv2d(64, 64, kernel_size=(1, 1), stride=(1, 1), bias=False)\n",
       "      (bn1): BatchNorm2d(64, eps=1e-05, momentum=0.1, affine=True, track_running_stats=True)\n",
       "      (conv2): Conv2d(64, 64, kernel_size=(3, 3), stride=(1, 1), padding=(1, 1), bias=False)\n",
       "      (bn2): BatchNorm2d(64, eps=1e-05, momentum=0.1, affine=True, track_running_stats=True)\n",
       "      (conv3): Conv2d(64, 256, kernel_size=(1, 1), stride=(1, 1), bias=False)\n",
       "      (bn3): BatchNorm2d(256, eps=1e-05, momentum=0.1, affine=True, track_running_stats=True)\n",
       "      (relu): ReLU(inplace=True)\n",
       "      (downsample): Sequential(\n",
       "        (0): Conv2d(64, 256, kernel_size=(1, 1), stride=(1, 1), bias=False)\n",
       "        (1): BatchNorm2d(256, eps=1e-05, momentum=0.1, affine=True, track_running_stats=True)\n",
       "      )\n",
       "    )\n",
       "    (1): Bottleneck(\n",
       "      (conv1): Conv2d(256, 64, kernel_size=(1, 1), stride=(1, 1), bias=False)\n",
       "      (bn1): BatchNorm2d(64, eps=1e-05, momentum=0.1, affine=True, track_running_stats=True)\n",
       "      (conv2): Conv2d(64, 64, kernel_size=(3, 3), stride=(1, 1), padding=(1, 1), bias=False)\n",
       "      (bn2): BatchNorm2d(64, eps=1e-05, momentum=0.1, affine=True, track_running_stats=True)\n",
       "      (conv3): Conv2d(64, 256, kernel_size=(1, 1), stride=(1, 1), bias=False)\n",
       "      (bn3): BatchNorm2d(256, eps=1e-05, momentum=0.1, affine=True, track_running_stats=True)\n",
       "      (relu): ReLU(inplace=True)\n",
       "    )\n",
       "    (2): Bottleneck(\n",
       "      (conv1): Conv2d(256, 64, kernel_size=(1, 1), stride=(1, 1), bias=False)\n",
       "      (bn1): BatchNorm2d(64, eps=1e-05, momentum=0.1, affine=True, track_running_stats=True)\n",
       "      (conv2): Conv2d(64, 64, kernel_size=(3, 3), stride=(1, 1), padding=(1, 1), bias=False)\n",
       "      (bn2): BatchNorm2d(64, eps=1e-05, momentum=0.1, affine=True, track_running_stats=True)\n",
       "      (conv3): Conv2d(64, 256, kernel_size=(1, 1), stride=(1, 1), bias=False)\n",
       "      (bn3): BatchNorm2d(256, eps=1e-05, momentum=0.1, affine=True, track_running_stats=True)\n",
       "      (relu): ReLU(inplace=True)\n",
       "    )\n",
       "  )\n",
       "  (layer2): Sequential(\n",
       "    (0): Bottleneck(\n",
       "      (conv1): Conv2d(256, 128, kernel_size=(1, 1), stride=(1, 1), bias=False)\n",
       "      (bn1): BatchNorm2d(128, eps=1e-05, momentum=0.1, affine=True, track_running_stats=True)\n",
       "      (conv2): Conv2d(128, 128, kernel_size=(3, 3), stride=(2, 2), padding=(1, 1), bias=False)\n",
       "      (bn2): BatchNorm2d(128, eps=1e-05, momentum=0.1, affine=True, track_running_stats=True)\n",
       "      (conv3): Conv2d(128, 512, kernel_size=(1, 1), stride=(1, 1), bias=False)\n",
       "      (bn3): BatchNorm2d(512, eps=1e-05, momentum=0.1, affine=True, track_running_stats=True)\n",
       "      (relu): ReLU(inplace=True)\n",
       "      (downsample): Sequential(\n",
       "        (0): Conv2d(256, 512, kernel_size=(1, 1), stride=(2, 2), bias=False)\n",
       "        (1): BatchNorm2d(512, eps=1e-05, momentum=0.1, affine=True, track_running_stats=True)\n",
       "      )\n",
       "    )\n",
       "    (1): Bottleneck(\n",
       "      (conv1): Conv2d(512, 128, kernel_size=(1, 1), stride=(1, 1), bias=False)\n",
       "      (bn1): BatchNorm2d(128, eps=1e-05, momentum=0.1, affine=True, track_running_stats=True)\n",
       "      (conv2): Conv2d(128, 128, kernel_size=(3, 3), stride=(1, 1), padding=(1, 1), bias=False)\n",
       "      (bn2): BatchNorm2d(128, eps=1e-05, momentum=0.1, affine=True, track_running_stats=True)\n",
       "      (conv3): Conv2d(128, 512, kernel_size=(1, 1), stride=(1, 1), bias=False)\n",
       "      (bn3): BatchNorm2d(512, eps=1e-05, momentum=0.1, affine=True, track_running_stats=True)\n",
       "      (relu): ReLU(inplace=True)\n",
       "    )\n",
       "    (2): Bottleneck(\n",
       "      (conv1): Conv2d(512, 128, kernel_size=(1, 1), stride=(1, 1), bias=False)\n",
       "      (bn1): BatchNorm2d(128, eps=1e-05, momentum=0.1, affine=True, track_running_stats=True)\n",
       "      (conv2): Conv2d(128, 128, kernel_size=(3, 3), stride=(1, 1), padding=(1, 1), bias=False)\n",
       "      (bn2): BatchNorm2d(128, eps=1e-05, momentum=0.1, affine=True, track_running_stats=True)\n",
       "      (conv3): Conv2d(128, 512, kernel_size=(1, 1), stride=(1, 1), bias=False)\n",
       "      (bn3): BatchNorm2d(512, eps=1e-05, momentum=0.1, affine=True, track_running_stats=True)\n",
       "      (relu): ReLU(inplace=True)\n",
       "    )\n",
       "    (3): Bottleneck(\n",
       "      (conv1): Conv2d(512, 128, kernel_size=(1, 1), stride=(1, 1), bias=False)\n",
       "      (bn1): BatchNorm2d(128, eps=1e-05, momentum=0.1, affine=True, track_running_stats=True)\n",
       "      (conv2): Conv2d(128, 128, kernel_size=(3, 3), stride=(1, 1), padding=(1, 1), bias=False)\n",
       "      (bn2): BatchNorm2d(128, eps=1e-05, momentum=0.1, affine=True, track_running_stats=True)\n",
       "      (conv3): Conv2d(128, 512, kernel_size=(1, 1), stride=(1, 1), bias=False)\n",
       "      (bn3): BatchNorm2d(512, eps=1e-05, momentum=0.1, affine=True, track_running_stats=True)\n",
       "      (relu): ReLU(inplace=True)\n",
       "    )\n",
       "    (4): Bottleneck(\n",
       "      (conv1): Conv2d(512, 128, kernel_size=(1, 1), stride=(1, 1), bias=False)\n",
       "      (bn1): BatchNorm2d(128, eps=1e-05, momentum=0.1, affine=True, track_running_stats=True)\n",
       "      (conv2): Conv2d(128, 128, kernel_size=(3, 3), stride=(1, 1), padding=(1, 1), bias=False)\n",
       "      (bn2): BatchNorm2d(128, eps=1e-05, momentum=0.1, affine=True, track_running_stats=True)\n",
       "      (conv3): Conv2d(128, 512, kernel_size=(1, 1), stride=(1, 1), bias=False)\n",
       "      (bn3): BatchNorm2d(512, eps=1e-05, momentum=0.1, affine=True, track_running_stats=True)\n",
       "      (relu): ReLU(inplace=True)\n",
       "    )\n",
       "    (5): Bottleneck(\n",
       "      (conv1): Conv2d(512, 128, kernel_size=(1, 1), stride=(1, 1), bias=False)\n",
       "      (bn1): BatchNorm2d(128, eps=1e-05, momentum=0.1, affine=True, track_running_stats=True)\n",
       "      (conv2): Conv2d(128, 128, kernel_size=(3, 3), stride=(1, 1), padding=(1, 1), bias=False)\n",
       "      (bn2): BatchNorm2d(128, eps=1e-05, momentum=0.1, affine=True, track_running_stats=True)\n",
       "      (conv3): Conv2d(128, 512, kernel_size=(1, 1), stride=(1, 1), bias=False)\n",
       "      (bn3): BatchNorm2d(512, eps=1e-05, momentum=0.1, affine=True, track_running_stats=True)\n",
       "      (relu): ReLU(inplace=True)\n",
       "    )\n",
       "    (6): Bottleneck(\n",
       "      (conv1): Conv2d(512, 128, kernel_size=(1, 1), stride=(1, 1), bias=False)\n",
       "      (bn1): BatchNorm2d(128, eps=1e-05, momentum=0.1, affine=True, track_running_stats=True)\n",
       "      (conv2): Conv2d(128, 128, kernel_size=(3, 3), stride=(1, 1), padding=(1, 1), bias=False)\n",
       "      (bn2): BatchNorm2d(128, eps=1e-05, momentum=0.1, affine=True, track_running_stats=True)\n",
       "      (conv3): Conv2d(128, 512, kernel_size=(1, 1), stride=(1, 1), bias=False)\n",
       "      (bn3): BatchNorm2d(512, eps=1e-05, momentum=0.1, affine=True, track_running_stats=True)\n",
       "      (relu): ReLU(inplace=True)\n",
       "    )\n",
       "    (7): Bottleneck(\n",
       "      (conv1): Conv2d(512, 128, kernel_size=(1, 1), stride=(1, 1), bias=False)\n",
       "      (bn1): BatchNorm2d(128, eps=1e-05, momentum=0.1, affine=True, track_running_stats=True)\n",
       "      (conv2): Conv2d(128, 128, kernel_size=(3, 3), stride=(1, 1), padding=(1, 1), bias=False)\n",
       "      (bn2): BatchNorm2d(128, eps=1e-05, momentum=0.1, affine=True, track_running_stats=True)\n",
       "      (conv3): Conv2d(128, 512, kernel_size=(1, 1), stride=(1, 1), bias=False)\n",
       "      (bn3): BatchNorm2d(512, eps=1e-05, momentum=0.1, affine=True, track_running_stats=True)\n",
       "      (relu): ReLU(inplace=True)\n",
       "    )\n",
       "  )\n",
       "  (layer3): Sequential(\n",
       "    (0): Bottleneck(\n",
       "      (conv1): Conv2d(512, 256, kernel_size=(1, 1), stride=(1, 1), bias=False)\n",
       "      (bn1): BatchNorm2d(256, eps=1e-05, momentum=0.1, affine=True, track_running_stats=True)\n",
       "      (conv2): Conv2d(256, 256, kernel_size=(3, 3), stride=(2, 2), padding=(1, 1), bias=False)\n",
       "      (bn2): BatchNorm2d(256, eps=1e-05, momentum=0.1, affine=True, track_running_stats=True)\n",
       "      (conv3): Conv2d(256, 1024, kernel_size=(1, 1), stride=(1, 1), bias=False)\n",
       "      (bn3): BatchNorm2d(1024, eps=1e-05, momentum=0.1, affine=True, track_running_stats=True)\n",
       "      (relu): ReLU(inplace=True)\n",
       "      (downsample): Sequential(\n",
       "        (0): Conv2d(512, 1024, kernel_size=(1, 1), stride=(2, 2), bias=False)\n",
       "        (1): BatchNorm2d(1024, eps=1e-05, momentum=0.1, affine=True, track_running_stats=True)\n",
       "      )\n",
       "    )\n",
       "    (1): Bottleneck(\n",
       "      (conv1): Conv2d(1024, 256, kernel_size=(1, 1), stride=(1, 1), bias=False)\n",
       "      (bn1): BatchNorm2d(256, eps=1e-05, momentum=0.1, affine=True, track_running_stats=True)\n",
       "      (conv2): Conv2d(256, 256, kernel_size=(3, 3), stride=(1, 1), padding=(1, 1), bias=False)\n",
       "      (bn2): BatchNorm2d(256, eps=1e-05, momentum=0.1, affine=True, track_running_stats=True)\n",
       "      (conv3): Conv2d(256, 1024, kernel_size=(1, 1), stride=(1, 1), bias=False)\n",
       "      (bn3): BatchNorm2d(1024, eps=1e-05, momentum=0.1, affine=True, track_running_stats=True)\n",
       "      (relu): ReLU(inplace=True)\n",
       "    )\n",
       "    (2): Bottleneck(\n",
       "      (conv1): Conv2d(1024, 256, kernel_size=(1, 1), stride=(1, 1), bias=False)\n",
       "      (bn1): BatchNorm2d(256, eps=1e-05, momentum=0.1, affine=True, track_running_stats=True)\n",
       "      (conv2): Conv2d(256, 256, kernel_size=(3, 3), stride=(1, 1), padding=(1, 1), bias=False)\n",
       "      (bn2): BatchNorm2d(256, eps=1e-05, momentum=0.1, affine=True, track_running_stats=True)\n",
       "      (conv3): Conv2d(256, 1024, kernel_size=(1, 1), stride=(1, 1), bias=False)\n",
       "      (bn3): BatchNorm2d(1024, eps=1e-05, momentum=0.1, affine=True, track_running_stats=True)\n",
       "      (relu): ReLU(inplace=True)\n",
       "    )\n",
       "    (3): Bottleneck(\n",
       "      (conv1): Conv2d(1024, 256, kernel_size=(1, 1), stride=(1, 1), bias=False)\n",
       "      (bn1): BatchNorm2d(256, eps=1e-05, momentum=0.1, affine=True, track_running_stats=True)\n",
       "      (conv2): Conv2d(256, 256, kernel_size=(3, 3), stride=(1, 1), padding=(1, 1), bias=False)\n",
       "      (bn2): BatchNorm2d(256, eps=1e-05, momentum=0.1, affine=True, track_running_stats=True)\n",
       "      (conv3): Conv2d(256, 1024, kernel_size=(1, 1), stride=(1, 1), bias=False)\n",
       "      (bn3): BatchNorm2d(1024, eps=1e-05, momentum=0.1, affine=True, track_running_stats=True)\n",
       "      (relu): ReLU(inplace=True)\n",
       "    )\n",
       "    (4): Bottleneck(\n",
       "      (conv1): Conv2d(1024, 256, kernel_size=(1, 1), stride=(1, 1), bias=False)\n",
       "      (bn1): BatchNorm2d(256, eps=1e-05, momentum=0.1, affine=True, track_running_stats=True)\n",
       "      (conv2): Conv2d(256, 256, kernel_size=(3, 3), stride=(1, 1), padding=(1, 1), bias=False)\n",
       "      (bn2): BatchNorm2d(256, eps=1e-05, momentum=0.1, affine=True, track_running_stats=True)\n",
       "      (conv3): Conv2d(256, 1024, kernel_size=(1, 1), stride=(1, 1), bias=False)\n",
       "      (bn3): BatchNorm2d(1024, eps=1e-05, momentum=0.1, affine=True, track_running_stats=True)\n",
       "      (relu): ReLU(inplace=True)\n",
       "    )\n",
       "    (5): Bottleneck(\n",
       "      (conv1): Conv2d(1024, 256, kernel_size=(1, 1), stride=(1, 1), bias=False)\n",
       "      (bn1): BatchNorm2d(256, eps=1e-05, momentum=0.1, affine=True, track_running_stats=True)\n",
       "      (conv2): Conv2d(256, 256, kernel_size=(3, 3), stride=(1, 1), padding=(1, 1), bias=False)\n",
       "      (bn2): BatchNorm2d(256, eps=1e-05, momentum=0.1, affine=True, track_running_stats=True)\n",
       "      (conv3): Conv2d(256, 1024, kernel_size=(1, 1), stride=(1, 1), bias=False)\n",
       "      (bn3): BatchNorm2d(1024, eps=1e-05, momentum=0.1, affine=True, track_running_stats=True)\n",
       "      (relu): ReLU(inplace=True)\n",
       "    )\n",
       "    (6): Bottleneck(\n",
       "      (conv1): Conv2d(1024, 256, kernel_size=(1, 1), stride=(1, 1), bias=False)\n",
       "      (bn1): BatchNorm2d(256, eps=1e-05, momentum=0.1, affine=True, track_running_stats=True)\n",
       "      (conv2): Conv2d(256, 256, kernel_size=(3, 3), stride=(1, 1), padding=(1, 1), bias=False)\n",
       "      (bn2): BatchNorm2d(256, eps=1e-05, momentum=0.1, affine=True, track_running_stats=True)\n",
       "      (conv3): Conv2d(256, 1024, kernel_size=(1, 1), stride=(1, 1), bias=False)\n",
       "      (bn3): BatchNorm2d(1024, eps=1e-05, momentum=0.1, affine=True, track_running_stats=True)\n",
       "      (relu): ReLU(inplace=True)\n",
       "    )\n",
       "    (7): Bottleneck(\n",
       "      (conv1): Conv2d(1024, 256, kernel_size=(1, 1), stride=(1, 1), bias=False)\n",
       "      (bn1): BatchNorm2d(256, eps=1e-05, momentum=0.1, affine=True, track_running_stats=True)\n",
       "      (conv2): Conv2d(256, 256, kernel_size=(3, 3), stride=(1, 1), padding=(1, 1), bias=False)\n",
       "      (bn2): BatchNorm2d(256, eps=1e-05, momentum=0.1, affine=True, track_running_stats=True)\n",
       "      (conv3): Conv2d(256, 1024, kernel_size=(1, 1), stride=(1, 1), bias=False)\n",
       "      (bn3): BatchNorm2d(1024, eps=1e-05, momentum=0.1, affine=True, track_running_stats=True)\n",
       "      (relu): ReLU(inplace=True)\n",
       "    )\n",
       "    (8): Bottleneck(\n",
       "      (conv1): Conv2d(1024, 256, kernel_size=(1, 1), stride=(1, 1), bias=False)\n",
       "      (bn1): BatchNorm2d(256, eps=1e-05, momentum=0.1, affine=True, track_running_stats=True)\n",
       "      (conv2): Conv2d(256, 256, kernel_size=(3, 3), stride=(1, 1), padding=(1, 1), bias=False)\n",
       "      (bn2): BatchNorm2d(256, eps=1e-05, momentum=0.1, affine=True, track_running_stats=True)\n",
       "      (conv3): Conv2d(256, 1024, kernel_size=(1, 1), stride=(1, 1), bias=False)\n",
       "      (bn3): BatchNorm2d(1024, eps=1e-05, momentum=0.1, affine=True, track_running_stats=True)\n",
       "      (relu): ReLU(inplace=True)\n",
       "    )\n",
       "    (9): Bottleneck(\n",
       "      (conv1): Conv2d(1024, 256, kernel_size=(1, 1), stride=(1, 1), bias=False)\n",
       "      (bn1): BatchNorm2d(256, eps=1e-05, momentum=0.1, affine=True, track_running_stats=True)\n",
       "      (conv2): Conv2d(256, 256, kernel_size=(3, 3), stride=(1, 1), padding=(1, 1), bias=False)\n",
       "      (bn2): BatchNorm2d(256, eps=1e-05, momentum=0.1, affine=True, track_running_stats=True)\n",
       "      (conv3): Conv2d(256, 1024, kernel_size=(1, 1), stride=(1, 1), bias=False)\n",
       "      (bn3): BatchNorm2d(1024, eps=1e-05, momentum=0.1, affine=True, track_running_stats=True)\n",
       "      (relu): ReLU(inplace=True)\n",
       "    )\n",
       "    (10): Bottleneck(\n",
       "      (conv1): Conv2d(1024, 256, kernel_size=(1, 1), stride=(1, 1), bias=False)\n",
       "      (bn1): BatchNorm2d(256, eps=1e-05, momentum=0.1, affine=True, track_running_stats=True)\n",
       "      (conv2): Conv2d(256, 256, kernel_size=(3, 3), stride=(1, 1), padding=(1, 1), bias=False)\n",
       "      (bn2): BatchNorm2d(256, eps=1e-05, momentum=0.1, affine=True, track_running_stats=True)\n",
       "      (conv3): Conv2d(256, 1024, kernel_size=(1, 1), stride=(1, 1), bias=False)\n",
       "      (bn3): BatchNorm2d(1024, eps=1e-05, momentum=0.1, affine=True, track_running_stats=True)\n",
       "      (relu): ReLU(inplace=True)\n",
       "    )\n",
       "    (11): Bottleneck(\n",
       "      (conv1): Conv2d(1024, 256, kernel_size=(1, 1), stride=(1, 1), bias=False)\n",
       "      (bn1): BatchNorm2d(256, eps=1e-05, momentum=0.1, affine=True, track_running_stats=True)\n",
       "      (conv2): Conv2d(256, 256, kernel_size=(3, 3), stride=(1, 1), padding=(1, 1), bias=False)\n",
       "      (bn2): BatchNorm2d(256, eps=1e-05, momentum=0.1, affine=True, track_running_stats=True)\n",
       "      (conv3): Conv2d(256, 1024, kernel_size=(1, 1), stride=(1, 1), bias=False)\n",
       "      (bn3): BatchNorm2d(1024, eps=1e-05, momentum=0.1, affine=True, track_running_stats=True)\n",
       "      (relu): ReLU(inplace=True)\n",
       "    )\n",
       "    (12): Bottleneck(\n",
       "      (conv1): Conv2d(1024, 256, kernel_size=(1, 1), stride=(1, 1), bias=False)\n",
       "      (bn1): BatchNorm2d(256, eps=1e-05, momentum=0.1, affine=True, track_running_stats=True)\n",
       "      (conv2): Conv2d(256, 256, kernel_size=(3, 3), stride=(1, 1), padding=(1, 1), bias=False)\n",
       "      (bn2): BatchNorm2d(256, eps=1e-05, momentum=0.1, affine=True, track_running_stats=True)\n",
       "      (conv3): Conv2d(256, 1024, kernel_size=(1, 1), stride=(1, 1), bias=False)\n",
       "      (bn3): BatchNorm2d(1024, eps=1e-05, momentum=0.1, affine=True, track_running_stats=True)\n",
       "      (relu): ReLU(inplace=True)\n",
       "    )\n",
       "    (13): Bottleneck(\n",
       "      (conv1): Conv2d(1024, 256, kernel_size=(1, 1), stride=(1, 1), bias=False)\n",
       "      (bn1): BatchNorm2d(256, eps=1e-05, momentum=0.1, affine=True, track_running_stats=True)\n",
       "      (conv2): Conv2d(256, 256, kernel_size=(3, 3), stride=(1, 1), padding=(1, 1), bias=False)\n",
       "      (bn2): BatchNorm2d(256, eps=1e-05, momentum=0.1, affine=True, track_running_stats=True)\n",
       "      (conv3): Conv2d(256, 1024, kernel_size=(1, 1), stride=(1, 1), bias=False)\n",
       "      (bn3): BatchNorm2d(1024, eps=1e-05, momentum=0.1, affine=True, track_running_stats=True)\n",
       "      (relu): ReLU(inplace=True)\n",
       "    )\n",
       "    (14): Bottleneck(\n",
       "      (conv1): Conv2d(1024, 256, kernel_size=(1, 1), stride=(1, 1), bias=False)\n",
       "      (bn1): BatchNorm2d(256, eps=1e-05, momentum=0.1, affine=True, track_running_stats=True)\n",
       "      (conv2): Conv2d(256, 256, kernel_size=(3, 3), stride=(1, 1), padding=(1, 1), bias=False)\n",
       "      (bn2): BatchNorm2d(256, eps=1e-05, momentum=0.1, affine=True, track_running_stats=True)\n",
       "      (conv3): Conv2d(256, 1024, kernel_size=(1, 1), stride=(1, 1), bias=False)\n",
       "      (bn3): BatchNorm2d(1024, eps=1e-05, momentum=0.1, affine=True, track_running_stats=True)\n",
       "      (relu): ReLU(inplace=True)\n",
       "    )\n",
       "    (15): Bottleneck(\n",
       "      (conv1): Conv2d(1024, 256, kernel_size=(1, 1), stride=(1, 1), bias=False)\n",
       "      (bn1): BatchNorm2d(256, eps=1e-05, momentum=0.1, affine=True, track_running_stats=True)\n",
       "      (conv2): Conv2d(256, 256, kernel_size=(3, 3), stride=(1, 1), padding=(1, 1), bias=False)\n",
       "      (bn2): BatchNorm2d(256, eps=1e-05, momentum=0.1, affine=True, track_running_stats=True)\n",
       "      (conv3): Conv2d(256, 1024, kernel_size=(1, 1), stride=(1, 1), bias=False)\n",
       "      (bn3): BatchNorm2d(1024, eps=1e-05, momentum=0.1, affine=True, track_running_stats=True)\n",
       "      (relu): ReLU(inplace=True)\n",
       "    )\n",
       "    (16): Bottleneck(\n",
       "      (conv1): Conv2d(1024, 256, kernel_size=(1, 1), stride=(1, 1), bias=False)\n",
       "      (bn1): BatchNorm2d(256, eps=1e-05, momentum=0.1, affine=True, track_running_stats=True)\n",
       "      (conv2): Conv2d(256, 256, kernel_size=(3, 3), stride=(1, 1), padding=(1, 1), bias=False)\n",
       "      (bn2): BatchNorm2d(256, eps=1e-05, momentum=0.1, affine=True, track_running_stats=True)\n",
       "      (conv3): Conv2d(256, 1024, kernel_size=(1, 1), stride=(1, 1), bias=False)\n",
       "      (bn3): BatchNorm2d(1024, eps=1e-05, momentum=0.1, affine=True, track_running_stats=True)\n",
       "      (relu): ReLU(inplace=True)\n",
       "    )\n",
       "    (17): Bottleneck(\n",
       "      (conv1): Conv2d(1024, 256, kernel_size=(1, 1), stride=(1, 1), bias=False)\n",
       "      (bn1): BatchNorm2d(256, eps=1e-05, momentum=0.1, affine=True, track_running_stats=True)\n",
       "      (conv2): Conv2d(256, 256, kernel_size=(3, 3), stride=(1, 1), padding=(1, 1), bias=False)\n",
       "      (bn2): BatchNorm2d(256, eps=1e-05, momentum=0.1, affine=True, track_running_stats=True)\n",
       "      (conv3): Conv2d(256, 1024, kernel_size=(1, 1), stride=(1, 1), bias=False)\n",
       "      (bn3): BatchNorm2d(1024, eps=1e-05, momentum=0.1, affine=True, track_running_stats=True)\n",
       "      (relu): ReLU(inplace=True)\n",
       "    )\n",
       "    (18): Bottleneck(\n",
       "      (conv1): Conv2d(1024, 256, kernel_size=(1, 1), stride=(1, 1), bias=False)\n",
       "      (bn1): BatchNorm2d(256, eps=1e-05, momentum=0.1, affine=True, track_running_stats=True)\n",
       "      (conv2): Conv2d(256, 256, kernel_size=(3, 3), stride=(1, 1), padding=(1, 1), bias=False)\n",
       "      (bn2): BatchNorm2d(256, eps=1e-05, momentum=0.1, affine=True, track_running_stats=True)\n",
       "      (conv3): Conv2d(256, 1024, kernel_size=(1, 1), stride=(1, 1), bias=False)\n",
       "      (bn3): BatchNorm2d(1024, eps=1e-05, momentum=0.1, affine=True, track_running_stats=True)\n",
       "      (relu): ReLU(inplace=True)\n",
       "    )\n",
       "    (19): Bottleneck(\n",
       "      (conv1): Conv2d(1024, 256, kernel_size=(1, 1), stride=(1, 1), bias=False)\n",
       "      (bn1): BatchNorm2d(256, eps=1e-05, momentum=0.1, affine=True, track_running_stats=True)\n",
       "      (conv2): Conv2d(256, 256, kernel_size=(3, 3), stride=(1, 1), padding=(1, 1), bias=False)\n",
       "      (bn2): BatchNorm2d(256, eps=1e-05, momentum=0.1, affine=True, track_running_stats=True)\n",
       "      (conv3): Conv2d(256, 1024, kernel_size=(1, 1), stride=(1, 1), bias=False)\n",
       "      (bn3): BatchNorm2d(1024, eps=1e-05, momentum=0.1, affine=True, track_running_stats=True)\n",
       "      (relu): ReLU(inplace=True)\n",
       "    )\n",
       "    (20): Bottleneck(\n",
       "      (conv1): Conv2d(1024, 256, kernel_size=(1, 1), stride=(1, 1), bias=False)\n",
       "      (bn1): BatchNorm2d(256, eps=1e-05, momentum=0.1, affine=True, track_running_stats=True)\n",
       "      (conv2): Conv2d(256, 256, kernel_size=(3, 3), stride=(1, 1), padding=(1, 1), bias=False)\n",
       "      (bn2): BatchNorm2d(256, eps=1e-05, momentum=0.1, affine=True, track_running_stats=True)\n",
       "      (conv3): Conv2d(256, 1024, kernel_size=(1, 1), stride=(1, 1), bias=False)\n",
       "      (bn3): BatchNorm2d(1024, eps=1e-05, momentum=0.1, affine=True, track_running_stats=True)\n",
       "      (relu): ReLU(inplace=True)\n",
       "    )\n",
       "    (21): Bottleneck(\n",
       "      (conv1): Conv2d(1024, 256, kernel_size=(1, 1), stride=(1, 1), bias=False)\n",
       "      (bn1): BatchNorm2d(256, eps=1e-05, momentum=0.1, affine=True, track_running_stats=True)\n",
       "      (conv2): Conv2d(256, 256, kernel_size=(3, 3), stride=(1, 1), padding=(1, 1), bias=False)\n",
       "      (bn2): BatchNorm2d(256, eps=1e-05, momentum=0.1, affine=True, track_running_stats=True)\n",
       "      (conv3): Conv2d(256, 1024, kernel_size=(1, 1), stride=(1, 1), bias=False)\n",
       "      (bn3): BatchNorm2d(1024, eps=1e-05, momentum=0.1, affine=True, track_running_stats=True)\n",
       "      (relu): ReLU(inplace=True)\n",
       "    )\n",
       "    (22): Bottleneck(\n",
       "      (conv1): Conv2d(1024, 256, kernel_size=(1, 1), stride=(1, 1), bias=False)\n",
       "      (bn1): BatchNorm2d(256, eps=1e-05, momentum=0.1, affine=True, track_running_stats=True)\n",
       "      (conv2): Conv2d(256, 256, kernel_size=(3, 3), stride=(1, 1), padding=(1, 1), bias=False)\n",
       "      (bn2): BatchNorm2d(256, eps=1e-05, momentum=0.1, affine=True, track_running_stats=True)\n",
       "      (conv3): Conv2d(256, 1024, kernel_size=(1, 1), stride=(1, 1), bias=False)\n",
       "      (bn3): BatchNorm2d(1024, eps=1e-05, momentum=0.1, affine=True, track_running_stats=True)\n",
       "      (relu): ReLU(inplace=True)\n",
       "    )\n",
       "    (23): Bottleneck(\n",
       "      (conv1): Conv2d(1024, 256, kernel_size=(1, 1), stride=(1, 1), bias=False)\n",
       "      (bn1): BatchNorm2d(256, eps=1e-05, momentum=0.1, affine=True, track_running_stats=True)\n",
       "      (conv2): Conv2d(256, 256, kernel_size=(3, 3), stride=(1, 1), padding=(1, 1), bias=False)\n",
       "      (bn2): BatchNorm2d(256, eps=1e-05, momentum=0.1, affine=True, track_running_stats=True)\n",
       "      (conv3): Conv2d(256, 1024, kernel_size=(1, 1), stride=(1, 1), bias=False)\n",
       "      (bn3): BatchNorm2d(1024, eps=1e-05, momentum=0.1, affine=True, track_running_stats=True)\n",
       "      (relu): ReLU(inplace=True)\n",
       "    )\n",
       "    (24): Bottleneck(\n",
       "      (conv1): Conv2d(1024, 256, kernel_size=(1, 1), stride=(1, 1), bias=False)\n",
       "      (bn1): BatchNorm2d(256, eps=1e-05, momentum=0.1, affine=True, track_running_stats=True)\n",
       "      (conv2): Conv2d(256, 256, kernel_size=(3, 3), stride=(1, 1), padding=(1, 1), bias=False)\n",
       "      (bn2): BatchNorm2d(256, eps=1e-05, momentum=0.1, affine=True, track_running_stats=True)\n",
       "      (conv3): Conv2d(256, 1024, kernel_size=(1, 1), stride=(1, 1), bias=False)\n",
       "      (bn3): BatchNorm2d(1024, eps=1e-05, momentum=0.1, affine=True, track_running_stats=True)\n",
       "      (relu): ReLU(inplace=True)\n",
       "    )\n",
       "    (25): Bottleneck(\n",
       "      (conv1): Conv2d(1024, 256, kernel_size=(1, 1), stride=(1, 1), bias=False)\n",
       "      (bn1): BatchNorm2d(256, eps=1e-05, momentum=0.1, affine=True, track_running_stats=True)\n",
       "      (conv2): Conv2d(256, 256, kernel_size=(3, 3), stride=(1, 1), padding=(1, 1), bias=False)\n",
       "      (bn2): BatchNorm2d(256, eps=1e-05, momentum=0.1, affine=True, track_running_stats=True)\n",
       "      (conv3): Conv2d(256, 1024, kernel_size=(1, 1), stride=(1, 1), bias=False)\n",
       "      (bn3): BatchNorm2d(1024, eps=1e-05, momentum=0.1, affine=True, track_running_stats=True)\n",
       "      (relu): ReLU(inplace=True)\n",
       "    )\n",
       "    (26): Bottleneck(\n",
       "      (conv1): Conv2d(1024, 256, kernel_size=(1, 1), stride=(1, 1), bias=False)\n",
       "      (bn1): BatchNorm2d(256, eps=1e-05, momentum=0.1, affine=True, track_running_stats=True)\n",
       "      (conv2): Conv2d(256, 256, kernel_size=(3, 3), stride=(1, 1), padding=(1, 1), bias=False)\n",
       "      (bn2): BatchNorm2d(256, eps=1e-05, momentum=0.1, affine=True, track_running_stats=True)\n",
       "      (conv3): Conv2d(256, 1024, kernel_size=(1, 1), stride=(1, 1), bias=False)\n",
       "      (bn3): BatchNorm2d(1024, eps=1e-05, momentum=0.1, affine=True, track_running_stats=True)\n",
       "      (relu): ReLU(inplace=True)\n",
       "    )\n",
       "    (27): Bottleneck(\n",
       "      (conv1): Conv2d(1024, 256, kernel_size=(1, 1), stride=(1, 1), bias=False)\n",
       "      (bn1): BatchNorm2d(256, eps=1e-05, momentum=0.1, affine=True, track_running_stats=True)\n",
       "      (conv2): Conv2d(256, 256, kernel_size=(3, 3), stride=(1, 1), padding=(1, 1), bias=False)\n",
       "      (bn2): BatchNorm2d(256, eps=1e-05, momentum=0.1, affine=True, track_running_stats=True)\n",
       "      (conv3): Conv2d(256, 1024, kernel_size=(1, 1), stride=(1, 1), bias=False)\n",
       "      (bn3): BatchNorm2d(1024, eps=1e-05, momentum=0.1, affine=True, track_running_stats=True)\n",
       "      (relu): ReLU(inplace=True)\n",
       "    )\n",
       "    (28): Bottleneck(\n",
       "      (conv1): Conv2d(1024, 256, kernel_size=(1, 1), stride=(1, 1), bias=False)\n",
       "      (bn1): BatchNorm2d(256, eps=1e-05, momentum=0.1, affine=True, track_running_stats=True)\n",
       "      (conv2): Conv2d(256, 256, kernel_size=(3, 3), stride=(1, 1), padding=(1, 1), bias=False)\n",
       "      (bn2): BatchNorm2d(256, eps=1e-05, momentum=0.1, affine=True, track_running_stats=True)\n",
       "      (conv3): Conv2d(256, 1024, kernel_size=(1, 1), stride=(1, 1), bias=False)\n",
       "      (bn3): BatchNorm2d(1024, eps=1e-05, momentum=0.1, affine=True, track_running_stats=True)\n",
       "      (relu): ReLU(inplace=True)\n",
       "    )\n",
       "    (29): Bottleneck(\n",
       "      (conv1): Conv2d(1024, 256, kernel_size=(1, 1), stride=(1, 1), bias=False)\n",
       "      (bn1): BatchNorm2d(256, eps=1e-05, momentum=0.1, affine=True, track_running_stats=True)\n",
       "      (conv2): Conv2d(256, 256, kernel_size=(3, 3), stride=(1, 1), padding=(1, 1), bias=False)\n",
       "      (bn2): BatchNorm2d(256, eps=1e-05, momentum=0.1, affine=True, track_running_stats=True)\n",
       "      (conv3): Conv2d(256, 1024, kernel_size=(1, 1), stride=(1, 1), bias=False)\n",
       "      (bn3): BatchNorm2d(1024, eps=1e-05, momentum=0.1, affine=True, track_running_stats=True)\n",
       "      (relu): ReLU(inplace=True)\n",
       "    )\n",
       "    (30): Bottleneck(\n",
       "      (conv1): Conv2d(1024, 256, kernel_size=(1, 1), stride=(1, 1), bias=False)\n",
       "      (bn1): BatchNorm2d(256, eps=1e-05, momentum=0.1, affine=True, track_running_stats=True)\n",
       "      (conv2): Conv2d(256, 256, kernel_size=(3, 3), stride=(1, 1), padding=(1, 1), bias=False)\n",
       "      (bn2): BatchNorm2d(256, eps=1e-05, momentum=0.1, affine=True, track_running_stats=True)\n",
       "      (conv3): Conv2d(256, 1024, kernel_size=(1, 1), stride=(1, 1), bias=False)\n",
       "      (bn3): BatchNorm2d(1024, eps=1e-05, momentum=0.1, affine=True, track_running_stats=True)\n",
       "      (relu): ReLU(inplace=True)\n",
       "    )\n",
       "    (31): Bottleneck(\n",
       "      (conv1): Conv2d(1024, 256, kernel_size=(1, 1), stride=(1, 1), bias=False)\n",
       "      (bn1): BatchNorm2d(256, eps=1e-05, momentum=0.1, affine=True, track_running_stats=True)\n",
       "      (conv2): Conv2d(256, 256, kernel_size=(3, 3), stride=(1, 1), padding=(1, 1), bias=False)\n",
       "      (bn2): BatchNorm2d(256, eps=1e-05, momentum=0.1, affine=True, track_running_stats=True)\n",
       "      (conv3): Conv2d(256, 1024, kernel_size=(1, 1), stride=(1, 1), bias=False)\n",
       "      (bn3): BatchNorm2d(1024, eps=1e-05, momentum=0.1, affine=True, track_running_stats=True)\n",
       "      (relu): ReLU(inplace=True)\n",
       "    )\n",
       "    (32): Bottleneck(\n",
       "      (conv1): Conv2d(1024, 256, kernel_size=(1, 1), stride=(1, 1), bias=False)\n",
       "      (bn1): BatchNorm2d(256, eps=1e-05, momentum=0.1, affine=True, track_running_stats=True)\n",
       "      (conv2): Conv2d(256, 256, kernel_size=(3, 3), stride=(1, 1), padding=(1, 1), bias=False)\n",
       "      (bn2): BatchNorm2d(256, eps=1e-05, momentum=0.1, affine=True, track_running_stats=True)\n",
       "      (conv3): Conv2d(256, 1024, kernel_size=(1, 1), stride=(1, 1), bias=False)\n",
       "      (bn3): BatchNorm2d(1024, eps=1e-05, momentum=0.1, affine=True, track_running_stats=True)\n",
       "      (relu): ReLU(inplace=True)\n",
       "    )\n",
       "    (33): Bottleneck(\n",
       "      (conv1): Conv2d(1024, 256, kernel_size=(1, 1), stride=(1, 1), bias=False)\n",
       "      (bn1): BatchNorm2d(256, eps=1e-05, momentum=0.1, affine=True, track_running_stats=True)\n",
       "      (conv2): Conv2d(256, 256, kernel_size=(3, 3), stride=(1, 1), padding=(1, 1), bias=False)\n",
       "      (bn2): BatchNorm2d(256, eps=1e-05, momentum=0.1, affine=True, track_running_stats=True)\n",
       "      (conv3): Conv2d(256, 1024, kernel_size=(1, 1), stride=(1, 1), bias=False)\n",
       "      (bn3): BatchNorm2d(1024, eps=1e-05, momentum=0.1, affine=True, track_running_stats=True)\n",
       "      (relu): ReLU(inplace=True)\n",
       "    )\n",
       "    (34): Bottleneck(\n",
       "      (conv1): Conv2d(1024, 256, kernel_size=(1, 1), stride=(1, 1), bias=False)\n",
       "      (bn1): BatchNorm2d(256, eps=1e-05, momentum=0.1, affine=True, track_running_stats=True)\n",
       "      (conv2): Conv2d(256, 256, kernel_size=(3, 3), stride=(1, 1), padding=(1, 1), bias=False)\n",
       "      (bn2): BatchNorm2d(256, eps=1e-05, momentum=0.1, affine=True, track_running_stats=True)\n",
       "      (conv3): Conv2d(256, 1024, kernel_size=(1, 1), stride=(1, 1), bias=False)\n",
       "      (bn3): BatchNorm2d(1024, eps=1e-05, momentum=0.1, affine=True, track_running_stats=True)\n",
       "      (relu): ReLU(inplace=True)\n",
       "    )\n",
       "    (35): Bottleneck(\n",
       "      (conv1): Conv2d(1024, 256, kernel_size=(1, 1), stride=(1, 1), bias=False)\n",
       "      (bn1): BatchNorm2d(256, eps=1e-05, momentum=0.1, affine=True, track_running_stats=True)\n",
       "      (conv2): Conv2d(256, 256, kernel_size=(3, 3), stride=(1, 1), padding=(1, 1), bias=False)\n",
       "      (bn2): BatchNorm2d(256, eps=1e-05, momentum=0.1, affine=True, track_running_stats=True)\n",
       "      (conv3): Conv2d(256, 1024, kernel_size=(1, 1), stride=(1, 1), bias=False)\n",
       "      (bn3): BatchNorm2d(1024, eps=1e-05, momentum=0.1, affine=True, track_running_stats=True)\n",
       "      (relu): ReLU(inplace=True)\n",
       "    )\n",
       "  )\n",
       "  (layer4): Sequential(\n",
       "    (0): Bottleneck(\n",
       "      (conv1): Conv2d(1024, 512, kernel_size=(1, 1), stride=(1, 1), bias=False)\n",
       "      (bn1): BatchNorm2d(512, eps=1e-05, momentum=0.1, affine=True, track_running_stats=True)\n",
       "      (conv2): Conv2d(512, 512, kernel_size=(3, 3), stride=(2, 2), padding=(1, 1), bias=False)\n",
       "      (bn2): BatchNorm2d(512, eps=1e-05, momentum=0.1, affine=True, track_running_stats=True)\n",
       "      (conv3): Conv2d(512, 2048, kernel_size=(1, 1), stride=(1, 1), bias=False)\n",
       "      (bn3): BatchNorm2d(2048, eps=1e-05, momentum=0.1, affine=True, track_running_stats=True)\n",
       "      (relu): ReLU(inplace=True)\n",
       "      (downsample): Sequential(\n",
       "        (0): Conv2d(1024, 2048, kernel_size=(1, 1), stride=(2, 2), bias=False)\n",
       "        (1): BatchNorm2d(2048, eps=1e-05, momentum=0.1, affine=True, track_running_stats=True)\n",
       "      )\n",
       "    )\n",
       "    (1): Bottleneck(\n",
       "      (conv1): Conv2d(2048, 512, kernel_size=(1, 1), stride=(1, 1), bias=False)\n",
       "      (bn1): BatchNorm2d(512, eps=1e-05, momentum=0.1, affine=True, track_running_stats=True)\n",
       "      (conv2): Conv2d(512, 512, kernel_size=(3, 3), stride=(1, 1), padding=(1, 1), bias=False)\n",
       "      (bn2): BatchNorm2d(512, eps=1e-05, momentum=0.1, affine=True, track_running_stats=True)\n",
       "      (conv3): Conv2d(512, 2048, kernel_size=(1, 1), stride=(1, 1), bias=False)\n",
       "      (bn3): BatchNorm2d(2048, eps=1e-05, momentum=0.1, affine=True, track_running_stats=True)\n",
       "      (relu): ReLU(inplace=True)\n",
       "    )\n",
       "    (2): Bottleneck(\n",
       "      (conv1): Conv2d(2048, 512, kernel_size=(1, 1), stride=(1, 1), bias=False)\n",
       "      (bn1): BatchNorm2d(512, eps=1e-05, momentum=0.1, affine=True, track_running_stats=True)\n",
       "      (conv2): Conv2d(512, 512, kernel_size=(3, 3), stride=(1, 1), padding=(1, 1), bias=False)\n",
       "      (bn2): BatchNorm2d(512, eps=1e-05, momentum=0.1, affine=True, track_running_stats=True)\n",
       "      (conv3): Conv2d(512, 2048, kernel_size=(1, 1), stride=(1, 1), bias=False)\n",
       "      (bn3): BatchNorm2d(2048, eps=1e-05, momentum=0.1, affine=True, track_running_stats=True)\n",
       "      (relu): ReLU(inplace=True)\n",
       "    )\n",
       "  )\n",
       "  (avgpool): AdaptiveAvgPool2d(output_size=(1, 1))\n",
       "  (fc): Linear(in_features=2048, out_features=1000, bias=True)\n",
       ")"
      ]
     },
     "execution_count": 3,
     "metadata": {},
     "output_type": "execute_result"
    }
   ],
   "source": [
    "# model = models.resnet152(pretrained = True)\n",
    "model = models.resnet152(pretrained = True)\n",
    "model.eval()"
   ]
  },
  {
   "cell_type": "code",
   "execution_count": 4,
   "id": "d7a6acf1",
   "metadata": {
    "ExecuteTime": {
     "end_time": "2021-06-03T14:55:30.023818Z",
     "start_time": "2021-06-03T14:55:30.010816Z"
    }
   },
   "outputs": [],
   "source": [
    "# sample execution (requires torchvision)\n",
    "if process_images == True:\n",
    "\n",
    "    for filename in tqdm(os.listdir(\"./task4_be9ai3nsdj/food/food/\"), desc=\"Processing images...\"):\n",
    "    #     print(filename)\n",
    "        if filename.endswith(\".jpg\"):\n",
    "\n",
    "            input_image = Image.open(\"./task4_be9ai3nsdj/food/food/{}\".format(filename))\n",
    "            preprocess = transforms.Compose([\n",
    "            transforms.Resize(299),\n",
    "            transforms.CenterCrop(299),\n",
    "            transforms.ToTensor(),\n",
    "            transforms.Normalize(mean=[0.485, 0.456, 0.406], std=[0.229, 0.224, 0.225]),\n",
    "            ])\n",
    "            input_tensor = preprocess(input_image)\n",
    "            input_batch = input_tensor.unsqueeze(0) # create a mini-batch as expected by the model\n",
    "\n",
    "    # move the input and model to GPU for speed if available\n",
    "            if torch.cuda.is_available():\n",
    "                input_batch = input_batch.to('cuda')\n",
    "                model.to('cuda')\n",
    "            output = model(input_batch)\n",
    "            # Tensor of shape 1000, with confidence scores over Imagenet's 1000 classes\n",
    "    #         print(output[0])\n",
    "            # The output has unnormalized scores. To get probabilities, you can run a softmax on it.\n",
    "            output_np = output.cpu().detach().numpy()\n",
    "            np.save(\n",
    "            \"processed_images/\" + filename[:-4] + \".npy\", output_np\n",
    "            )\n",
    "\n",
    "else:\n",
    "    pass\n",
    "\n"
   ]
  },
  {
   "cell_type": "code",
   "execution_count": 5,
   "id": "f3a1bf13",
   "metadata": {
    "ExecuteTime": {
     "end_time": "2021-06-03T14:55:32.257669Z",
     "start_time": "2021-06-03T14:55:30.118919Z"
    }
   },
   "outputs": [
    {
     "name": "stdout",
     "output_type": "stream",
     "text": [
      "(178545, 1000)\n"
     ]
    }
   ],
   "source": [
    "if generate_datasets == True:\n",
    "\n",
    "    idx = np.loadtxt(\"./task4_be9ai3nsdj/train_triplets.txt\", dtype=str)\n",
    "\n",
    "    images_1 = [None] * idx.shape[0]\n",
    "    images_2 = [None] * idx.shape[0]\n",
    "    images_3 = [None] * idx.shape[0]\n",
    "\n",
    "    for i in tqdm(range(idx.shape[0])):\n",
    "        row = idx[i, :]\n",
    "        images_1[i] = np.load(\"processed_images/{}.npy\".format(row[0]))\n",
    "        images_2[i] = np.load(\"processed_images/{}.npy\".format(row[1]))\n",
    "        images_3[i] = np.load(\"processed_images/{}.npy\".format(row[2]))\n",
    "\n",
    "    A = np.vstack(images_1)\n",
    "    B = np.vstack(images_2)\n",
    "    C = np.vstack(images_3)\n",
    "\n",
    "    X1 = np.vstack((A, A, B))\n",
    "    X2 = np.vstack((B, C, A))\n",
    "    X3 = np.vstack((C, B, C))\n",
    "\n",
    "    np.save(\"X1_InceptionV3.npy\", X1)\n",
    "    np.save(\"X2_InceptionV3.npy\", X2)\n",
    "    np.save(\"X3_InceptionV3.npy\", X3)\n",
    "\n",
    "X1 = np.load(\"X1_InceptionV3.npy\").astype(np.float32)\n",
    "X2 = np.load(\"X2_InceptionV3.npy\").astype(np.float32)\n",
    "X3 = np.load(\"X3_InceptionV3.npy\").astype(np.float32)\n",
    "\n",
    "dsize = X1.shape[0]\n",
    "y_shape = (int(dsize / 3), 1)\n",
    "\n",
    "Y = np.vstack((np.ones(y_shape), np.zeros(y_shape), np.ones(y_shape))).astype(np.float32)\n",
    "print(X1.shape)\n",
    "if X1 is not None:\n",
    "    # If to ensure this cell isn't run twice.\n",
    "    (\n",
    "        X1_train,\n",
    "        X1_validate,\n",
    "        X2_train,\n",
    "        X2_validate,\n",
    "        X3_train,\n",
    "        X3_validate,\n",
    "        Y_train,\n",
    "        Y_validate,\n",
    "    ) = train_test_split(X1, X2, X3, Y, test_size=0.10, random_state=0, shuffle=True)\n",
    "\n",
    "    # And freeing some memory\n",
    "    del X1\n",
    "    X1 = None\n",
    "    del X2\n",
    "    X2 = None\n",
    "    del X3\n",
    "    X3 = None"
   ]
  },
  {
   "cell_type": "code",
   "execution_count": 6,
   "id": "4975683d",
   "metadata": {
    "ExecuteTime": {
     "end_time": "2021-06-03T14:55:32.413270Z",
     "start_time": "2021-06-03T14:55:32.399219Z"
    }
   },
   "outputs": [],
   "source": [
    "# if generate_datasets == True:\n",
    "\n",
    "#     idx = np.loadtxt(\"./task4_be9ai3nsdj/train_triplets.txt\", dtype=str)\n",
    "\n",
    "#     images_1 = [None] * idx.shape[0]\n",
    "#     images_2 = [None] * idx.shape[0]\n",
    "#     images_3 = [None] * idx.shape[0]\n",
    "\n",
    "#     for i in tqdm(range(idx.shape[0])):\n",
    "#         row = idx[i, :]\n",
    "#         images_1[i] = np.load(\"processed_images/{}.npy\".format(row[0]))\n",
    "#         images_2[i] = np.load(\"processed_images/{}.npy\".format(row[1]))\n",
    "#         images_3[i] = np.load(\"processed_images/{}.npy\".format(row[2]))\n",
    "\n",
    "#     A = np.vstack(images_1)\n",
    "#     B = np.vstack(images_2)\n",
    "#     C = np.vstack(images_3)\n",
    "\n",
    "#     X1 = np.vstack((A, A))\n",
    "#     X2 = np.vstack((B, C))\n",
    "#     X3 = np.vstack((C, B))\n",
    "\n",
    "#     np.save(\"X1_InceptionV3_no3rdass.npy\", X1)\n",
    "#     np.save(\"X2_InceptionV3_no3rdass.npy\", X2)\n",
    "#     np.save(\"X3_InceptionV3_no3rdass.npy\", X3)\n",
    "\n",
    "# X1 = np.load(\"X1_InceptionV3_no3rdass.npy\").astype(np.float32)\n",
    "# X2 = np.load(\"X2_InceptionV3_no3rdass.npy\").astype(np.float32)\n",
    "# X3 = np.load(\"X3_InceptionV3_no3rdass.npy\").astype(np.float32)\n",
    "\n",
    "# dsize = X1.shape[0]\n",
    "# y_shape = (int(dsize / 2), 1)\n",
    "\n",
    "# Y = np.vstack((np.ones(y_shape), np.zeros(y_shape))).astype(np.float32)\n",
    "\n",
    "# if X1 is not None:\n",
    "#     # If to ensure this cell isn't run twice.\n",
    "#     (\n",
    "#         X1_train,\n",
    "#         X1_validate,\n",
    "#         X2_train,\n",
    "#         X2_validate,\n",
    "#         X3_train,\n",
    "#         X3_validate,\n",
    "#         Y_train,\n",
    "#         Y_validate,\n",
    "#     ) = train_test_split(X1, X2,X3, Y, test_size=0.10, random_state=0, shuffle=True)\n",
    "\n",
    "#     # And freeing some memory\n",
    "#     del X1\n",
    "#     X1 = None\n",
    "#     del X2\n",
    "#     X2 = None\n",
    "#     del X3\n",
    "#     X3 = None"
   ]
  },
  {
   "cell_type": "code",
   "execution_count": null,
   "id": "d8e18046",
   "metadata": {
    "ExecuteTime": {
     "end_time": "2021-06-03T09:09:14.616464Z",
     "start_time": "2021-06-03T09:09:14.610547Z"
    }
   },
   "outputs": [],
   "source": []
  },
  {
   "cell_type": "code",
   "execution_count": 7,
   "id": "7840ef94",
   "metadata": {
    "ExecuteTime": {
     "end_time": "2021-06-03T14:55:32.943611Z",
     "start_time": "2021-06-03T14:55:32.509270Z"
    }
   },
   "outputs": [],
   "source": [
    "if generate_datasets_test == True:\n",
    "\n",
    "    idx = np.loadtxt(\"./task4_be9ai3nsdj/test_triplets.txt\", dtype=str)\n",
    "\n",
    "    images_1 = [None] * idx.shape[0]\n",
    "    images_2 = [None] * idx.shape[0]\n",
    "    images_3 = [None] * idx.shape[0]\n",
    "\n",
    "    for i in tqdm(range(idx.shape[0])):\n",
    "        row = idx[i, :]\n",
    "        images_1[i] = np.load(f\"processed_images/{row[0]}.npy\")\n",
    "        images_2[i] = np.load(f\"processed_images/{row[1]}.npy\")\n",
    "        images_3[i] = np.load(f\"processed_images/{row[2]}.npy\")\n",
    "\n",
    "    X1_test = np.vstack(images_1)\n",
    "    X2_test = np.vstack(images_2)\n",
    "    X3_test = np.vstack(images_3)\n",
    "\n",
    "    np.save(\"X1_test_InceptionV3.npy\", X1_test)\n",
    "    np.save(\"X2_test_InceptionV3.npy\", X2_test)\n",
    "    np.save(\"X3_test_InceptionV3.npy\", X3_test)\n",
    "\n",
    "\n",
    "X1_test = np.load(\"X1_test_InceptionV3.npy\").astype(np.float32)\n",
    "X2_test = np.load(\"X2_test_InceptionV3.npy\").astype(np.float32)\n",
    "X3_test = np.load(\"X3_test_InceptionV3.npy\").astype(np.float32)"
   ]
  },
  {
   "cell_type": "code",
   "execution_count": 8,
   "id": "652fed4d",
   "metadata": {
    "ExecuteTime": {
     "end_time": "2021-06-03T14:55:42.630801Z",
     "start_time": "2021-06-03T14:55:33.125632Z"
    }
   },
   "outputs": [],
   "source": [
    "if not \"scaler\" in locals():\n",
    "    scaler = StandardScaler()\n",
    "\n",
    "    X1_train, X2_train, X3_train = np.vsplit(\n",
    "        scaler.fit_transform(np.vstack((X1_train, X2_train, X3_train))), 3\n",
    "    )\n",
    "\n",
    "    # Transform the training data\n",
    "    X1_validate = scaler.transform(X1_validate)\n",
    "    X2_validate = scaler.transform(X2_validate)\n",
    "    X3_validate = scaler.transform(X3_validate)\n",
    "\n",
    "    # Transform the testing data\n",
    "    X1_test = scaler.transform(X1_test)\n",
    "    X2_test = scaler.transform(X2_test)\n",
    "    X3_test = scaler.transform(X3_test)\n",
    "\n",
    "\n"
   ]
  },
  {
   "cell_type": "code",
   "execution_count": 9,
   "id": "cfa848a9",
   "metadata": {
    "ExecuteTime": {
     "end_time": "2021-06-03T14:55:42.818631Z",
     "start_time": "2021-06-03T14:55:42.804853Z"
    }
   },
   "outputs": [],
   "source": [
    "device = torch.device(\"cuda\")\n",
    "batch = 50"
   ]
  },
  {
   "cell_type": "code",
   "execution_count": 10,
   "id": "e0d824d5",
   "metadata": {
    "ExecuteTime": {
     "end_time": "2021-06-03T14:55:45.748745Z",
     "start_time": "2021-06-03T14:55:42.943439Z"
    }
   },
   "outputs": [],
   "source": [
    "X1_train_tensor=torch.tensor(X1_train).to(device)\n",
    "X2_train_tensor=torch.tensor(X2_train).to(device)\n",
    "X3_train_tensor=torch.tensor(X3_train).to(device)\n",
    "Y_train_tensor = torch.tensor(Y_train).to(device)\n",
    "train_dataset = torch.utils.data.TensorDataset(X1_train_tensor,X2_train_tensor,X3_train_tensor,\n",
    "                                            Y_train_tensor)\n",
    "train_dataloader = torch.utils.data.DataLoader(train_dataset,batch_size=batch)\n",
    "\n",
    "X1_validate_tensor=torch.tensor(X1_validate).to(device)\n",
    "X2_validate_tensor=torch.tensor(X2_validate).to(device)\n",
    "X3_validate_tensor=torch.tensor(X3_validate).to(device)\n",
    "Y_validate_tensor = torch.tensor(Y_validate).to(device)\n",
    "validate_dataset = torch.utils.data.TensorDataset(X1_validate_tensor,X2_validate_tensor,X3_validate_tensor,\n",
    "                                            Y_validate_tensor)\n",
    "validate_dataloader = torch.utils.data.DataLoader(validate_dataset,batch_size=batch)\n",
    "\n",
    "X1_test_tensor=torch.tensor(X1_test).to(device)\n",
    "X2_test_tensor=torch.tensor(X2_test).to(device)\n",
    "X3_test_tensor=torch.tensor(X3_test).to(device)\n",
    "test_dataset = torch.utils.data.TensorDataset(X1_test_tensor,X2_test_tensor,X3_test_tensor)\n",
    "test_dataloader = torch.utils.data.DataLoader(test_dataset,batch_size=batch)"
   ]
  },
  {
   "cell_type": "code",
   "execution_count": 11,
   "id": "a016d0a0",
   "metadata": {
    "ExecuteTime": {
     "end_time": "2021-06-03T14:55:46.148419Z",
     "start_time": "2021-06-03T14:55:46.135761Z"
    }
   },
   "outputs": [],
   "source": [
    "class Densenet(torch.nn.Module):\n",
    "\n",
    "    def __init__(self, input_layer,out_features,seed = 10):\n",
    "        self.PW = 2000\n",
    "        self.DW = 500\n",
    "        super().__init__()\n",
    "        self.parelleblock= nn.Sequential(nn.Sequential(nn.Linear(in_dim, self.PW),nn.ReLU()),\n",
    "#                            nn.Sequential(nn.Linear(self.PW, 1500),nn.ReLU()),\n",
    "#                             nn.Sequential(nn.Dropout(p=0.7)),\n",
    "                           nn.Sequential(nn.Linear(self.PW, 500,bias=False),nn.ReLU()),\n",
    "                           nn.Sequential(nn.Linear(500, 300,bias=False),nn.ReLU()),\n",
    "                           nn.Sequential(nn.Linear(300, 300,bias=False),nn.ReLU()),\n",
    "                           nn.Sequential(nn.Dropout(p=0.5)),\n",
    "                           nn.Sequential(nn.Linear(300, 300,bias=False),nn.ReLU()),\n",
    "                           nn.Sequential(nn.Linear(300, 300,bias=False),nn.ReLU()),\n",
    "                           nn.Sequential(nn.Linear(300, 300,bias=False),nn.ReLU()),\n",
    "#                            nn.Sequential(nn.Dropout(p=0.2)),\n",
    "                           nn.Sequential(nn.Linear(300, 200,bias=False),nn.ReLU()))\n",
    "        \n",
    "        \n",
    "        self.DB=nn.Sequential(nn.Sequential(nn.Linear(200*3, 72,bias=False ),nn.ReLU()),\n",
    "                   nn.Sequential(nn.Linear(72, 18,bias=False),nn.ReLU()),\n",
    "                nn.Sequential(nn.Linear(18 , 1 ),nn.Sigmoid())\n",
    "#                    nn.Sequential(nn.Linear(200 , 1 ),nn.ReLU())\n",
    "                              )\n",
    "        # self.net.to(device)\n",
    "    def forward(self, im1,im2,im3):\n",
    "        u1= self.parelleblock(im1)\n",
    "        u2 = self.parelleblock(im2)\n",
    "        u3 = self.parelleblock(im3)\n",
    "#         print(u1.shape,u2.shape,u3.shape)\n",
    "        cat = torch.cat((u1, u2,u3), dim=1) #keep track of dims\n",
    "#         print(cat.shape)\n",
    "        out = self.DB(cat).to(device)\n",
    "        return out\n",
    "    def predict(self, im1,im2,im3):\n",
    "         return (self.forward(im1,im2,im3))\n",
    "#         return nn.functional.softmax(self.forward(im1,im2,im3),dim=0)\n",
    "# def forward(self, image, data):\n",
    "#         x1 = self.cnn(image)\n",
    "#         x2 = data\n",
    "        \n",
    "#         x = torch.cat((x1, x2), dim=1)\n",
    "#         x = F.relu(self.fc1(x))\n",
    "#         x = self.fc2(x)\n",
    "#         return x"
   ]
  },
  {
   "cell_type": "code",
   "execution_count": 12,
   "id": "9c098124",
   "metadata": {
    "ExecuteTime": {
     "end_time": "2021-06-03T14:55:46.554419Z",
     "start_time": "2021-06-03T14:55:46.525785Z"
    }
   },
   "outputs": [
    {
     "name": "stdout",
     "output_type": "stream",
     "text": [
      "1000\n"
     ]
    }
   ],
   "source": [
    "in_dim = X1_train.shape[1]\n",
    "print(in_dim)\n",
    "out_dim = Y_train.shape[1]\n",
    "net_instance = Densenet(in_dim,out_dim).to(device)\n",
    "# net_instance.to(device)"
   ]
  },
  {
   "cell_type": "code",
   "execution_count": 13,
   "id": "c4dc7ffe",
   "metadata": {
    "ExecuteTime": {
     "end_time": "2021-06-03T14:55:46.936448Z",
     "start_time": "2021-06-03T14:55:46.922448Z"
    }
   },
   "outputs": [],
   "source": [
    "# net_instance.to(device)\n",
    "# for batch_x1,batch_x2,batch_x3,batch_y in train_dataloader:\n",
    "#     net_instance.forward(batch_x1,batch_x2,batch_x3)\n"
   ]
  },
  {
   "cell_type": "code",
   "execution_count": 14,
   "id": "22d3aaee",
   "metadata": {
    "ExecuteTime": {
     "end_time": "2021-06-03T14:55:47.328879Z",
     "start_time": "2021-06-03T14:55:47.314886Z"
    }
   },
   "outputs": [],
   "source": [
    "optimizer = optim.AdamW(net_instance.parameters(), lr=1e-4,weight_decay  =1e-2,amsgrad =False )\n",
    "loss_function = nn.BCELoss()\n",
    "# scheduler = lr_scheduler.StepLR(optimizer, step_size = 20, gamma = 0.1)\n",
    "accuracy = Accuracy().to(device)"
   ]
  },
  {
   "cell_type": "code",
   "execution_count": 15,
   "id": "6e09a563",
   "metadata": {
    "ExecuteTime": {
     "end_time": "2021-06-03T14:55:47.718939Z",
     "start_time": "2021-06-03T14:55:47.705926Z"
    },
    "code_folding": []
   },
   "outputs": [],
   "source": [
    "# Run the training loop for defined number of epochs\n",
    "def train_network(\n",
    "    model,\n",
    "    optimizer,\n",
    "    training_data_loader,\n",
    "    testing_data_loader,\n",
    "    training_loss_fn,\n",
    "    testing_loss_fn,\n",
    "    num_epochs,\n",
    "):\n",
    "    pbar = trange(num_epochs)\n",
    "\n",
    "    training_losses = []\n",
    "    testing_losses = []\n",
    "    testing_accuracy = []\n",
    "    for i in pbar:\n",
    "\n",
    "        training_losses_batch = []\n",
    "        for batch_x1,batch_x2,batch_x3,batch_y in training_data_loader:\n",
    "            model.zero_grad()\n",
    "#             optimizer.zero_grad()\n",
    "            y_pred = model(batch_x1,batch_x2,batch_x3)\n",
    "            loss = training_loss_fn(y_pred, batch_y)\n",
    "            training_losses_batch.append(loss)\n",
    "            y_int = batch_y.type(torch.int).to(device)\n",
    "            ypred_accur = accuracy(y_pred,y_int)\n",
    "            pbar.set_description(\"loss {:.3f} accuracy{:.3f} LR{}:\".format(loss,ypred_accur,optimizer.param_groups[0]['lr']))\n",
    "            loss.backward()\n",
    "            optimizer.step()\n",
    "            \n",
    "        training_losses.append(\n",
    "            torch.mean(torch.stack(training_losses_batch)).detach()\n",
    "        )\n",
    "#         scheduler.step()\n",
    "        testing_losses_batch = []\n",
    "        testing_accuracy_batch = []\n",
    "        for test_x1, test_x2,test_x3,test_y in testing_data_loader:\n",
    "            y_pred_test = model( test_x1, test_x2,test_x3)\n",
    "            testing_losses_batch.append(testing_loss_fn(y_pred_test, test_y))\n",
    "            y_testint = test_y.type(torch.int).to(device)\n",
    "            testing_accuracy_batch.append(accuracy(y_pred_test,y_testint))\n",
    "        \n",
    "        testing_accuracy.append(\n",
    "            torch.mean(torch.stack(testing_accuracy_batch)).detach()\n",
    "        )\n",
    "        testing_losses.append(\n",
    "            torch.mean(torch.stack(testing_losses_batch)).detach()\n",
    "        )\n",
    "\n",
    "    return (\n",
    "        torch.stack(training_losses).detach().cpu().numpy(),\n",
    "        torch.stack(testing_losses).detach().cpu().numpy(),\n",
    "        torch.stack(testing_accuracy).detach().cpu().numpy(),\n",
    "    )\n"
   ]
  },
  {
   "cell_type": "code",
   "execution_count": 16,
   "id": "eb6521e0",
   "metadata": {
    "ExecuteTime": {
     "end_time": "2021-06-03T15:08:50.407051Z",
     "start_time": "2021-06-03T14:55:48.095603Z"
    }
   },
   "outputs": [
    {
     "name": "stderr",
     "output_type": "stream",
     "text": [
      "loss 0.250 accuracy0.900 LR0.0001:: 100%|██████████████████████████████████████████████| 20/20 [13:02<00:00, 39.11s/it]\n"
     ]
    }
   ],
   "source": [
    "training_losses, testing_losses,testing_accuracy = train_network(net_instance,optimizer,train_dataloader,\n",
    "                                                validate_dataloader,loss_function,\n",
    "                                                loss_function,20)"
   ]
  },
  {
   "cell_type": "code",
   "execution_count": 17,
   "id": "1bad519d",
   "metadata": {
    "ExecuteTime": {
     "end_time": "2021-06-03T15:51:37.419017Z",
     "start_time": "2021-06-03T15:51:37.256883Z"
    }
   },
   "outputs": [
    {
     "data": {
      "text/plain": [
       "[<matplotlib.lines.Line2D at 0x1f8b7646c40>]"
      ]
     },
     "execution_count": 17,
     "metadata": {},
     "output_type": "execute_result"
    },
    {
     "data": {
      "image/png": "[encoded data removed]",
      "text/plain": [
       "<Figure size 432x288 with 1 Axes>"
      ]
     },
     "metadata": {
      "needs_background": "light"
     },
     "output_type": "display_data"
    }
   ],
   "source": [
    "plt.plot(testing_accuracy)"
   ]
  },
  {
   "cell_type": "code",
   "execution_count": 18,
   "id": "032c51da",
   "metadata": {
    "ExecuteTime": {
     "end_time": "2021-06-03T15:51:38.616039Z",
     "start_time": "2021-06-03T15:51:38.492042Z"
    }
   },
   "outputs": [
    {
     "data": {
      "text/plain": [
       "[<matplotlib.lines.Line2D at 0x1f8c4467e20>]"
      ]
     },
     "execution_count": 18,
     "metadata": {},
     "output_type": "execute_result"
    },
    {
     "data": {
      "image/png": "[encoded data removed]",
      "text/plain": [
       "<Figure size 432x288 with 1 Axes>"
      ]
     },
     "metadata": {
      "needs_background": "light"
     },
     "output_type": "display_data"
    }
   ],
   "source": [
    "import matplotlib.pyplot as plt \n",
    "plt.plot(testing_losses)\n",
    "plt.plot(training_losses)"
   ]
  },
  {
   "cell_type": "code",
   "execution_count": 19,
   "id": "4a5c12b1",
   "metadata": {
    "ExecuteTime": {
     "end_time": "2021-06-03T15:51:46.118884Z",
     "start_time": "2021-06-03T15:51:42.194883Z"
    }
   },
   "outputs": [],
   "source": [
    "prediction = []\n",
    "for batch_x1,batch_x2,batch_x3 in test_dataloader:\n",
    "    prediction_temp = net_instance.predict(batch_x1,batch_x2,batch_x3)\n",
    "    prediction_temp = prediction_temp.cpu().detach().numpy()\n",
    "    prediction = np.append(prediction,prediction_temp)\n",
    "\n",
    "prediction_rounded = np.round(prediction)"
   ]
  },
  {
   "cell_type": "code",
   "execution_count": null,
   "id": "9492d559",
   "metadata": {
    "ExecuteTime": {
     "end_time": "2021-06-03T14:54:30.515505Z",
     "start_time": "2021-06-03T14:46:38.182Z"
    }
   },
   "outputs": [],
   "source": [
    "prediction_rounded"
   ]
  },
  {
   "cell_type": "code",
   "execution_count": 55,
   "id": "d7a410a9",
   "metadata": {
    "ExecuteTime": {
     "end_time": "2021-06-03T14:32:47.921122Z",
     "start_time": "2021-06-03T14:32:47.844123Z"
    }
   },
   "outputs": [],
   "source": [
    "pd.DataFrame(prediction_rounded.T).to_csv('prediction_network_Two.csv', index=False, header=None)"
   ]
  },
  {
   "cell_type": "code",
   "execution_count": 56,
   "id": "ca1af92c",
   "metadata": {
    "ExecuteTime": {
     "end_time": "2021-06-03T14:32:50.314122Z",
     "start_time": "2021-06-03T14:32:50.033124Z"
    }
   },
   "outputs": [],
   "source": [
    "reference = np.loadtxt('Best_score.csv')"
   ]
  },
  {
   "cell_type": "code",
   "execution_count": 57,
   "id": "2d1079ec",
   "metadata": {
    "ExecuteTime": {
     "end_time": "2021-06-03T14:32:52.294957Z",
     "start_time": "2021-06-03T14:32:52.280961Z"
    }
   },
   "outputs": [],
   "source": [
    "reference=torch.tensor(reference)\n",
    "reference = reference.to(torch.int)\n",
    "prediction_rounded=torch.tensor( prediction_rounded)\n",
    "prediction_rounded = prediction_rounded.to(torch.int)"
   ]
  },
  {
   "cell_type": "code",
   "execution_count": 58,
   "id": "6050bd18",
   "metadata": {
    "ExecuteTime": {
     "end_time": "2021-06-03T14:32:54.457024Z",
     "start_time": "2021-06-03T14:32:54.444021Z"
    }
   },
   "outputs": [
    {
     "data": {
      "text/plain": [
       "tensor(0.7206)"
      ]
     },
     "execution_count": 58,
     "metadata": {},
     "output_type": "execute_result"
    }
   ],
   "source": [
    "accu_ref = Accuracy()\n",
    "accu_ref(prediction_rounded,reference)"
   ]
  },
  {
   "cell_type": "code",
   "execution_count": null,
   "id": "6f27acc0",
   "metadata": {},
   "outputs": [],
   "source": []
  },
  {
   "cell_type": "code",
   "execution_count": null,
   "id": "ca766add",
   "metadata": {},
   "outputs": [],
   "source": []
  }
 ],
 "metadata": {
  "hide_input": false,
  "kernelspec": {
   "display_name": "Python 3",
   "language": "python",
   "name": "python3"
  },
  "language_info": {
   "codemirror_mode": {
    "name": "ipython",
    "version": 3
   },
   "file_extension": ".py",
   "mimetype": "text/x-python",
   "name": "python",
   "nbconvert_exporter": "python",
   "pygments_lexer": "ipython3",
   "version": "3.9.4"
  },
  "latex_envs": {
   "LaTeX_envs_menu_present": true,
   "autoclose": false,
   "autocomplete": true,
   "bibliofile": "biblio.bib",
   "cite_by": "apalike",
   "current_citInitial": 1,
   "eqLabelWithNumbers": true,
   "eqNumInitial": 1,
   "hotkeys": {
    "equation": "Ctrl-E",
    "itemize": "Ctrl-I"
   },
   "labels_anchors": false,
   "latex_user_defs": false,
   "report_style_numbering": false,
   "user_envs_cfg": false
  },
  "varInspector": {
   "cols": {
    "lenName": 16,
    "lenType": 16,
    "lenVar": 40
   },
   "kernels_config": {
    "python": {
     "delete_cmd_postfix": "",
     "delete_cmd_prefix": "del ",
     "library": "var_list.py",
     "varRefreshCmd": "print(var_dic_list())"
    },
    "r": {
     "delete_cmd_postfix": ") ",
     "delete_cmd_prefix": "rm(",
     "library": "var_list.r",
     "varRefreshCmd": "cat(var_dic_list()) "
    }
   },
   "types_to_exclude": [
    "module",
    "function",
    "builtin_function_or_method",
    "instance",
    "_Feature"
   ],
   "window_display": false
  }
 },
 "nbformat": 4,
 "nbformat_minor": 5
}
