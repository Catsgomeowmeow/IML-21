{
 "cells": [
  {
   "cell_type": "code",
   "execution_count": 1,
   "id": "6aae2175",
   "metadata": {
    "ExecuteTime": {
     "end_time": "2021-06-02T14:13:41.393839Z",
     "start_time": "2021-06-02T14:13:39.867841Z"
    }
   },
   "outputs": [],
   "source": [
    "import torch\n",
    "import torch.nn as nn\n",
    "import torch.optim as optim\n",
    "import torchvision \n",
    "from torch.optim import lr_scheduler\n",
    "from torch.utils.data import  DataLoader,datasets,Subset\n",
    "from torchvision import datasets, models, transforms\n",
    "from PIL import Image\n",
    "from torchvision import transforms\n",
    "from PIL import Image\n",
    "import numpy as np\n",
    "import pandas as pd\n",
    "import time\n",
    "import matplotlib.pyplot as plt \n",
    "import torchvision.models as models\n",
    "import copy\n",
    "\n",
    "from tqdm import tqdm,trange\n",
    "import os \n",
    "from sklearn.model_selection import train_test_split\n",
    "from sklearn.preprocessing import StandardScaler\n",
    "\n",
    "\n",
    "\n",
    "from sklearn.linear_model import RidgeClassifier\n",
    "from sklearn.neural_network import MLPClassifier\n",
    "from sklearn.preprocessing import StandardScaler, MinMaxScaler, QuantileTransformer\n",
    "from sklearn.model_selection import cross_val_score, KFold\n",
    "from sklearn.metrics import make_scorer, f1_score\n"
   ]
  },
  {
   "cell_type": "code",
   "execution_count": 2,
   "id": "6de4e975",
   "metadata": {
    "ExecuteTime": {
     "end_time": "2021-06-02T14:13:41.813830Z",
     "start_time": "2021-06-02T14:13:41.800831Z"
    }
   },
   "outputs": [],
   "source": [
    "process_images = False\n",
    "generate_datasets = False\n",
    "generate_datasets_test = False"
   ]
  },
  {
   "cell_type": "code",
   "execution_count": 3,
   "id": "854f2693",
   "metadata": {
    "ExecuteTime": {
     "end_time": "2021-06-02T14:13:42.563829Z",
     "start_time": "2021-06-02T14:13:42.219831Z"
    }
   },
   "outputs": [
    {
     "data": {
      "text/plain": [
       "Inception3(\n",
       "  (Conv2d_1a_3x3): BasicConv2d(\n",
       "    (conv): Conv2d(3, 32, kernel_size=(3, 3), stride=(2, 2), bias=False)\n",
       "    (bn): BatchNorm2d(32, eps=0.001, momentum=0.1, affine=True, track_running_stats=True)\n",
       "  )\n",
       "  (Conv2d_2a_3x3): BasicConv2d(\n",
       "    (conv): Conv2d(32, 32, kernel_size=(3, 3), stride=(1, 1), bias=False)\n",
       "    (bn): BatchNorm2d(32, eps=0.001, momentum=0.1, affine=True, track_running_stats=True)\n",
       "  )\n",
       "  (Conv2d_2b_3x3): BasicConv2d(\n",
       "    (conv): Conv2d(32, 64, kernel_size=(3, 3), stride=(1, 1), padding=(1, 1), bias=False)\n",
       "    (bn): BatchNorm2d(64, eps=0.001, momentum=0.1, affine=True, track_running_stats=True)\n",
       "  )\n",
       "  (maxpool1): MaxPool2d(kernel_size=3, stride=2, padding=0, dilation=1, ceil_mode=False)\n",
       "  (Conv2d_3b_1x1): BasicConv2d(\n",
       "    (conv): Conv2d(64, 80, kernel_size=(1, 1), stride=(1, 1), bias=False)\n",
       "    (bn): BatchNorm2d(80, eps=0.001, momentum=0.1, affine=True, track_running_stats=True)\n",
       "  )\n",
       "  (Conv2d_4a_3x3): BasicConv2d(\n",
       "    (conv): Conv2d(80, 192, kernel_size=(3, 3), stride=(1, 1), bias=False)\n",
       "    (bn): BatchNorm2d(192, eps=0.001, momentum=0.1, affine=True, track_running_stats=True)\n",
       "  )\n",
       "  (maxpool2): MaxPool2d(kernel_size=3, stride=2, padding=0, dilation=1, ceil_mode=False)\n",
       "  (Mixed_5b): InceptionA(\n",
       "    (branch1x1): BasicConv2d(\n",
       "      (conv): Conv2d(192, 64, kernel_size=(1, 1), stride=(1, 1), bias=False)\n",
       "      (bn): BatchNorm2d(64, eps=0.001, momentum=0.1, affine=True, track_running_stats=True)\n",
       "    )\n",
       "    (branch5x5_1): BasicConv2d(\n",
       "      (conv): Conv2d(192, 48, kernel_size=(1, 1), stride=(1, 1), bias=False)\n",
       "      (bn): BatchNorm2d(48, eps=0.001, momentum=0.1, affine=True, track_running_stats=True)\n",
       "    )\n",
       "    (branch5x5_2): BasicConv2d(\n",
       "      (conv): Conv2d(48, 64, kernel_size=(5, 5), stride=(1, 1), padding=(2, 2), bias=False)\n",
       "      (bn): BatchNorm2d(64, eps=0.001, momentum=0.1, affine=True, track_running_stats=True)\n",
       "    )\n",
       "    (branch3x3dbl_1): BasicConv2d(\n",
       "      (conv): Conv2d(192, 64, kernel_size=(1, 1), stride=(1, 1), bias=False)\n",
       "      (bn): BatchNorm2d(64, eps=0.001, momentum=0.1, affine=True, track_running_stats=True)\n",
       "    )\n",
       "    (branch3x3dbl_2): BasicConv2d(\n",
       "      (conv): Conv2d(64, 96, kernel_size=(3, 3), stride=(1, 1), padding=(1, 1), bias=False)\n",
       "      (bn): BatchNorm2d(96, eps=0.001, momentum=0.1, affine=True, track_running_stats=True)\n",
       "    )\n",
       "    (branch3x3dbl_3): BasicConv2d(\n",
       "      (conv): Conv2d(96, 96, kernel_size=(3, 3), stride=(1, 1), padding=(1, 1), bias=False)\n",
       "      (bn): BatchNorm2d(96, eps=0.001, momentum=0.1, affine=True, track_running_stats=True)\n",
       "    )\n",
       "    (branch_pool): BasicConv2d(\n",
       "      (conv): Conv2d(192, 32, kernel_size=(1, 1), stride=(1, 1), bias=False)\n",
       "      (bn): BatchNorm2d(32, eps=0.001, momentum=0.1, affine=True, track_running_stats=True)\n",
       "    )\n",
       "  )\n",
       "  (Mixed_5c): InceptionA(\n",
       "    (branch1x1): BasicConv2d(\n",
       "      (conv): Conv2d(256, 64, kernel_size=(1, 1), stride=(1, 1), bias=False)\n",
       "      (bn): BatchNorm2d(64, eps=0.001, momentum=0.1, affine=True, track_running_stats=True)\n",
       "    )\n",
       "    (branch5x5_1): BasicConv2d(\n",
       "      (conv): Conv2d(256, 48, kernel_size=(1, 1), stride=(1, 1), bias=False)\n",
       "      (bn): BatchNorm2d(48, eps=0.001, momentum=0.1, affine=True, track_running_stats=True)\n",
       "    )\n",
       "    (branch5x5_2): BasicConv2d(\n",
       "      (conv): Conv2d(48, 64, kernel_size=(5, 5), stride=(1, 1), padding=(2, 2), bias=False)\n",
       "      (bn): BatchNorm2d(64, eps=0.001, momentum=0.1, affine=True, track_running_stats=True)\n",
       "    )\n",
       "    (branch3x3dbl_1): BasicConv2d(\n",
       "      (conv): Conv2d(256, 64, kernel_size=(1, 1), stride=(1, 1), bias=False)\n",
       "      (bn): BatchNorm2d(64, eps=0.001, momentum=0.1, affine=True, track_running_stats=True)\n",
       "    )\n",
       "    (branch3x3dbl_2): BasicConv2d(\n",
       "      (conv): Conv2d(64, 96, kernel_size=(3, 3), stride=(1, 1), padding=(1, 1), bias=False)\n",
       "      (bn): BatchNorm2d(96, eps=0.001, momentum=0.1, affine=True, track_running_stats=True)\n",
       "    )\n",
       "    (branch3x3dbl_3): BasicConv2d(\n",
       "      (conv): Conv2d(96, 96, kernel_size=(3, 3), stride=(1, 1), padding=(1, 1), bias=False)\n",
       "      (bn): BatchNorm2d(96, eps=0.001, momentum=0.1, affine=True, track_running_stats=True)\n",
       "    )\n",
       "    (branch_pool): BasicConv2d(\n",
       "      (conv): Conv2d(256, 64, kernel_size=(1, 1), stride=(1, 1), bias=False)\n",
       "      (bn): BatchNorm2d(64, eps=0.001, momentum=0.1, affine=True, track_running_stats=True)\n",
       "    )\n",
       "  )\n",
       "  (Mixed_5d): InceptionA(\n",
       "    (branch1x1): BasicConv2d(\n",
       "      (conv): Conv2d(288, 64, kernel_size=(1, 1), stride=(1, 1), bias=False)\n",
       "      (bn): BatchNorm2d(64, eps=0.001, momentum=0.1, affine=True, track_running_stats=True)\n",
       "    )\n",
       "    (branch5x5_1): BasicConv2d(\n",
       "      (conv): Conv2d(288, 48, kernel_size=(1, 1), stride=(1, 1), bias=False)\n",
       "      (bn): BatchNorm2d(48, eps=0.001, momentum=0.1, affine=True, track_running_stats=True)\n",
       "    )\n",
       "    (branch5x5_2): BasicConv2d(\n",
       "      (conv): Conv2d(48, 64, kernel_size=(5, 5), stride=(1, 1), padding=(2, 2), bias=False)\n",
       "      (bn): BatchNorm2d(64, eps=0.001, momentum=0.1, affine=True, track_running_stats=True)\n",
       "    )\n",
       "    (branch3x3dbl_1): BasicConv2d(\n",
       "      (conv): Conv2d(288, 64, kernel_size=(1, 1), stride=(1, 1), bias=False)\n",
       "      (bn): BatchNorm2d(64, eps=0.001, momentum=0.1, affine=True, track_running_stats=True)\n",
       "    )\n",
       "    (branch3x3dbl_2): BasicConv2d(\n",
       "      (conv): Conv2d(64, 96, kernel_size=(3, 3), stride=(1, 1), padding=(1, 1), bias=False)\n",
       "      (bn): BatchNorm2d(96, eps=0.001, momentum=0.1, affine=True, track_running_stats=True)\n",
       "    )\n",
       "    (branch3x3dbl_3): BasicConv2d(\n",
       "      (conv): Conv2d(96, 96, kernel_size=(3, 3), stride=(1, 1), padding=(1, 1), bias=False)\n",
       "      (bn): BatchNorm2d(96, eps=0.001, momentum=0.1, affine=True, track_running_stats=True)\n",
       "    )\n",
       "    (branch_pool): BasicConv2d(\n",
       "      (conv): Conv2d(288, 64, kernel_size=(1, 1), stride=(1, 1), bias=False)\n",
       "      (bn): BatchNorm2d(64, eps=0.001, momentum=0.1, affine=True, track_running_stats=True)\n",
       "    )\n",
       "  )\n",
       "  (Mixed_6a): InceptionB(\n",
       "    (branch3x3): BasicConv2d(\n",
       "      (conv): Conv2d(288, 384, kernel_size=(3, 3), stride=(2, 2), bias=False)\n",
       "      (bn): BatchNorm2d(384, eps=0.001, momentum=0.1, affine=True, track_running_stats=True)\n",
       "    )\n",
       "    (branch3x3dbl_1): BasicConv2d(\n",
       "      (conv): Conv2d(288, 64, kernel_size=(1, 1), stride=(1, 1), bias=False)\n",
       "      (bn): BatchNorm2d(64, eps=0.001, momentum=0.1, affine=True, track_running_stats=True)\n",
       "    )\n",
       "    (branch3x3dbl_2): BasicConv2d(\n",
       "      (conv): Conv2d(64, 96, kernel_size=(3, 3), stride=(1, 1), padding=(1, 1), bias=False)\n",
       "      (bn): BatchNorm2d(96, eps=0.001, momentum=0.1, affine=True, track_running_stats=True)\n",
       "    )\n",
       "    (branch3x3dbl_3): BasicConv2d(\n",
       "      (conv): Conv2d(96, 96, kernel_size=(3, 3), stride=(2, 2), bias=False)\n",
       "      (bn): BatchNorm2d(96, eps=0.001, momentum=0.1, affine=True, track_running_stats=True)\n",
       "    )\n",
       "  )\n",
       "  (Mixed_6b): InceptionC(\n",
       "    (branch1x1): BasicConv2d(\n",
       "      (conv): Conv2d(768, 192, kernel_size=(1, 1), stride=(1, 1), bias=False)\n",
       "      (bn): BatchNorm2d(192, eps=0.001, momentum=0.1, affine=True, track_running_stats=True)\n",
       "    )\n",
       "    (branch7x7_1): BasicConv2d(\n",
       "      (conv): Conv2d(768, 128, kernel_size=(1, 1), stride=(1, 1), bias=False)\n",
       "      (bn): BatchNorm2d(128, eps=0.001, momentum=0.1, affine=True, track_running_stats=True)\n",
       "    )\n",
       "    (branch7x7_2): BasicConv2d(\n",
       "      (conv): Conv2d(128, 128, kernel_size=(1, 7), stride=(1, 1), padding=(0, 3), bias=False)\n",
       "      (bn): BatchNorm2d(128, eps=0.001, momentum=0.1, affine=True, track_running_stats=True)\n",
       "    )\n",
       "    (branch7x7_3): BasicConv2d(\n",
       "      (conv): Conv2d(128, 192, kernel_size=(7, 1), stride=(1, 1), padding=(3, 0), bias=False)\n",
       "      (bn): BatchNorm2d(192, eps=0.001, momentum=0.1, affine=True, track_running_stats=True)\n",
       "    )\n",
       "    (branch7x7dbl_1): BasicConv2d(\n",
       "      (conv): Conv2d(768, 128, kernel_size=(1, 1), stride=(1, 1), bias=False)\n",
       "      (bn): BatchNorm2d(128, eps=0.001, momentum=0.1, affine=True, track_running_stats=True)\n",
       "    )\n",
       "    (branch7x7dbl_2): BasicConv2d(\n",
       "      (conv): Conv2d(128, 128, kernel_size=(7, 1), stride=(1, 1), padding=(3, 0), bias=False)\n",
       "      (bn): BatchNorm2d(128, eps=0.001, momentum=0.1, affine=True, track_running_stats=True)\n",
       "    )\n",
       "    (branch7x7dbl_3): BasicConv2d(\n",
       "      (conv): Conv2d(128, 128, kernel_size=(1, 7), stride=(1, 1), padding=(0, 3), bias=False)\n",
       "      (bn): BatchNorm2d(128, eps=0.001, momentum=0.1, affine=True, track_running_stats=True)\n",
       "    )\n",
       "    (branch7x7dbl_4): BasicConv2d(\n",
       "      (conv): Conv2d(128, 128, kernel_size=(7, 1), stride=(1, 1), padding=(3, 0), bias=False)\n",
       "      (bn): BatchNorm2d(128, eps=0.001, momentum=0.1, affine=True, track_running_stats=True)\n",
       "    )\n",
       "    (branch7x7dbl_5): BasicConv2d(\n",
       "      (conv): Conv2d(128, 192, kernel_size=(1, 7), stride=(1, 1), padding=(0, 3), bias=False)\n",
       "      (bn): BatchNorm2d(192, eps=0.001, momentum=0.1, affine=True, track_running_stats=True)\n",
       "    )\n",
       "    (branch_pool): BasicConv2d(\n",
       "      (conv): Conv2d(768, 192, kernel_size=(1, 1), stride=(1, 1), bias=False)\n",
       "      (bn): BatchNorm2d(192, eps=0.001, momentum=0.1, affine=True, track_running_stats=True)\n",
       "    )\n",
       "  )\n",
       "  (Mixed_6c): InceptionC(\n",
       "    (branch1x1): BasicConv2d(\n",
       "      (conv): Conv2d(768, 192, kernel_size=(1, 1), stride=(1, 1), bias=False)\n",
       "      (bn): BatchNorm2d(192, eps=0.001, momentum=0.1, affine=True, track_running_stats=True)\n",
       "    )\n",
       "    (branch7x7_1): BasicConv2d(\n",
       "      (conv): Conv2d(768, 160, kernel_size=(1, 1), stride=(1, 1), bias=False)\n",
       "      (bn): BatchNorm2d(160, eps=0.001, momentum=0.1, affine=True, track_running_stats=True)\n",
       "    )\n",
       "    (branch7x7_2): BasicConv2d(\n",
       "      (conv): Conv2d(160, 160, kernel_size=(1, 7), stride=(1, 1), padding=(0, 3), bias=False)\n",
       "      (bn): BatchNorm2d(160, eps=0.001, momentum=0.1, affine=True, track_running_stats=True)\n",
       "    )\n",
       "    (branch7x7_3): BasicConv2d(\n",
       "      (conv): Conv2d(160, 192, kernel_size=(7, 1), stride=(1, 1), padding=(3, 0), bias=False)\n",
       "      (bn): BatchNorm2d(192, eps=0.001, momentum=0.1, affine=True, track_running_stats=True)\n",
       "    )\n",
       "    (branch7x7dbl_1): BasicConv2d(\n",
       "      (conv): Conv2d(768, 160, kernel_size=(1, 1), stride=(1, 1), bias=False)\n",
       "      (bn): BatchNorm2d(160, eps=0.001, momentum=0.1, affine=True, track_running_stats=True)\n",
       "    )\n",
       "    (branch7x7dbl_2): BasicConv2d(\n",
       "      (conv): Conv2d(160, 160, kernel_size=(7, 1), stride=(1, 1), padding=(3, 0), bias=False)\n",
       "      (bn): BatchNorm2d(160, eps=0.001, momentum=0.1, affine=True, track_running_stats=True)\n",
       "    )\n",
       "    (branch7x7dbl_3): BasicConv2d(\n",
       "      (conv): Conv2d(160, 160, kernel_size=(1, 7), stride=(1, 1), padding=(0, 3), bias=False)\n",
       "      (bn): BatchNorm2d(160, eps=0.001, momentum=0.1, affine=True, track_running_stats=True)\n",
       "    )\n",
       "    (branch7x7dbl_4): BasicConv2d(\n",
       "      (conv): Conv2d(160, 160, kernel_size=(7, 1), stride=(1, 1), padding=(3, 0), bias=False)\n",
       "      (bn): BatchNorm2d(160, eps=0.001, momentum=0.1, affine=True, track_running_stats=True)\n",
       "    )\n",
       "    (branch7x7dbl_5): BasicConv2d(\n",
       "      (conv): Conv2d(160, 192, kernel_size=(1, 7), stride=(1, 1), padding=(0, 3), bias=False)\n",
       "      (bn): BatchNorm2d(192, eps=0.001, momentum=0.1, affine=True, track_running_stats=True)\n",
       "    )\n",
       "    (branch_pool): BasicConv2d(\n",
       "      (conv): Conv2d(768, 192, kernel_size=(1, 1), stride=(1, 1), bias=False)\n",
       "      (bn): BatchNorm2d(192, eps=0.001, momentum=0.1, affine=True, track_running_stats=True)\n",
       "    )\n",
       "  )\n",
       "  (Mixed_6d): InceptionC(\n",
       "    (branch1x1): BasicConv2d(\n",
       "      (conv): Conv2d(768, 192, kernel_size=(1, 1), stride=(1, 1), bias=False)\n",
       "      (bn): BatchNorm2d(192, eps=0.001, momentum=0.1, affine=True, track_running_stats=True)\n",
       "    )\n",
       "    (branch7x7_1): BasicConv2d(\n",
       "      (conv): Conv2d(768, 160, kernel_size=(1, 1), stride=(1, 1), bias=False)\n",
       "      (bn): BatchNorm2d(160, eps=0.001, momentum=0.1, affine=True, track_running_stats=True)\n",
       "    )\n",
       "    (branch7x7_2): BasicConv2d(\n",
       "      (conv): Conv2d(160, 160, kernel_size=(1, 7), stride=(1, 1), padding=(0, 3), bias=False)\n",
       "      (bn): BatchNorm2d(160, eps=0.001, momentum=0.1, affine=True, track_running_stats=True)\n",
       "    )\n",
       "    (branch7x7_3): BasicConv2d(\n",
       "      (conv): Conv2d(160, 192, kernel_size=(7, 1), stride=(1, 1), padding=(3, 0), bias=False)\n",
       "      (bn): BatchNorm2d(192, eps=0.001, momentum=0.1, affine=True, track_running_stats=True)\n",
       "    )\n",
       "    (branch7x7dbl_1): BasicConv2d(\n",
       "      (conv): Conv2d(768, 160, kernel_size=(1, 1), stride=(1, 1), bias=False)\n",
       "      (bn): BatchNorm2d(160, eps=0.001, momentum=0.1, affine=True, track_running_stats=True)\n",
       "    )\n",
       "    (branch7x7dbl_2): BasicConv2d(\n",
       "      (conv): Conv2d(160, 160, kernel_size=(7, 1), stride=(1, 1), padding=(3, 0), bias=False)\n",
       "      (bn): BatchNorm2d(160, eps=0.001, momentum=0.1, affine=True, track_running_stats=True)\n",
       "    )\n",
       "    (branch7x7dbl_3): BasicConv2d(\n",
       "      (conv): Conv2d(160, 160, kernel_size=(1, 7), stride=(1, 1), padding=(0, 3), bias=False)\n",
       "      (bn): BatchNorm2d(160, eps=0.001, momentum=0.1, affine=True, track_running_stats=True)\n",
       "    )\n",
       "    (branch7x7dbl_4): BasicConv2d(\n",
       "      (conv): Conv2d(160, 160, kernel_size=(7, 1), stride=(1, 1), padding=(3, 0), bias=False)\n",
       "      (bn): BatchNorm2d(160, eps=0.001, momentum=0.1, affine=True, track_running_stats=True)\n",
       "    )\n",
       "    (branch7x7dbl_5): BasicConv2d(\n",
       "      (conv): Conv2d(160, 192, kernel_size=(1, 7), stride=(1, 1), padding=(0, 3), bias=False)\n",
       "      (bn): BatchNorm2d(192, eps=0.001, momentum=0.1, affine=True, track_running_stats=True)\n",
       "    )\n",
       "    (branch_pool): BasicConv2d(\n",
       "      (conv): Conv2d(768, 192, kernel_size=(1, 1), stride=(1, 1), bias=False)\n",
       "      (bn): BatchNorm2d(192, eps=0.001, momentum=0.1, affine=True, track_running_stats=True)\n",
       "    )\n",
       "  )\n",
       "  (Mixed_6e): InceptionC(\n",
       "    (branch1x1): BasicConv2d(\n",
       "      (conv): Conv2d(768, 192, kernel_size=(1, 1), stride=(1, 1), bias=False)\n",
       "      (bn): BatchNorm2d(192, eps=0.001, momentum=0.1, affine=True, track_running_stats=True)\n",
       "    )\n",
       "    (branch7x7_1): BasicConv2d(\n",
       "      (conv): Conv2d(768, 192, kernel_size=(1, 1), stride=(1, 1), bias=False)\n",
       "      (bn): BatchNorm2d(192, eps=0.001, momentum=0.1, affine=True, track_running_stats=True)\n",
       "    )\n",
       "    (branch7x7_2): BasicConv2d(\n",
       "      (conv): Conv2d(192, 192, kernel_size=(1, 7), stride=(1, 1), padding=(0, 3), bias=False)\n",
       "      (bn): BatchNorm2d(192, eps=0.001, momentum=0.1, affine=True, track_running_stats=True)\n",
       "    )\n",
       "    (branch7x7_3): BasicConv2d(\n",
       "      (conv): Conv2d(192, 192, kernel_size=(7, 1), stride=(1, 1), padding=(3, 0), bias=False)\n",
       "      (bn): BatchNorm2d(192, eps=0.001, momentum=0.1, affine=True, track_running_stats=True)\n",
       "    )\n",
       "    (branch7x7dbl_1): BasicConv2d(\n",
       "      (conv): Conv2d(768, 192, kernel_size=(1, 1), stride=(1, 1), bias=False)\n",
       "      (bn): BatchNorm2d(192, eps=0.001, momentum=0.1, affine=True, track_running_stats=True)\n",
       "    )\n",
       "    (branch7x7dbl_2): BasicConv2d(\n",
       "      (conv): Conv2d(192, 192, kernel_size=(7, 1), stride=(1, 1), padding=(3, 0), bias=False)\n",
       "      (bn): BatchNorm2d(192, eps=0.001, momentum=0.1, affine=True, track_running_stats=True)\n",
       "    )\n",
       "    (branch7x7dbl_3): BasicConv2d(\n",
       "      (conv): Conv2d(192, 192, kernel_size=(1, 7), stride=(1, 1), padding=(0, 3), bias=False)\n",
       "      (bn): BatchNorm2d(192, eps=0.001, momentum=0.1, affine=True, track_running_stats=True)\n",
       "    )\n",
       "    (branch7x7dbl_4): BasicConv2d(\n",
       "      (conv): Conv2d(192, 192, kernel_size=(7, 1), stride=(1, 1), padding=(3, 0), bias=False)\n",
       "      (bn): BatchNorm2d(192, eps=0.001, momentum=0.1, affine=True, track_running_stats=True)\n",
       "    )\n",
       "    (branch7x7dbl_5): BasicConv2d(\n",
       "      (conv): Conv2d(192, 192, kernel_size=(1, 7), stride=(1, 1), padding=(0, 3), bias=False)\n",
       "      (bn): BatchNorm2d(192, eps=0.001, momentum=0.1, affine=True, track_running_stats=True)\n",
       "    )\n",
       "    (branch_pool): BasicConv2d(\n",
       "      (conv): Conv2d(768, 192, kernel_size=(1, 1), stride=(1, 1), bias=False)\n",
       "      (bn): BatchNorm2d(192, eps=0.001, momentum=0.1, affine=True, track_running_stats=True)\n",
       "    )\n",
       "  )\n",
       "  (AuxLogits): InceptionAux(\n",
       "    (conv0): BasicConv2d(\n",
       "      (conv): Conv2d(768, 128, kernel_size=(1, 1), stride=(1, 1), bias=False)\n",
       "      (bn): BatchNorm2d(128, eps=0.001, momentum=0.1, affine=True, track_running_stats=True)\n",
       "    )\n",
       "    (conv1): BasicConv2d(\n",
       "      (conv): Conv2d(128, 768, kernel_size=(5, 5), stride=(1, 1), bias=False)\n",
       "      (bn): BatchNorm2d(768, eps=0.001, momentum=0.1, affine=True, track_running_stats=True)\n",
       "    )\n",
       "    (fc): Linear(in_features=768, out_features=1000, bias=True)\n",
       "  )\n",
       "  (Mixed_7a): InceptionD(\n",
       "    (branch3x3_1): BasicConv2d(\n",
       "      (conv): Conv2d(768, 192, kernel_size=(1, 1), stride=(1, 1), bias=False)\n",
       "      (bn): BatchNorm2d(192, eps=0.001, momentum=0.1, affine=True, track_running_stats=True)\n",
       "    )\n",
       "    (branch3x3_2): BasicConv2d(\n",
       "      (conv): Conv2d(192, 320, kernel_size=(3, 3), stride=(2, 2), bias=False)\n",
       "      (bn): BatchNorm2d(320, eps=0.001, momentum=0.1, affine=True, track_running_stats=True)\n",
       "    )\n",
       "    (branch7x7x3_1): BasicConv2d(\n",
       "      (conv): Conv2d(768, 192, kernel_size=(1, 1), stride=(1, 1), bias=False)\n",
       "      (bn): BatchNorm2d(192, eps=0.001, momentum=0.1, affine=True, track_running_stats=True)\n",
       "    )\n",
       "    (branch7x7x3_2): BasicConv2d(\n",
       "      (conv): Conv2d(192, 192, kernel_size=(1, 7), stride=(1, 1), padding=(0, 3), bias=False)\n",
       "      (bn): BatchNorm2d(192, eps=0.001, momentum=0.1, affine=True, track_running_stats=True)\n",
       "    )\n",
       "    (branch7x7x3_3): BasicConv2d(\n",
       "      (conv): Conv2d(192, 192, kernel_size=(7, 1), stride=(1, 1), padding=(3, 0), bias=False)\n",
       "      (bn): BatchNorm2d(192, eps=0.001, momentum=0.1, affine=True, track_running_stats=True)\n",
       "    )\n",
       "    (branch7x7x3_4): BasicConv2d(\n",
       "      (conv): Conv2d(192, 192, kernel_size=(3, 3), stride=(2, 2), bias=False)\n",
       "      (bn): BatchNorm2d(192, eps=0.001, momentum=0.1, affine=True, track_running_stats=True)\n",
       "    )\n",
       "  )\n",
       "  (Mixed_7b): InceptionE(\n",
       "    (branch1x1): BasicConv2d(\n",
       "      (conv): Conv2d(1280, 320, kernel_size=(1, 1), stride=(1, 1), bias=False)\n",
       "      (bn): BatchNorm2d(320, eps=0.001, momentum=0.1, affine=True, track_running_stats=True)\n",
       "    )\n",
       "    (branch3x3_1): BasicConv2d(\n",
       "      (conv): Conv2d(1280, 384, kernel_size=(1, 1), stride=(1, 1), bias=False)\n",
       "      (bn): BatchNorm2d(384, eps=0.001, momentum=0.1, affine=True, track_running_stats=True)\n",
       "    )\n",
       "    (branch3x3_2a): BasicConv2d(\n",
       "      (conv): Conv2d(384, 384, kernel_size=(1, 3), stride=(1, 1), padding=(0, 1), bias=False)\n",
       "      (bn): BatchNorm2d(384, eps=0.001, momentum=0.1, affine=True, track_running_stats=True)\n",
       "    )\n",
       "    (branch3x3_2b): BasicConv2d(\n",
       "      (conv): Conv2d(384, 384, kernel_size=(3, 1), stride=(1, 1), padding=(1, 0), bias=False)\n",
       "      (bn): BatchNorm2d(384, eps=0.001, momentum=0.1, affine=True, track_running_stats=True)\n",
       "    )\n",
       "    (branch3x3dbl_1): BasicConv2d(\n",
       "      (conv): Conv2d(1280, 448, kernel_size=(1, 1), stride=(1, 1), bias=False)\n",
       "      (bn): BatchNorm2d(448, eps=0.001, momentum=0.1, affine=True, track_running_stats=True)\n",
       "    )\n",
       "    (branch3x3dbl_2): BasicConv2d(\n",
       "      (conv): Conv2d(448, 384, kernel_size=(3, 3), stride=(1, 1), padding=(1, 1), bias=False)\n",
       "      (bn): BatchNorm2d(384, eps=0.001, momentum=0.1, affine=True, track_running_stats=True)\n",
       "    )\n",
       "    (branch3x3dbl_3a): BasicConv2d(\n",
       "      (conv): Conv2d(384, 384, kernel_size=(1, 3), stride=(1, 1), padding=(0, 1), bias=False)\n",
       "      (bn): BatchNorm2d(384, eps=0.001, momentum=0.1, affine=True, track_running_stats=True)\n",
       "    )\n",
       "    (branch3x3dbl_3b): BasicConv2d(\n",
       "      (conv): Conv2d(384, 384, kernel_size=(3, 1), stride=(1, 1), padding=(1, 0), bias=False)\n",
       "      (bn): BatchNorm2d(384, eps=0.001, momentum=0.1, affine=True, track_running_stats=True)\n",
       "    )\n",
       "    (branch_pool): BasicConv2d(\n",
       "      (conv): Conv2d(1280, 192, kernel_size=(1, 1), stride=(1, 1), bias=False)\n",
       "      (bn): BatchNorm2d(192, eps=0.001, momentum=0.1, affine=True, track_running_stats=True)\n",
       "    )\n",
       "  )\n",
       "  (Mixed_7c): InceptionE(\n",
       "    (branch1x1): BasicConv2d(\n",
       "      (conv): Conv2d(2048, 320, kernel_size=(1, 1), stride=(1, 1), bias=False)\n",
       "      (bn): BatchNorm2d(320, eps=0.001, momentum=0.1, affine=True, track_running_stats=True)\n",
       "    )\n",
       "    (branch3x3_1): BasicConv2d(\n",
       "      (conv): Conv2d(2048, 384, kernel_size=(1, 1), stride=(1, 1), bias=False)\n",
       "      (bn): BatchNorm2d(384, eps=0.001, momentum=0.1, affine=True, track_running_stats=True)\n",
       "    )\n",
       "    (branch3x3_2a): BasicConv2d(\n",
       "      (conv): Conv2d(384, 384, kernel_size=(1, 3), stride=(1, 1), padding=(0, 1), bias=False)\n",
       "      (bn): BatchNorm2d(384, eps=0.001, momentum=0.1, affine=True, track_running_stats=True)\n",
       "    )\n",
       "    (branch3x3_2b): BasicConv2d(\n",
       "      (conv): Conv2d(384, 384, kernel_size=(3, 1), stride=(1, 1), padding=(1, 0), bias=False)\n",
       "      (bn): BatchNorm2d(384, eps=0.001, momentum=0.1, affine=True, track_running_stats=True)\n",
       "    )\n",
       "    (branch3x3dbl_1): BasicConv2d(\n",
       "      (conv): Conv2d(2048, 448, kernel_size=(1, 1), stride=(1, 1), bias=False)\n",
       "      (bn): BatchNorm2d(448, eps=0.001, momentum=0.1, affine=True, track_running_stats=True)\n",
       "    )\n",
       "    (branch3x3dbl_2): BasicConv2d(\n",
       "      (conv): Conv2d(448, 384, kernel_size=(3, 3), stride=(1, 1), padding=(1, 1), bias=False)\n",
       "      (bn): BatchNorm2d(384, eps=0.001, momentum=0.1, affine=True, track_running_stats=True)\n",
       "    )\n",
       "    (branch3x3dbl_3a): BasicConv2d(\n",
       "      (conv): Conv2d(384, 384, kernel_size=(1, 3), stride=(1, 1), padding=(0, 1), bias=False)\n",
       "      (bn): BatchNorm2d(384, eps=0.001, momentum=0.1, affine=True, track_running_stats=True)\n",
       "    )\n",
       "    (branch3x3dbl_3b): BasicConv2d(\n",
       "      (conv): Conv2d(384, 384, kernel_size=(3, 1), stride=(1, 1), padding=(1, 0), bias=False)\n",
       "      (bn): BatchNorm2d(384, eps=0.001, momentum=0.1, affine=True, track_running_stats=True)\n",
       "    )\n",
       "    (branch_pool): BasicConv2d(\n",
       "      (conv): Conv2d(2048, 192, kernel_size=(1, 1), stride=(1, 1), bias=False)\n",
       "      (bn): BatchNorm2d(192, eps=0.001, momentum=0.1, affine=True, track_running_stats=True)\n",
       "    )\n",
       "  )\n",
       "  (avgpool): AdaptiveAvgPool2d(output_size=(1, 1))\n",
       "  (dropout): Dropout(p=0.5, inplace=False)\n",
       "  (fc): Linear(in_features=2048, out_features=1000, bias=True)\n",
       ")"
      ]
     },
     "execution_count": 3,
     "metadata": {},
     "output_type": "execute_result"
    }
   ],
   "source": [
    "model = models.inception_v3(pretrained = True)\n",
    "model.eval()"
   ]
  },
  {
   "cell_type": "code",
   "execution_count": 4,
   "id": "d7a6acf1",
   "metadata": {
    "ExecuteTime": {
     "end_time": "2021-06-02T14:13:42.998830Z",
     "start_time": "2021-06-02T14:13:42.985841Z"
    }
   },
   "outputs": [],
   "source": [
    "# sample execution (requires torchvision)\n",
    "if process_images == True:\n",
    "\n",
    "    for filename in tqdm(os.listdir(\"./task4_be9ai3nsdj/food/food/\"), desc=\"Processing images...\"):\n",
    "    #     print(filename)\n",
    "        if filename.endswith(\".jpg\"):\n",
    "\n",
    "            input_image = Image.open(\"./task4_be9ai3nsdj/food/food/{}\".format(filename))\n",
    "            preprocess = transforms.Compose([\n",
    "            transforms.Resize(299),\n",
    "            transforms.CenterCrop(299),\n",
    "            transforms.ToTensor(),\n",
    "            transforms.Normalize(mean=[0.485, 0.456, 0.406], std=[0.229, 0.224, 0.225]),\n",
    "            ])\n",
    "            input_tensor = preprocess(input_image)\n",
    "            input_batch = input_tensor.unsqueeze(0) # create a mini-batch as expected by the model\n",
    "\n",
    "    # move the input and model to GPU for speed if available\n",
    "            if torch.cuda.is_available():\n",
    "                input_batch = input_batch.to('cuda')\n",
    "                model.to('cuda')\n",
    "            output = model(input_batch)\n",
    "            # Tensor of shape 1000, with confidence scores over Imagenet's 1000 classes\n",
    "    #         print(output[0])\n",
    "            # The output has unnormalized scores. To get probabilities, you can run a softmax on it.\n",
    "            output_np = output.cpu().detach().numpy()\n",
    "            np.save(\n",
    "            \"inception_model_processed/\" + filename[:-4] + \".npy\", output_np\n",
    "            )\n",
    "\n",
    "else:\n",
    "    pass\n",
    "\n"
   ]
  },
  {
   "cell_type": "code",
   "execution_count": 5,
   "id": "4a0d2a6a",
   "metadata": {
    "ExecuteTime": {
     "end_time": "2021-06-02T14:13:43.958881Z",
     "start_time": "2021-06-02T14:13:43.404850Z"
    }
   },
   "outputs": [
    {
     "name": "stdout",
     "output_type": "stream",
     "text": [
      "[[-4.18649971e-01  7.19060659e-01 -4.18427199e-01 -7.97366142e-01\n",
      "  -2.03729987e-01  1.45820111e-01 -9.56770182e-01  7.24522591e-01\n",
      "   4.77914095e-01 -1.48355067e-01  6.10855296e-02 -9.45982337e-03\n",
      "   7.29270577e-01 -3.94532382e-01  7.17636049e-01  3.16284448e-01\n",
      "  -6.27331063e-02  1.09030414e+00  6.15721464e-01 -1.05012655e-02\n",
      "  -1.99019998e-01 -7.58820832e-01 -4.02504712e-01 -7.06120253e-01\n",
      "   8.56723636e-02 -1.61736384e-01 -8.49104047e-01 -9.63669419e-02\n",
      "  -5.58910310e-01 -5.82792163e-02 -2.44810253e-01  6.39855087e-01\n",
      "   5.83487272e-01  5.18645883e-01 -1.59742534e-01 -1.33142328e+00\n",
      "   4.72966611e-01 -4.29704309e-01  4.82450187e-01 -1.50211048e+00\n",
      "   4.86000717e-01 -4.20308143e-01 -4.08389717e-01  3.37118149e-01\n",
      "  -1.14665031e-01 -4.32252198e-01 -2.57094651e-01 -1.20360970e-01\n",
      "  -4.17623401e-01 -1.48686969e+00 -5.07346690e-01  8.69178772e-01\n",
      "  -9.45716381e-01 -8.80110741e-01  1.76804245e-01  2.25659788e-01\n",
      "   4.56566215e-02 -1.40401334e-01 -9.89916980e-01 -7.17310309e-01\n",
      "  -1.19524002e-02  5.64321578e-01 -1.22503147e-01  8.80861878e-02\n",
      "  -1.80501431e-01 -1.49493182e+00 -2.27474958e-01 -3.25070769e-01\n",
      "  -5.81014514e-01 -1.83962911e-01 -9.02353644e-01 -3.39795023e-01\n",
      "  -5.66225410e-01 -6.72888041e-01 -5.98618746e-01 -3.04214656e-02\n",
      "  -7.94944763e-02 -4.65522945e-01 -8.00407410e-01  2.49146238e-01\n",
      "   2.76365101e-01 -8.17163587e-02 -8.42499018e-01  5.47530353e-01\n",
      "  -2.51457214e-01 -3.18647325e-01  1.74970567e-01  8.46464515e-01\n",
      "   6.66190267e-01  2.43151739e-01  2.29888469e-01 -4.57518578e-01\n",
      "   2.09321976e-02  8.16332042e-01  1.31643629e+00 -8.43545794e-03\n",
      "   4.87899989e-01 -2.96444058e-01 -5.54188490e-01 -5.76539159e-01\n",
      "  -6.08258724e-01 -4.00677741e-01 -1.21472359e-01 -1.45888790e-01\n",
      "  -9.37315077e-02  5.47467351e-01 -2.01539397e-02  9.59995389e-03\n",
      "  -3.25465947e-02  3.27939808e-01 -3.68957818e-02 -9.28842187e-01\n",
      "   5.05056620e-01 -1.13501072e-01  5.97327232e-01  4.66711223e-02\n",
      "  -9.21886802e-01  1.04055440e+00  5.14482260e-01  3.03128064e-01\n",
      "   5.81215739e-01 -1.62189436e+00  8.68852735e-01 -3.30654293e-01\n",
      "  -4.19111475e-02  6.04092062e-01 -2.38605142e+00  8.98134708e-01\n",
      "   3.85371074e-02 -2.76086748e-01  1.45543337e-01 -5.17459393e-01\n",
      "  -6.73378170e-01 -3.41572106e-01 -2.71397531e-01 -3.35156500e-01\n",
      "   1.15600336e+00 -1.01017320e+00 -3.12990367e-01 -3.49181652e-01\n",
      "   3.44025195e-02  5.90130091e-01 -1.52341537e-02  6.50629401e-02\n",
      "   4.20669019e-01 -6.77949667e-01 -6.51576459e-01 -3.93668413e-01\n",
      "  -8.90813351e-01 -5.67364454e-01 -4.53351498e-01 -5.00379503e-02\n",
      "   4.96956617e-01 -4.72242832e-02  3.27887714e-01 -6.66880757e-02\n",
      "  -1.07753873e-01  3.72506469e-01  7.24506378e-01 -7.30296433e-01\n",
      "  -7.13545561e-01  5.78861713e-01  6.05963767e-01  3.37757349e-01\n",
      "   3.91196579e-01 -5.68754196e-01  5.53586125e-01 -7.58285046e-01\n",
      "   3.21095437e-02 -7.97755599e-01  4.93524551e-01 -7.21446335e-01\n",
      "  -1.35791838e-01  6.64457738e-01 -4.76609290e-01 -9.66594040e-01\n",
      "  -1.10981345e+00 -2.42909938e-01 -1.02945518e+00  1.79876149e-01\n",
      "  -1.03619897e+00 -6.70007110e-01 -9.97960418e-02 -6.71108127e-01\n",
      "   3.55197549e-01 -7.42209792e-01 -9.91135538e-01  1.60002187e-01\n",
      "  -1.79181933e-01 -8.14718127e-01  1.89431742e-01 -6.97984457e-01\n",
      "  -1.24465871e+00 -2.17339620e-01 -3.49332899e-01  2.89200336e-01\n",
      "  -1.61911428e-01 -1.10959426e-01 -2.45245755e-01 -2.15196401e-01\n",
      "  -6.44469917e-01 -2.26104975e-01 -6.30262077e-01 -2.59222180e-01\n",
      "  -4.43343431e-01  5.01333714e-01 -1.10998607e+00 -2.59955406e-01\n",
      "   6.28606200e-01 -3.99268955e-01 -2.54571319e-01 -1.15501285e-02\n",
      "  -2.58933842e-01 -3.22880685e-01 -1.44096375e-01 -9.02652800e-01\n",
      "  -3.85957658e-01 -1.07306576e+00 -5.41239381e-01 -4.24769580e-01\n",
      "  -9.90820169e-01 -3.48649740e-01  3.94909233e-01  1.39530897e-01\n",
      "   1.38551265e-01  1.99713022e-01  7.82224417e-01  5.61913073e-01\n",
      "   3.72639954e-01 -6.16694510e-01 -1.43097663e+00 -1.19907789e-01\n",
      "  -8.08134317e-01  1.96848720e-01 -2.10016370e-02  2.89483778e-02\n",
      "  -7.10217416e-01  9.10724282e-01  3.62419814e-01 -1.69893503e-01\n",
      "  -1.06093824e-01 -6.68146133e-01 -1.21065593e+00 -1.07063770e+00\n",
      "   4.47198480e-01 -1.92678571e-01 -1.74172595e-02  5.88287771e-01\n",
      "  -3.34499866e-01  6.52189076e-01 -3.85872304e-01  1.13686234e-01\n",
      "  -1.14809930e-01 -5.14251888e-01  2.20575258e-01 -6.29104376e-02\n",
      "   8.23076665e-01 -3.29136997e-01  6.39146447e-01 -3.39104772e-01\n",
      "   5.22541285e-01 -2.82512277e-01  1.98725134e-01  3.02418977e-01\n",
      "   4.60375100e-01 -7.36429393e-01 -2.02704489e-01 -1.46052808e-01\n",
      "   4.42478120e-01  3.37481886e-01  1.12820089e-01 -3.86734694e-01\n",
      "   2.06392318e-01  4.35622633e-02  9.19275582e-02 -1.40666127e-01\n",
      "  -1.00085855e+00  4.35081601e-01  1.60753861e-01 -2.90231466e-01\n",
      "   4.03748810e-01  4.84058261e-02 -4.66801167e-01 -6.09633625e-01\n",
      "  -1.42230809e-01  1.00247920e+00 -6.34956956e-01 -1.20257688e+00\n",
      "   7.15611696e-01 -1.45328552e-01 -1.86587512e-01 -2.95561433e-01\n",
      "  -3.91910225e-01 -3.40382233e-02 -4.08494592e-01  8.78277123e-01\n",
      "   3.51193696e-01  7.66998351e-01 -2.10755747e-02 -2.14366376e-01\n",
      "  -5.13344646e-01 -1.39394164e-01 -1.18258691e+00 -1.04320669e+00\n",
      "  -2.73292214e-01  2.60696590e-01  8.69634151e-01 -5.16727328e-01\n",
      "  -8.72400850e-02  4.87693012e-01  4.00153577e-01 -2.92402595e-01\n",
      "  -5.88330209e-01 -6.86869323e-01 -2.59090960e-01  5.47818840e-01\n",
      "  -3.87294888e-01  2.09322020e-01 -7.52754331e-01 -2.84063011e-01\n",
      "  -8.14287364e-02  5.54918408e-01  4.48658764e-01  2.94915020e-01\n",
      "  -8.74813795e-01  1.50402457e-01  2.00650141e-01  1.96953237e-01\n",
      "  -1.25215679e-01 -5.49575984e-01  3.69441241e-01  9.56224501e-01\n",
      "  -5.18507659e-02  8.71180296e-01  2.31479242e-01 -4.58665133e-01\n",
      "  -3.77788186e-01 -1.31853729e-01  5.53040266e-01 -6.01321101e-01\n",
      "   3.56727242e-01 -1.59373552e-01 -1.01563907e+00 -2.15692043e-01\n",
      "  -5.85275531e-01 -2.11053714e-01 -1.70484632e-02 -2.31007040e-01\n",
      "   6.67490512e-02 -1.14815545e+00 -1.16450977e+00 -6.01642311e-01\n",
      "  -7.33313859e-01  9.55444515e-01 -3.93774301e-01  8.67771208e-01\n",
      "  -6.00887597e-01 -3.50320756e-01  2.52980113e-01  1.54093027e-01\n",
      "  -8.28140557e-01  2.47710019e-01 -2.63699219e-02 -3.62944692e-01\n",
      "   4.68461484e-01  4.53351945e-01 -2.99733847e-01  9.19534266e-02\n",
      "   2.14805380e-01  2.12062335e+00  1.00197613e-01  5.72555780e-01\n",
      "   3.07067275e-01 -1.14342570e-01 -1.15866971e+00 -2.17385605e-01\n",
      "   5.88509738e-01  3.62318546e-01 -1.44041583e-01 -3.11154485e-01\n",
      "   7.15657771e-01 -1.49302110e-01 -9.28786039e-01 -6.20867312e-01\n",
      "  -1.16108596e-01 -5.75114608e-01 -1.57603180e+00  9.22609940e-02\n",
      "  -4.34040666e-01 -6.94664061e-01  6.90847933e-01 -6.71343386e-01\n",
      "  -3.51144075e-02 -5.22523522e-02 -5.92496514e-01 -8.29781950e-01\n",
      "   4.41905320e-01 -9.10956740e-01  2.22302467e-01 -7.05073953e-01\n",
      "   1.06033392e-01 -1.38279057e+00 -1.34049058e+00 -1.63979828e-01\n",
      "   3.18548441e-01 -5.99614382e-01  1.69140041e-01 -2.00653762e-01\n",
      "  -1.00761235e+00 -1.20089209e+00 -2.98417568e-01 -1.50144863e+00\n",
      "   4.34239531e+00 -8.93389821e-01 -5.62386334e-01 -3.20677161e-01\n",
      "  -7.86608398e-01 -2.86351919e-01  7.66143501e-02  7.73645163e-01\n",
      "  -8.63472581e-01 -9.99047816e-01 -2.52834827e-01  4.27793026e-01\n",
      "  -1.09315693e+00 -1.05049431e+00 -1.57841825e+00  1.53646797e-01\n",
      "   1.95351601e+00  6.41385198e-01 -8.10994565e-01  1.47818983e-01\n",
      "  -8.84615302e-01 -3.89855593e-01  1.28845263e+00  6.71132267e-01\n",
      "  -7.92616248e-01 -1.03653896e+00  5.50794840e-01  5.66199422e-01\n",
      "  -7.69318044e-02 -2.00356054e+00 -3.82998049e-01  7.94639066e-02\n",
      "  -1.28469214e-01 -1.03951430e+00 -5.64917922e-03 -7.59858906e-01\n",
      "   2.37335145e-01 -9.00068939e-01  3.72794479e-01  1.03872396e-01\n",
      "   4.07297462e-01  4.87877131e-01 -1.64591587e+00  6.95242405e-01\n",
      "   6.58257425e-01 -7.43974209e-01 -5.92670202e-01 -1.69216716e+00\n",
      "  -5.78932881e-01  9.42183852e-01 -1.19074419e-01  5.09803200e+00\n",
      "  -1.17430910e-01 -4.88159209e-01 -8.34921718e-01 -1.09273541e+00\n",
      "   5.10503650e-01  1.82104254e+00  1.56340122e+00  7.24953949e-01\n",
      "   1.01344693e+00  1.23031640e+00 -7.73927867e-01 -8.37226272e-01\n",
      "  -1.43589735e-01  1.51212895e+00  9.65029657e-01  3.20139587e-01\n",
      "  -1.45049298e+00 -9.34712172e-01 -1.46469879e+00 -5.34906507e-01\n",
      "  -1.10859454e+00 -1.98770237e+00 -9.92212594e-01 -6.83798671e-01\n",
      "  -6.32878989e-02  4.98100162e-01 -7.34853864e-01  3.41584086e-02\n",
      "   2.03129458e+00  2.47532859e-01 -8.71781230e-01 -3.46863329e-01\n",
      "  -9.67895389e-02 -5.20298004e-01  9.09268022e-01  1.11010957e+00\n",
      "  -8.02989364e-01  2.58924291e-02  1.15354276e+00  1.86268663e+00\n",
      "   2.32652396e-01  1.14484763e+00 -3.28029245e-01  2.77288079e-01\n",
      "  -8.71655762e-01 -5.30800760e-01 -1.07062846e-01 -5.61586857e-01\n",
      "  -1.35372967e-01 -8.52174103e-01  5.28194249e-01 -6.56932592e-03\n",
      "   6.16229415e-01  1.26544917e+00 -1.03954762e-01  3.64600495e-02\n",
      "  -1.34985173e+00  1.77403486e+00  9.65497434e-01  2.23331064e-01\n",
      "   5.60932159e-02 -2.33324468e-01  8.92467797e-01 -3.73874009e-01\n",
      "  -2.33087242e-01  1.67382979e+00 -7.96321332e-02 -6.23704433e-01\n",
      "  -7.47546375e-01  7.23603129e-01 -4.70731586e-01 -2.33703330e-01\n",
      "   3.23974907e-01 -1.09190619e+00 -8.18788409e-01  2.96007156e-01\n",
      "  -9.93444324e-02 -1.78350079e+00 -2.24935561e-01 -7.99771607e-01\n",
      "   2.03553295e+00 -5.83251715e-02 -5.45463562e-02  7.70997107e-02\n",
      "  -2.73305476e-01 -2.95415670e-01  5.97761452e-01  4.41007093e-02\n",
      "   2.66445607e-01  7.82026649e-01  7.69315720e-01 -4.01861727e-01\n",
      "   3.08124006e-01  1.66573495e-01  3.32891643e-01 -1.60425782e+00\n",
      "  -3.28683197e-01  1.79846436e-02 -2.14776993e-02  3.84206623e-01\n",
      "   1.89523458e-01 -2.28886351e-01 -1.12743104e+00 -1.86382622e-01\n",
      "  -1.03391647e+00  7.04990625e-01  9.13359374e-02 -8.55926514e-01\n",
      "  -5.50944149e-01  9.51967716e-01 -2.55243540e-01 -1.40687168e-01\n",
      "  -3.06784153e-01 -1.03721595e+00 -1.23219526e+00 -1.91461533e-01\n",
      "  -4.52223748e-01 -5.42688370e-01 -8.12371373e-01  7.56938994e-01\n",
      "   1.92423058e+00 -3.93459678e-01  6.70647442e-01  2.67848825e+00\n",
      "   1.77787042e+00 -1.09121144e+00 -1.03520751e-02  6.17730141e-01\n",
      "  -1.10380113e+00  2.21258450e+00  1.18860185e-01 -7.36903101e-02\n",
      "   2.49937832e-01  9.34281290e-01  4.84982207e-02  9.97836053e-01\n",
      "   3.74827743e+00 -1.08978963e+00  4.18783307e-01 -4.52554286e-01\n",
      "  -5.73369205e-01  3.48641068e-01  5.39807379e-02  5.82262874e-02\n",
      "  -1.12122524e+00  1.16886981e-01  1.11859769e-01 -6.14076197e-01\n",
      "  -1.22376949e-01 -6.34605408e-01 -6.25889361e-01 -1.55851340e+00\n",
      "  -9.23299938e-02 -5.29398620e-02  7.58645236e-01 -9.36905086e-01\n",
      "  -1.16354740e+00  8.76414895e-01 -5.03011405e-01  1.28602505e+00\n",
      "  -5.82450747e-01 -2.80048907e-01  1.56744945e+00  2.31037319e-01\n",
      "   1.15791887e-01  3.20215058e+00 -4.17264879e-01  4.83529389e-01\n",
      "  -1.68991637e+00  2.11208701e+00 -8.93316388e-01  6.71261787e-01\n",
      "   3.94104451e-01  2.80838609e-01 -6.31552279e-01 -7.46472955e-01\n",
      "  -9.79171753e-01  3.52384672e-02 -1.35877752e+00  6.67796493e-01\n",
      "   1.76361740e+00 -2.78208464e-01 -4.45795894e-01  1.12293172e+00\n",
      "   8.49341094e-01  9.10403490e-01 -9.11227822e-01 -3.83314252e-01\n",
      "  -1.84067392e+00  1.14120877e+00 -4.80094463e-01 -7.23134935e-01\n",
      "  -8.64107609e-02  4.08662587e-01  4.52061236e-01  2.40860128e+00\n",
      "   8.82496983e-02 -1.77903682e-01 -2.08130622e+00 -1.10451424e+00\n",
      "  -1.56733644e+00  2.95887887e-01  3.47280145e+00  5.92667222e-01\n",
      "  -1.32650816e+00 -2.73412824e-01  2.48562634e-01  2.48026848e-03\n",
      "  -2.23376870e-01 -9.78672862e-01  4.25067812e-01  5.91814399e-01\n",
      "  -1.18897825e-01  1.70679182e-01  8.46870959e-01  1.44248605e-01\n",
      "   2.55508232e+00 -3.56012344e-01  4.84717220e-01 -1.54882836e+00\n",
      "  -2.72662342e-02 -9.65703130e-01  3.53259817e-02 -4.47862923e-01\n",
      "  -7.20194727e-02 -1.33928919e+00  1.73426062e-01 -5.18587708e-01\n",
      "   7.12647974e-01 -6.26619577e-01 -5.48725128e-02  2.80479670e-01\n",
      "   8.68499875e-01 -2.97431111e-01 -1.25576866e+00 -1.55502588e-01\n",
      "   7.33983874e-01 -5.76297879e-01 -1.48340508e-01  3.55326653e-01\n",
      "   8.84047091e-01 -2.91694462e-01 -1.44601554e-01  5.17114699e-01\n",
      "  -4.61774856e-01  3.66659498e+00  3.04220772e+00 -1.24759078e+00\n",
      "  -4.03741300e-01 -9.48695242e-02  4.17792290e-01 -6.21691823e-01\n",
      "   1.61053956e-01  1.19690216e+00 -2.68518090e-01  1.41059935e+00\n",
      "  -4.39751446e-02 -4.32786793e-01  4.10906255e-01  3.26530552e+00\n",
      "  -6.66719556e-01  2.98145604e+00  2.37902451e+00 -4.65785384e-01\n",
      "   1.88041914e+00 -9.06341910e-01 -8.09046984e-01  6.89094067e-01\n",
      "  -1.06798279e+00 -3.18914056e-01 -7.66823053e-01  5.66700578e-01\n",
      "   9.44674492e-01 -1.74532592e-01  2.60446215e+00 -2.92422533e-01\n",
      "  -8.89447570e-01 -4.19115007e-01 -9.74973857e-01 -1.24795604e+00\n",
      "  -7.40396738e-01 -3.83100450e-01  1.53035283e-01 -4.31217849e-01\n",
      "  -2.49979109e-01 -3.21015269e-02 -2.38907981e+00  3.84289742e-01\n",
      "  -6.41624153e-01  5.78486174e-03 -1.20252442e+00 -1.08561063e+00\n",
      "  -2.49466300e-02 -5.90643823e-01 -8.17517877e-01 -9.23069477e-01\n",
      "   4.10562873e-01 -2.51658559e-01 -6.78493261e-01 -8.69260542e-03\n",
      "  -4.78878051e-01  8.51010531e-02 -9.38959479e-01  2.31855679e+00\n",
      "  -3.45136762e-01  2.04642463e+00 -6.58469379e-01 -7.59501755e-01\n",
      "   7.69944072e-01  1.33910871e+00 -1.27240527e+00 -4.87120330e-01\n",
      "  -8.66920114e-01  1.38511419e-01 -3.85477453e-01  3.53060067e-02\n",
      "  -1.35996139e+00  1.27562240e-01 -1.30332530e-01  3.18251759e-01\n",
      "   1.16258943e+00 -4.49066758e-01  6.46945536e-01 -2.49461436e+00\n",
      "   1.12787437e+00 -1.04925835e+00  1.26152015e+00  1.67869604e+00\n",
      "   2.29243636e+00 -3.86141330e-01 -1.36164093e+00 -7.13858724e-01\n",
      "  -4.34296221e-01  2.74214149e-01  5.05762160e-01 -6.60927415e-01\n",
      "  -4.71142590e-01 -2.65468746e-01  1.12475306e-01  7.82388568e-01\n",
      "   9.74949479e-01  1.57065660e-01 -2.79223680e-01 -2.05794096e+00\n",
      "  -6.74318373e-01  1.28972113e-01 -2.86910683e-01 -9.03253317e-01\n",
      "  -1.93902254e-02  2.31910086e+00 -1.11717069e+00 -5.34321368e-01\n",
      "   5.05217552e-01 -9.60826874e-01 -1.11297023e+00 -4.93624866e-01\n",
      "  -1.60138100e-01 -1.22489631e+00 -9.21081126e-01 -1.14657521e+00\n",
      "   2.25210086e-01 -7.35816181e-01 -1.08402860e+00  7.14509726e-01\n",
      "   6.22387171e-01 -7.59734690e-01 -3.98523733e-02  3.13606918e-01\n",
      "  -2.06376091e-01  5.89377940e-01 -3.02188993e-01  5.32836497e-01\n",
      "   3.14655542e-01 -9.83022809e-01  5.40785670e-01 -8.79195273e-01\n",
      "   3.74751234e+00 -1.50945497e+00 -1.06123042e+00  6.00465536e-01\n",
      "   6.25575125e-01  2.72978902e+00 -1.45720005e+00 -1.08799314e+00\n",
      "  -1.22901130e+00 -1.46360707e+00  1.38626039e+00  1.59817502e-01\n",
      "   4.47960407e-01 -1.46857071e+00 -1.96037984e+00  2.10525727e+00\n",
      "   7.93083370e-01 -1.45520484e+00  4.05014634e-01  2.27893400e+00\n",
      "  -1.33598852e+00 -5.82629919e-01  3.09678495e-01 -1.11217320e-01\n",
      "   8.19905937e-01 -3.03015262e-01 -6.74546063e-02 -6.63225949e-01\n",
      "  -8.80847991e-01 -8.81011546e-01  8.35675001e-01 -9.19662833e-01\n",
      "  -6.43566489e-01 -3.03694189e-01  1.97604150e-01  1.36706948e-01\n",
      "   1.66313291e+00 -4.42114562e-01 -2.48130485e-01  8.19171518e-02\n",
      "   4.54147935e-01 -3.26906860e-01 -8.75780702e-01  5.82412481e-01\n",
      "  -1.14621067e+00  3.30883116e-01 -3.34552050e-01 -5.44862509e-01\n",
      "   5.21649957e-01 -1.20206125e-01 -2.79421091e-01 -3.86632472e-01\n",
      "  -5.77687263e-01  4.50606585e-01 -4.45473164e-01 -7.91234970e-01\n",
      "  -2.12112248e-01  5.82227349e-01  2.25685284e-01  1.61499977e-01\n",
      "  -2.65029937e-01  8.20903182e-01  2.42309856e+00 -2.13597655e-01\n",
      "  -6.21594012e-01 -2.12526536e+00 -1.02634704e+00 -1.11042738e+00\n",
      "   3.10136676e-01 -8.73872042e-01  1.79370046e+00  1.65388525e+00\n",
      "  -8.73416066e-01 -9.62070972e-02 -8.21315348e-01 -1.66863441e-01\n",
      "  -1.04244983e+00 -8.49911869e-01 -2.73747705e-02  8.12371850e-01\n",
      "   5.52918017e-01 -5.51378250e-01 -6.53893530e-01  3.90746325e-01\n",
      "   6.61441684e-01  3.53561044e-01  5.27360320e-01  8.31101716e-01\n",
      "   1.98410463e+00  4.61672068e+00  2.19669747e+00  8.07452798e-01\n",
      "   6.23161316e-01 -4.35461737e-02  2.28663182e+00 -3.70071173e-01\n",
      "  -2.30696440e-01 -6.45556092e-01 -1.07702665e-01  1.34228051e+00\n",
      "   8.32565784e-01  3.89597237e-01  1.81632161e+00  8.68053615e-01\n",
      "   2.91812181e-01  2.65440845e+00 -8.80654335e-01  2.68497318e-01\n",
      "   1.77317202e+00  1.59732974e+00  1.76762581e+00  1.02341580e+00\n",
      "   3.22188228e-01  8.22409868e-01 -1.78461298e-01  2.07264215e-01\n",
      "  -4.34319258e-01  9.32531297e-01  4.79493856e-01 -1.13218200e+00\n",
      "   6.03295147e-01 -2.44174764e-01  1.18818736e+00 -1.34544659e+00\n",
      "  -3.09502929e-02  2.48037532e-01 -1.71977210e+00 -2.86168694e-01\n",
      "   9.68673229e-01  1.40480375e+00 -1.70091391e-01  2.48651296e-01\n",
      "  -5.85988700e-01 -1.04770541e+00 -3.88561726e-01 -2.06898165e+00\n",
      "   3.29238176e-02 -5.56162119e-01 -2.70667076e-01 -3.99493098e-01\n",
      "  -6.98155165e-02  8.83586481e-02 -1.22891295e+00 -6.75162792e-01\n",
      "  -1.51809037e-01  2.53915578e-01 -1.99368268e-01  3.45400167e+00\n",
      "  -2.39014357e-01 -5.89876473e-02 -4.07072246e-01  2.81584322e-01\n",
      "   1.69256449e-01 -7.61875927e-01  3.25334892e-02  1.69764906e-01\n",
      "  -1.11700013e-01  9.35950577e-01  2.33410239e+00  1.60020947e+00]]\n"
     ]
    }
   ],
   "source": [
    "\n",
    "indices = np.loadtxt(\"./task4_be9ai3nsdj/train_triplets.txt\", dtype=str)\n",
    "images_1 = [None] * indices.shape[0]\n",
    "row = indices[0, :]\n",
    "images_1[0] = np.load(f\"inception_model_processed/{row[0]}.npy\")\n",
    "print(images_1[0])"
   ]
  },
  {
   "cell_type": "code",
   "execution_count": 6,
   "id": "f3a1bf13",
   "metadata": {
    "ExecuteTime": {
     "end_time": "2021-06-02T14:13:45.938881Z",
     "start_time": "2021-06-02T14:13:44.769885Z"
    }
   },
   "outputs": [],
   "source": [
    "if generate_datasets == True:\n",
    "\n",
    "    indices = np.loadtxt(\"./task4_be9ai3nsdj/train_triplets.txt\", dtype=str)\n",
    "\n",
    "    images_1 = [None] * indices.shape[0]\n",
    "    images_2 = [None] * indices.shape[0]\n",
    "    images_3 = [None] * indices.shape[0]\n",
    "\n",
    "    for i in tqdm(range(indices.shape[0])):\n",
    "        row = indices[i, :]\n",
    "        images_1[i] = np.load(f\"inception_model_processed/{row[0]}.npy\")\n",
    "        images_2[i] = np.load(f\"inception_model_processed/{row[1]}.npy\")\n",
    "        images_3[i] = np.load(f\"inception_model_processed/{row[2]}.npy\")\n",
    "\n",
    "    A = np.vstack(images_1)\n",
    "    B = np.vstack(images_2)\n",
    "    C = np.vstack(images_3)\n",
    "\n",
    "    X1 = np.vstack((A, A, B))\n",
    "    X2 = np.vstack((B, C, A))\n",
    "    X3 = np.vstack((C, B, C))\n",
    "\n",
    "    np.save(\"X1_InceptionV3.npy\", X1)\n",
    "    np.save(\"X2_InceptionV3.npy\", X2)\n",
    "    np.save(\"X3_InceptionV3.npy\", X3)\n",
    "\n",
    "X1 = np.load(\"X1_InceptionV3.npy\").astype(np.float32)\n",
    "X2 = np.load(\"X2_InceptionV3.npy\").astype(np.float32)\n",
    "X3 = np.load(\"X3_InceptionV3.npy\").astype(np.float32)\n",
    "\n",
    "dsize = X1.shape[0]\n",
    "y_shape = (int(dsize / 3), 1)\n",
    "\n",
    "Y = np.vstack((np.ones(y_shape), np.zeros(y_shape), np.ones(y_shape))).astype(np.float32)"
   ]
  },
  {
   "cell_type": "code",
   "execution_count": 7,
   "id": "7840ef94",
   "metadata": {
    "ExecuteTime": {
     "end_time": "2021-06-02T14:13:47.123903Z",
     "start_time": "2021-06-02T14:13:46.750891Z"
    }
   },
   "outputs": [],
   "source": [
    "if generate_datasets_test == True:\n",
    "\n",
    "    indices = np.loadtxt(\"./task4_be9ai3nsdj/test_triplets.txt\", dtype=str)\n",
    "\n",
    "    images_1 = [None] * indices.shape[0]\n",
    "    images_2 = [None] * indices.shape[0]\n",
    "    images_3 = [None] * indices.shape[0]\n",
    "\n",
    "    for i in tqdm(range(indices.shape[0])):\n",
    "        row = indices[i, :]\n",
    "        images_1[i] = np.load(f\"inception_model_processed/{row[0]}.npy\")\n",
    "        images_2[i] = np.load(f\"inception_model_processed/{row[1]}.npy\")\n",
    "        images_3[i] = np.load(f\"inception_model_processed/{row[2]}.npy\")\n",
    "\n",
    "    X1_test = np.vstack(images_1)\n",
    "    X2_test = np.vstack(images_2)\n",
    "    X3_test = np.vstack(images_3)\n",
    "\n",
    "    np.save(\"X1_test_InceptionV3.npy\", X1_test)\n",
    "    np.save(\"X2_test_InceptionV3.npy\", X2_test)\n",
    "    np.save(\"X3_test_InceptionV3.npy\", X3_test)\n",
    "\n",
    "X1_test = np.load(\"X1_test_InceptionV3.npy\").astype(np.float32)\n",
    "X2_test = np.load(\"X2_test_InceptionV3.npy\").astype(np.float32)\n",
    "X3_test = np.load(\"X3_test_InceptionV3.npy\").astype(np.float32)"
   ]
  },
  {
   "cell_type": "code",
   "execution_count": 8,
   "id": "e791c377",
   "metadata": {
    "ExecuteTime": {
     "end_time": "2021-06-02T14:13:48.713925Z",
     "start_time": "2021-06-02T14:13:47.950903Z"
    }
   },
   "outputs": [],
   "source": [
    "if X1 is not None:\n",
    "    # If to ensure this cell isn't run twice.\n",
    "    (\n",
    "        X1_train,\n",
    "        X1_validate,\n",
    "        X2_train,\n",
    "        X2_validate,\n",
    "        X3_train,\n",
    "        X3_validate,\n",
    "        Y_train,\n",
    "        Y_validate,\n",
    "    ) = train_test_split(X1, X2, X3, Y, test_size=0.10, random_state=0, shuffle=True)\n",
    "\n",
    "    # And freeing some memory\n",
    "    del X1\n",
    "    X1 = None\n",
    "    del X2\n",
    "    X2 = None\n",
    "    del X3\n",
    "    X3 = None\n"
   ]
  },
  {
   "cell_type": "code",
   "execution_count": 9,
   "id": "652fed4d",
   "metadata": {
    "ExecuteTime": {
     "end_time": "2021-06-02T14:13:58.911140Z",
     "start_time": "2021-06-02T14:13:49.620650Z"
    }
   },
   "outputs": [],
   "source": [
    "if not \"scaler\" in locals():\n",
    "    scaler = StandardScaler()\n",
    "\n",
    "    X1_train, X2_train, X3_train = np.vsplit(\n",
    "        scaler.fit_transform(np.vstack((X1_train, X2_train, X3_train))), 3\n",
    "    )\n",
    "\n",
    "    # Transform the training data\n",
    "    X1_validate = scaler.transform(X1_validate)\n",
    "    X2_validate = scaler.transform(X2_validate)\n",
    "    X3_validate = scaler.transform(X3_validate)\n",
    "\n",
    "    # Transform the testing data\n",
    "    X1_test = scaler.transform(X1_test)\n",
    "    X2_test = scaler.transform(X2_test)\n",
    "    X3_test = scaler.transform(X3_test)\n",
    "\n",
    "\n"
   ]
  },
  {
   "cell_type": "code",
   "execution_count": 10,
   "id": "942a4d1e",
   "metadata": {
    "ExecuteTime": {
     "end_time": "2021-06-02T14:13:59.826144Z",
     "start_time": "2021-06-02T14:13:59.812144Z"
    }
   },
   "outputs": [],
   "source": [
    "device = torch.device(\"cuda\")"
   ]
  },
  {
   "cell_type": "code",
   "execution_count": 11,
   "id": "a016d0a0",
   "metadata": {
    "ExecuteTime": {
     "end_time": "2021-06-02T14:14:00.700140Z",
     "start_time": "2021-06-02T14:14:00.685143Z"
    }
   },
   "outputs": [],
   "source": [
    "class Densenet(torch.nn.Module):\n",
    "\n",
    "    def __init__(self, input_layer,out_features,seed = 10):\n",
    "        self.PW = 500\n",
    "        self.DW = 200\n",
    "        super().__init__()\n",
    "        self.parelleblock= nn.Sequential(nn.Sequential(nn.Linear(in_dim, self.PW),nn.ReLU()),\n",
    "                           nn.Sequential(nn.Linear(self.PW, self.PW),nn.ReLU()),\n",
    "                           nn.Sequential(nn.Linear(self.PW, self.PW),nn.ReLU()))\n",
    "        \n",
    "        \n",
    "        self.DB=nn.Sequential(nn.Sequential(nn.Linear(self.PW*3, self.DW ),nn.ReLU()),\n",
    "                   nn.Sequential(nn.Linear(self.DW , self.DW ),nn.ReLU()),\n",
    "                   nn.Sequential(nn.Linear(self.DW , 1 ),nn.Sigmoid())\n",
    "                              )\n",
    "        # self.net.to(device)\n",
    "        \n",
    "    def forward(self, im1,im2,im3):\n",
    "        u1= self.parelleblock(im1)\n",
    "        u2 = self.parelleblock(im2)\n",
    "        u3 = self.parelleblock(im3)\n",
    "#         print(u1.shape,u2.shape,u3.shape)\n",
    "        cat = torch.cat((u1, u2,u3), dim=1) #keep track of dims\n",
    "#         print(cat.shape)\n",
    "        out = self.DB(cat).to(device)\n",
    "        return out\n",
    "    def predict(self, im1,im2,im3):\n",
    "         return (self.forward(im1,im2,im3))\n",
    "#         return nn.functional.softmax(self.forward(im1,im2,im3),dim=0)\n",
    "# def forward(self, image, data):\n",
    "#         x1 = self.cnn(image)\n",
    "#         x2 = data\n",
    "        \n",
    "#         x = torch.cat((x1, x2), dim=1)\n",
    "#         x = F.relu(self.fc1(x))\n",
    "#         x = self.fc2(x)\n",
    "#         return x"
   ]
  },
  {
   "cell_type": "code",
   "execution_count": 12,
   "id": "0305b6bb",
   "metadata": {
    "ExecuteTime": {
     "end_time": "2021-06-02T14:14:01.590140Z",
     "start_time": "2021-06-02T14:14:01.575142Z"
    }
   },
   "outputs": [],
   "source": [
    "in_dim = X1_train.shape[1]\n",
    "out_dim = Y_train.shape[1]\n",
    "net_instance = Densenet(in_dim,out_dim)"
   ]
  },
  {
   "cell_type": "code",
   "execution_count": 13,
   "id": "289f5d7d",
   "metadata": {
    "ExecuteTime": {
     "end_time": "2021-06-02T14:14:02.461145Z",
     "start_time": "2021-06-02T14:14:02.447142Z"
    }
   },
   "outputs": [
    {
     "data": {
      "text/plain": [
       "1"
      ]
     },
     "execution_count": 13,
     "metadata": {},
     "output_type": "execute_result"
    }
   ],
   "source": [
    "out_dim"
   ]
  },
  {
   "cell_type": "code",
   "execution_count": 14,
   "id": "c3fba130",
   "metadata": {
    "ExecuteTime": {
     "end_time": "2021-06-02T14:14:05.522139Z",
     "start_time": "2021-06-02T14:14:03.383146Z"
    }
   },
   "outputs": [],
   "source": [
    "X1_train_tensor=torch.tensor(X1_train).to(device)\n",
    "X2_train_tensor=torch.tensor(X2_train).to(device)\n",
    "X3_train_tensor=torch.tensor(X3_train).to(device)\n",
    "Y_train_tensor = torch.tensor(Y_train).to(device)\n",
    "train_dataset = torch.utils.data.TensorDataset(X1_train_tensor,X2_train_tensor,X3_train_tensor,\n",
    "                                            Y_train_tensor)\n",
    "train_dataloader = torch.utils.data.DataLoader(train_dataset,batch_size=500)\n"
   ]
  },
  {
   "cell_type": "code",
   "execution_count": 15,
   "id": "842a3506",
   "metadata": {
    "ExecuteTime": {
     "end_time": "2021-06-02T14:14:09.678719Z",
     "start_time": "2021-06-02T14:14:06.818568Z"
    }
   },
   "outputs": [],
   "source": [
    "net_instance.to(device)\n",
    "for batch_x1,batch_x2,batch_x3,batch_y in train_dataloader:\n",
    "    net_instance.forward(batch_x1,batch_x2,batch_x3)"
   ]
  },
  {
   "cell_type": "code",
   "execution_count": 35,
   "id": "dc511ee0",
   "metadata": {
    "ExecuteTime": {
     "end_time": "2021-06-02T14:23:15.393610Z",
     "start_time": "2021-06-02T14:23:15.374621Z"
    }
   },
   "outputs": [],
   "source": [
    "optimizer = optim.Adam(model.parameters(), lr=1e-2)\n",
    "loss_function = nn.BCELoss()\n",
    "scheduler = optim.lr_scheduler.StepLR(optimizer, step_size=10, gamma=0.1)"
   ]
  },
  {
   "cell_type": "code",
   "execution_count": 30,
   "id": "159e52af",
   "metadata": {
    "ExecuteTime": {
     "end_time": "2021-06-02T14:22:02.918531Z",
     "start_time": "2021-06-02T14:22:02.593534Z"
    }
   },
   "outputs": [],
   "source": [
    "X1_validate_tensor=torch.tensor(X1_validate).to(device)\n",
    "X2_validate_tensor=torch.tensor(X2_validate).to(device)\n",
    "X3_validate_tensor=torch.tensor(X3_validate).to(device)\n",
    "Y_validate_tensor = torch.tensor(Y_validate).to(device)\n",
    "validate_dataset = torch.utils.data.TensorDataset(X1_validate_tensor,X2_validate_tensor,X3_validate_tensor,\n",
    "                                            Y_validate_tensor)\n",
    "validate_dataloader = torch.utils.data.DataLoader(validate_dataset,batch_size=500)"
   ]
  },
  {
   "cell_type": "code",
   "execution_count": 31,
   "id": "4bb73ee5",
   "metadata": {
    "ExecuteTime": {
     "end_time": "2021-06-02T14:22:06.008530Z",
     "start_time": "2021-06-02T14:22:05.994532Z"
    }
   },
   "outputs": [
    {
     "data": {
      "text/plain": [
       "tensor([[0.],\n",
       "        [1.],\n",
       "        [1.],\n",
       "        ...,\n",
       "        [0.],\n",
       "        [0.],\n",
       "        [1.]], device='cuda:0')"
      ]
     },
     "execution_count": 31,
     "metadata": {},
     "output_type": "execute_result"
    }
   ],
   "source": [
    "Y_validate_tensor"
   ]
  },
  {
   "cell_type": "code",
   "execution_count": 32,
   "id": "47071297",
   "metadata": {
    "ExecuteTime": {
     "end_time": "2021-06-02T14:22:09.411390Z",
     "start_time": "2021-06-02T14:22:09.015391Z"
    }
   },
   "outputs": [],
   "source": [
    "X1_test_tensor=torch.tensor(X1_test).to(device)\n",
    "X2_test_tensor=torch.tensor(X2_test).to(device)\n",
    "X3_test_tensor=torch.tensor(X3_test).to(device)\n",
    "test_dataset = torch.utils.data.TensorDataset(X1_test_tensor,X2_test_tensor,X3_test_tensor)\n",
    "test_dataloader = torch.utils.data.DataLoader(test_dataset,batch_size=500)"
   ]
  },
  {
   "cell_type": "code",
   "execution_count": 33,
   "id": "6e09a563",
   "metadata": {
    "ExecuteTime": {
     "end_time": "2021-06-02T14:22:12.366391Z",
     "start_time": "2021-06-02T14:22:12.351393Z"
    },
    "code_folding": []
   },
   "outputs": [],
   "source": [
    "# Run the training loop for defined number of epochs\n",
    "def train_network(\n",
    "    model,\n",
    "    optimizer,\n",
    "    scheduler,\n",
    "    training_data_loader,\n",
    "    testing_data_loader,\n",
    "    training_loss_fn,\n",
    "    testing_loss_fn,\n",
    "    num_epochs,\n",
    "):\n",
    "\n",
    "    print(f\"Batch size: {training_data_loader.batch_size}\")\n",
    "\n",
    "    pbar = trange(num_epochs)\n",
    "\n",
    "    training_losses = []\n",
    "    testing_losses = []\n",
    "\n",
    "    for i in pbar:\n",
    "\n",
    "        training_losses_batch = []\n",
    "        for batch_x1,batch_x2,batch_x3,batch_y in training_data_loader:\n",
    "            model.zero_grad()\n",
    "            y_pred = model(batch_x1,batch_x2,batch_x3)\n",
    "            loss = training_loss_fn(y_pred, batch_y)\n",
    "            training_losses_batch.append(loss)\n",
    "            pbar.set_description(f\"loss {loss}\")\n",
    "            loss.backward()\n",
    "#             criterion  = torch.mean(y_pred)\n",
    "#             print(criterion)\n",
    "            optimizer.step()\n",
    "            scheduler.step()\n",
    "        training_losses.append(\n",
    "            torch.mean(torch.stack(training_losses_batch)).detach()\n",
    "        )\n",
    "\n",
    "        testing_losses_batch = []\n",
    "        for test_x1, test_x2,test_x3,test_y in testing_data_loader:\n",
    "            y_pred_test = model( test_x1, test_x2,test_x3)\n",
    "            testing_losses_batch.append(testing_loss_fn(y_pred_test, test_y))\n",
    "\n",
    "        testing_losses.append(\n",
    "            torch.mean(torch.stack(testing_losses_batch)).detach()\n",
    "        )\n",
    "\n",
    "    return (\n",
    "        torch.stack(training_losses).detach().cpu().numpy(),\n",
    "        torch.stack(testing_losses).detach().cpu().numpy(),\n",
    "    )\n"
   ]
  },
  {
   "cell_type": "code",
   "execution_count": 36,
   "id": "cae0a589",
   "metadata": {
    "ExecuteTime": {
     "end_time": "2021-06-02T14:23:26.418831Z",
     "start_time": "2021-06-02T14:23:23.713833Z"
    }
   },
   "outputs": [
    {
     "name": "stderr",
     "output_type": "stream",
     "text": [
      "loss 0.6843823194503784:   0%|                                                                  | 0/50 [00:00<?, ?it/s]"
     ]
    },
    {
     "name": "stdout",
     "output_type": "stream",
     "text": [
      "Batch size: 500\n"
     ]
    },
    {
     "name": "stderr",
     "output_type": "stream",
     "text": [
      "loss 0.6829522848129272:   0%|                                                                  | 0/50 [00:02<?, ?it/s]\n"
     ]
    },
    {
     "ename": "KeyboardInterrupt",
     "evalue": "",
     "output_type": "error",
     "traceback": [
      "\u001b[1;31m---------------------------------------------------------------------------\u001b[0m",
      "\u001b[1;31mKeyboardInterrupt\u001b[0m                         Traceback (most recent call last)",
      "\u001b[1;32m<ipython-input-36-837ad4896532>\u001b[0m in \u001b[0;36m<module>\u001b[1;34m\u001b[0m\n\u001b[1;32m----> 1\u001b[1;33m training_losses, testing_losses = train_network(net_instance,optimizer,scheduler,train_dataloader,\n\u001b[0m\u001b[0;32m      2\u001b[0m                                                 \u001b[0mvalidate_dataloader\u001b[0m\u001b[1;33m,\u001b[0m\u001b[0mloss_function\u001b[0m\u001b[1;33m,\u001b[0m\u001b[1;33m\u001b[0m\u001b[1;33m\u001b[0m\u001b[0m\n\u001b[0;32m      3\u001b[0m                                                 loss_function,50)\n",
      "\u001b[1;32m<ipython-input-33-6de126bc490c>\u001b[0m in \u001b[0;36mtrain_network\u001b[1;34m(model, optimizer, scheduler, training_data_loader, testing_data_loader, training_loss_fn, testing_loss_fn, num_epochs)\u001b[0m\n\u001b[0;32m     21\u001b[0m \u001b[1;33m\u001b[0m\u001b[0m\n\u001b[0;32m     22\u001b[0m         \u001b[0mtraining_losses_batch\u001b[0m \u001b[1;33m=\u001b[0m \u001b[1;33m[\u001b[0m\u001b[1;33m]\u001b[0m\u001b[1;33m\u001b[0m\u001b[1;33m\u001b[0m\u001b[0m\n\u001b[1;32m---> 23\u001b[1;33m         \u001b[1;32mfor\u001b[0m \u001b[0mbatch_x1\u001b[0m\u001b[1;33m,\u001b[0m\u001b[0mbatch_x2\u001b[0m\u001b[1;33m,\u001b[0m\u001b[0mbatch_x3\u001b[0m\u001b[1;33m,\u001b[0m\u001b[0mbatch_y\u001b[0m \u001b[1;32min\u001b[0m \u001b[0mtraining_data_loader\u001b[0m\u001b[1;33m:\u001b[0m\u001b[1;33m\u001b[0m\u001b[1;33m\u001b[0m\u001b[0m\n\u001b[0m\u001b[0;32m     24\u001b[0m             \u001b[0mmodel\u001b[0m\u001b[1;33m.\u001b[0m\u001b[0mzero_grad\u001b[0m\u001b[1;33m(\u001b[0m\u001b[1;33m)\u001b[0m\u001b[1;33m\u001b[0m\u001b[1;33m\u001b[0m\u001b[0m\n\u001b[0;32m     25\u001b[0m             \u001b[0my_pred\u001b[0m \u001b[1;33m=\u001b[0m \u001b[0mmodel\u001b[0m\u001b[1;33m(\u001b[0m\u001b[0mbatch_x1\u001b[0m\u001b[1;33m,\u001b[0m\u001b[0mbatch_x2\u001b[0m\u001b[1;33m,\u001b[0m\u001b[0mbatch_x3\u001b[0m\u001b[1;33m)\u001b[0m\u001b[1;33m\u001b[0m\u001b[1;33m\u001b[0m\u001b[0m\n",
      "\u001b[1;32mA:\\Anaconda\\envs\\torch\\lib\\site-packages\\torch\\utils\\data\\dataloader.py\u001b[0m in \u001b[0;36m__next__\u001b[1;34m(self)\u001b[0m\n\u001b[0;32m    515\u001b[0m             \u001b[1;32mif\u001b[0m \u001b[0mself\u001b[0m\u001b[1;33m.\u001b[0m\u001b[0m_sampler_iter\u001b[0m \u001b[1;32mis\u001b[0m \u001b[1;32mNone\u001b[0m\u001b[1;33m:\u001b[0m\u001b[1;33m\u001b[0m\u001b[1;33m\u001b[0m\u001b[0m\n\u001b[0;32m    516\u001b[0m                 \u001b[0mself\u001b[0m\u001b[1;33m.\u001b[0m\u001b[0m_reset\u001b[0m\u001b[1;33m(\u001b[0m\u001b[1;33m)\u001b[0m\u001b[1;33m\u001b[0m\u001b[1;33m\u001b[0m\u001b[0m\n\u001b[1;32m--> 517\u001b[1;33m             \u001b[0mdata\u001b[0m \u001b[1;33m=\u001b[0m \u001b[0mself\u001b[0m\u001b[1;33m.\u001b[0m\u001b[0m_next_data\u001b[0m\u001b[1;33m(\u001b[0m\u001b[1;33m)\u001b[0m\u001b[1;33m\u001b[0m\u001b[1;33m\u001b[0m\u001b[0m\n\u001b[0m\u001b[0;32m    518\u001b[0m             \u001b[0mself\u001b[0m\u001b[1;33m.\u001b[0m\u001b[0m_num_yielded\u001b[0m \u001b[1;33m+=\u001b[0m \u001b[1;36m1\u001b[0m\u001b[1;33m\u001b[0m\u001b[1;33m\u001b[0m\u001b[0m\n\u001b[0;32m    519\u001b[0m             \u001b[1;32mif\u001b[0m \u001b[0mself\u001b[0m\u001b[1;33m.\u001b[0m\u001b[0m_dataset_kind\u001b[0m \u001b[1;33m==\u001b[0m \u001b[0m_DatasetKind\u001b[0m\u001b[1;33m.\u001b[0m\u001b[0mIterable\u001b[0m \u001b[1;32mand\u001b[0m\u001b[0;31m \u001b[0m\u001b[0;31m\\\u001b[0m\u001b[1;33m\u001b[0m\u001b[1;33m\u001b[0m\u001b[0m\n",
      "\u001b[1;32mA:\\Anaconda\\envs\\torch\\lib\\site-packages\\torch\\utils\\data\\dataloader.py\u001b[0m in \u001b[0;36m_next_data\u001b[1;34m(self)\u001b[0m\n\u001b[0;32m    555\u001b[0m     \u001b[1;32mdef\u001b[0m \u001b[0m_next_data\u001b[0m\u001b[1;33m(\u001b[0m\u001b[0mself\u001b[0m\u001b[1;33m)\u001b[0m\u001b[1;33m:\u001b[0m\u001b[1;33m\u001b[0m\u001b[1;33m\u001b[0m\u001b[0m\n\u001b[0;32m    556\u001b[0m         \u001b[0mindex\u001b[0m \u001b[1;33m=\u001b[0m \u001b[0mself\u001b[0m\u001b[1;33m.\u001b[0m\u001b[0m_next_index\u001b[0m\u001b[1;33m(\u001b[0m\u001b[1;33m)\u001b[0m  \u001b[1;31m# may raise StopIteration\u001b[0m\u001b[1;33m\u001b[0m\u001b[1;33m\u001b[0m\u001b[0m\n\u001b[1;32m--> 557\u001b[1;33m         \u001b[0mdata\u001b[0m \u001b[1;33m=\u001b[0m \u001b[0mself\u001b[0m\u001b[1;33m.\u001b[0m\u001b[0m_dataset_fetcher\u001b[0m\u001b[1;33m.\u001b[0m\u001b[0mfetch\u001b[0m\u001b[1;33m(\u001b[0m\u001b[0mindex\u001b[0m\u001b[1;33m)\u001b[0m  \u001b[1;31m# may raise StopIteration\u001b[0m\u001b[1;33m\u001b[0m\u001b[1;33m\u001b[0m\u001b[0m\n\u001b[0m\u001b[0;32m    558\u001b[0m         \u001b[1;32mif\u001b[0m \u001b[0mself\u001b[0m\u001b[1;33m.\u001b[0m\u001b[0m_pin_memory\u001b[0m\u001b[1;33m:\u001b[0m\u001b[1;33m\u001b[0m\u001b[1;33m\u001b[0m\u001b[0m\n\u001b[0;32m    559\u001b[0m             \u001b[0mdata\u001b[0m \u001b[1;33m=\u001b[0m \u001b[0m_utils\u001b[0m\u001b[1;33m.\u001b[0m\u001b[0mpin_memory\u001b[0m\u001b[1;33m.\u001b[0m\u001b[0mpin_memory\u001b[0m\u001b[1;33m(\u001b[0m\u001b[0mdata\u001b[0m\u001b[1;33m)\u001b[0m\u001b[1;33m\u001b[0m\u001b[1;33m\u001b[0m\u001b[0m\n",
      "\u001b[1;32mA:\\Anaconda\\envs\\torch\\lib\\site-packages\\torch\\utils\\data\\_utils\\fetch.py\u001b[0m in \u001b[0;36mfetch\u001b[1;34m(self, possibly_batched_index)\u001b[0m\n\u001b[0;32m     45\u001b[0m         \u001b[1;32melse\u001b[0m\u001b[1;33m:\u001b[0m\u001b[1;33m\u001b[0m\u001b[1;33m\u001b[0m\u001b[0m\n\u001b[0;32m     46\u001b[0m             \u001b[0mdata\u001b[0m \u001b[1;33m=\u001b[0m \u001b[0mself\u001b[0m\u001b[1;33m.\u001b[0m\u001b[0mdataset\u001b[0m\u001b[1;33m[\u001b[0m\u001b[0mpossibly_batched_index\u001b[0m\u001b[1;33m]\u001b[0m\u001b[1;33m\u001b[0m\u001b[1;33m\u001b[0m\u001b[0m\n\u001b[1;32m---> 47\u001b[1;33m         \u001b[1;32mreturn\u001b[0m \u001b[0mself\u001b[0m\u001b[1;33m.\u001b[0m\u001b[0mcollate_fn\u001b[0m\u001b[1;33m(\u001b[0m\u001b[0mdata\u001b[0m\u001b[1;33m)\u001b[0m\u001b[1;33m\u001b[0m\u001b[1;33m\u001b[0m\u001b[0m\n\u001b[0m",
      "\u001b[1;32mA:\\Anaconda\\envs\\torch\\lib\\site-packages\\torch\\utils\\data\\_utils\\collate.py\u001b[0m in \u001b[0;36mdefault_collate\u001b[1;34m(batch)\u001b[0m\n\u001b[0;32m     81\u001b[0m             \u001b[1;32mraise\u001b[0m \u001b[0mRuntimeError\u001b[0m\u001b[1;33m(\u001b[0m\u001b[1;34m'each element in list of batch should be of equal size'\u001b[0m\u001b[1;33m)\u001b[0m\u001b[1;33m\u001b[0m\u001b[1;33m\u001b[0m\u001b[0m\n\u001b[0;32m     82\u001b[0m         \u001b[0mtransposed\u001b[0m \u001b[1;33m=\u001b[0m \u001b[0mzip\u001b[0m\u001b[1;33m(\u001b[0m\u001b[1;33m*\u001b[0m\u001b[0mbatch\u001b[0m\u001b[1;33m)\u001b[0m\u001b[1;33m\u001b[0m\u001b[1;33m\u001b[0m\u001b[0m\n\u001b[1;32m---> 83\u001b[1;33m         \u001b[1;32mreturn\u001b[0m \u001b[1;33m[\u001b[0m\u001b[0mdefault_collate\u001b[0m\u001b[1;33m(\u001b[0m\u001b[0msamples\u001b[0m\u001b[1;33m)\u001b[0m \u001b[1;32mfor\u001b[0m \u001b[0msamples\u001b[0m \u001b[1;32min\u001b[0m \u001b[0mtransposed\u001b[0m\u001b[1;33m]\u001b[0m\u001b[1;33m\u001b[0m\u001b[1;33m\u001b[0m\u001b[0m\n\u001b[0m\u001b[0;32m     84\u001b[0m \u001b[1;33m\u001b[0m\u001b[0m\n\u001b[0;32m     85\u001b[0m     \u001b[1;32mraise\u001b[0m \u001b[0mTypeError\u001b[0m\u001b[1;33m(\u001b[0m\u001b[0mdefault_collate_err_msg_format\u001b[0m\u001b[1;33m.\u001b[0m\u001b[0mformat\u001b[0m\u001b[1;33m(\u001b[0m\u001b[0melem_type\u001b[0m\u001b[1;33m)\u001b[0m\u001b[1;33m)\u001b[0m\u001b[1;33m\u001b[0m\u001b[1;33m\u001b[0m\u001b[0m\n",
      "\u001b[1;32mA:\\Anaconda\\envs\\torch\\lib\\site-packages\\torch\\utils\\data\\_utils\\collate.py\u001b[0m in \u001b[0;36m<listcomp>\u001b[1;34m(.0)\u001b[0m\n\u001b[0;32m     81\u001b[0m             \u001b[1;32mraise\u001b[0m \u001b[0mRuntimeError\u001b[0m\u001b[1;33m(\u001b[0m\u001b[1;34m'each element in list of batch should be of equal size'\u001b[0m\u001b[1;33m)\u001b[0m\u001b[1;33m\u001b[0m\u001b[1;33m\u001b[0m\u001b[0m\n\u001b[0;32m     82\u001b[0m         \u001b[0mtransposed\u001b[0m \u001b[1;33m=\u001b[0m \u001b[0mzip\u001b[0m\u001b[1;33m(\u001b[0m\u001b[1;33m*\u001b[0m\u001b[0mbatch\u001b[0m\u001b[1;33m)\u001b[0m\u001b[1;33m\u001b[0m\u001b[1;33m\u001b[0m\u001b[0m\n\u001b[1;32m---> 83\u001b[1;33m         \u001b[1;32mreturn\u001b[0m \u001b[1;33m[\u001b[0m\u001b[0mdefault_collate\u001b[0m\u001b[1;33m(\u001b[0m\u001b[0msamples\u001b[0m\u001b[1;33m)\u001b[0m \u001b[1;32mfor\u001b[0m \u001b[0msamples\u001b[0m \u001b[1;32min\u001b[0m \u001b[0mtransposed\u001b[0m\u001b[1;33m]\u001b[0m\u001b[1;33m\u001b[0m\u001b[1;33m\u001b[0m\u001b[0m\n\u001b[0m\u001b[0;32m     84\u001b[0m \u001b[1;33m\u001b[0m\u001b[0m\n\u001b[0;32m     85\u001b[0m     \u001b[1;32mraise\u001b[0m \u001b[0mTypeError\u001b[0m\u001b[1;33m(\u001b[0m\u001b[0mdefault_collate_err_msg_format\u001b[0m\u001b[1;33m.\u001b[0m\u001b[0mformat\u001b[0m\u001b[1;33m(\u001b[0m\u001b[0melem_type\u001b[0m\u001b[1;33m)\u001b[0m\u001b[1;33m)\u001b[0m\u001b[1;33m\u001b[0m\u001b[1;33m\u001b[0m\u001b[0m\n",
      "\u001b[1;32mA:\\Anaconda\\envs\\torch\\lib\\site-packages\\torch\\utils\\data\\_utils\\collate.py\u001b[0m in \u001b[0;36mdefault_collate\u001b[1;34m(batch)\u001b[0m\n\u001b[0;32m     53\u001b[0m             \u001b[0mstorage\u001b[0m \u001b[1;33m=\u001b[0m \u001b[0melem\u001b[0m\u001b[1;33m.\u001b[0m\u001b[0mstorage\u001b[0m\u001b[1;33m(\u001b[0m\u001b[1;33m)\u001b[0m\u001b[1;33m.\u001b[0m\u001b[0m_new_shared\u001b[0m\u001b[1;33m(\u001b[0m\u001b[0mnumel\u001b[0m\u001b[1;33m)\u001b[0m\u001b[1;33m\u001b[0m\u001b[1;33m\u001b[0m\u001b[0m\n\u001b[0;32m     54\u001b[0m             \u001b[0mout\u001b[0m \u001b[1;33m=\u001b[0m \u001b[0melem\u001b[0m\u001b[1;33m.\u001b[0m\u001b[0mnew\u001b[0m\u001b[1;33m(\u001b[0m\u001b[0mstorage\u001b[0m\u001b[1;33m)\u001b[0m\u001b[1;33m\u001b[0m\u001b[1;33m\u001b[0m\u001b[0m\n\u001b[1;32m---> 55\u001b[1;33m         \u001b[1;32mreturn\u001b[0m \u001b[0mtorch\u001b[0m\u001b[1;33m.\u001b[0m\u001b[0mstack\u001b[0m\u001b[1;33m(\u001b[0m\u001b[0mbatch\u001b[0m\u001b[1;33m,\u001b[0m \u001b[1;36m0\u001b[0m\u001b[1;33m,\u001b[0m \u001b[0mout\u001b[0m\u001b[1;33m=\u001b[0m\u001b[0mout\u001b[0m\u001b[1;33m)\u001b[0m\u001b[1;33m\u001b[0m\u001b[1;33m\u001b[0m\u001b[0m\n\u001b[0m\u001b[0;32m     56\u001b[0m     \u001b[1;32melif\u001b[0m \u001b[0melem_type\u001b[0m\u001b[1;33m.\u001b[0m\u001b[0m__module__\u001b[0m \u001b[1;33m==\u001b[0m \u001b[1;34m'numpy'\u001b[0m \u001b[1;32mand\u001b[0m \u001b[0melem_type\u001b[0m\u001b[1;33m.\u001b[0m\u001b[0m__name__\u001b[0m \u001b[1;33m!=\u001b[0m \u001b[1;34m'str_'\u001b[0m\u001b[0;31m \u001b[0m\u001b[0;31m\\\u001b[0m\u001b[1;33m\u001b[0m\u001b[1;33m\u001b[0m\u001b[0m\n\u001b[0;32m     57\u001b[0m             \u001b[1;32mand\u001b[0m \u001b[0melem_type\u001b[0m\u001b[1;33m.\u001b[0m\u001b[0m__name__\u001b[0m \u001b[1;33m!=\u001b[0m \u001b[1;34m'string_'\u001b[0m\u001b[1;33m:\u001b[0m\u001b[1;33m\u001b[0m\u001b[1;33m\u001b[0m\u001b[0m\n",
      "\u001b[1;31mKeyboardInterrupt\u001b[0m: "
     ]
    }
   ],
   "source": [
    "\n",
    "training_losses, testing_losses = train_network(net_instance,optimizer,scheduler,train_dataloader,\n",
    "                                                validate_dataloader,loss_function,\n",
    "                                                loss_function,50)"
   ]
  },
  {
   "cell_type": "code",
   "execution_count": 27,
   "id": "6738be44",
   "metadata": {
    "ExecuteTime": {
     "end_time": "2021-06-02T14:20:52.121829Z",
     "start_time": "2021-06-02T14:20:52.108831Z"
    }
   },
   "outputs": [
    {
     "data": {
      "text/plain": [
       "tensor(0.5684, device='cuda:0')"
      ]
     },
     "execution_count": 27,
     "metadata": {},
     "output_type": "execute_result"
    }
   ],
   "source": []
  },
  {
   "cell_type": "code",
   "execution_count": null,
   "id": "8f232098",
   "metadata": {
    "ExecuteTime": {
     "end_time": "2021-06-02T13:54:03.635665Z",
     "start_time": "2021-06-02T13:49:03.402Z"
    }
   },
   "outputs": [],
   "source": [
    "saved_network = torch.save(net_instance.state_dict(),\"fitted net\")"
   ]
  },
  {
   "cell_type": "code",
   "execution_count": null,
   "id": "a5bc2c3b",
   "metadata": {
    "ExecuteTime": {
     "end_time": "2021-06-02T13:54:03.663661Z",
     "start_time": "2021-06-02T13:49:03.552Z"
    }
   },
   "outputs": [],
   "source": [
    "prediction = []\n",
    "for batch_x1,batch_x2,batch_x3 in test_dataloader:\n",
    "    prediction_temp = net_instance.predict(batch_x1,batch_x2,batch_x3)\n",
    "    prediction_temp = prediction_temp.cpu().detach().numpy()\n",
    "    prediction = np.append(prediction,prediction_temp)\n",
    "\n",
    "prediction_rounded = np.round(prediction)"
   ]
  },
  {
   "cell_type": "code",
   "execution_count": null,
   "id": "ed86081b",
   "metadata": {
    "ExecuteTime": {
     "end_time": "2021-06-02T13:54:03.689669Z",
     "start_time": "2021-06-02T13:49:03.870Z"
    }
   },
   "outputs": [],
   "source": [
    "loaded_model = models.Densenet(\n",
    "    input_size=n_components,\n",
    "    num_layers=n_layers,\n",
    "    width=width,\n",
    "    output_dim=n_output,\n",
    ")"
   ]
  },
  {
   "cell_type": "code",
   "execution_count": 51,
   "id": "d7a410a9",
   "metadata": {
    "ExecuteTime": {
     "end_time": "2021-06-02T13:01:37.097534Z",
     "start_time": "2021-06-02T13:01:36.958992Z"
    }
   },
   "outputs": [],
   "source": [
    "pd.DataFrame(prediction.T).to_csv('prediction.csv', index=False, header=None)"
   ]
  },
  {
   "cell_type": "code",
   "execution_count": null,
   "id": "ca1af92c",
   "metadata": {
    "ExecuteTime": {
     "end_time": "2021-06-02T12:53:04.797963Z",
     "start_time": "2021-06-02T12:52:51.814Z"
    }
   },
   "outputs": [],
   "source": [
    "testing_losses"
   ]
  },
  {
   "cell_type": "code",
   "execution_count": 31,
   "id": "323b3fca",
   "metadata": {
    "ExecuteTime": {
     "end_time": "2021-06-02T13:48:46.456219Z",
     "start_time": "2021-06-02T13:48:46.443220Z"
    }
   },
   "outputs": [],
   "source": [
    "# prediction.max()\n",
    "torch.cuda.empty_cache()"
   ]
  }
 ],
 "metadata": {
  "hide_input": false,
  "kernelspec": {
   "display_name": "Python 3",
   "language": "python",
   "name": "python3"
  },
  "language_info": {
   "codemirror_mode": {
    "name": "ipython",
    "version": 3
   },
   "file_extension": ".py",
   "mimetype": "text/x-python",
   "name": "python",
   "nbconvert_exporter": "python",
   "pygments_lexer": "ipython3",
   "version": "3.9.4"
  },
  "latex_envs": {
   "LaTeX_envs_menu_present": true,
   "autoclose": false,
   "autocomplete": true,
   "bibliofile": "biblio.bib",
   "cite_by": "apalike",
   "current_citInitial": 1,
   "eqLabelWithNumbers": true,
   "eqNumInitial": 1,
   "hotkeys": {
    "equation": "Ctrl-E",
    "itemize": "Ctrl-I"
   },
   "labels_anchors": false,
   "latex_user_defs": false,
   "report_style_numbering": false,
   "user_envs_cfg": false
  },
  "varInspector": {
   "cols": {
    "lenName": 16,
    "lenType": 16,
    "lenVar": 40
   },
   "kernels_config": {
    "python": {
     "delete_cmd_postfix": "",
     "delete_cmd_prefix": "del ",
     "library": "var_list.py",
     "varRefreshCmd": "print(var_dic_list())"
    },
    "r": {
     "delete_cmd_postfix": ") ",
     "delete_cmd_prefix": "rm(",
     "library": "var_list.r",
     "varRefreshCmd": "cat(var_dic_list()) "
    }
   },
   "types_to_exclude": [
    "module",
    "function",
    "builtin_function_or_method",
    "instance",
    "_Feature"
   ],
   "window_display": false
  }
 },
 "nbformat": 4,
 "nbformat_minor": 5
}
