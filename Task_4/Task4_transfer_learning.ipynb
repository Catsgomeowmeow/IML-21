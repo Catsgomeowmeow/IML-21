{
 "cells": [
  {
   "cell_type": "code",
   "execution_count": 1,
   "id": "lasting-digest",
   "metadata": {},
   "outputs": [],
   "source": [
    "import torch \n",
    "from torch.utils.data import  DataLoader,datasets,Subset\n",
    "from torchvision import transforms, datasets\n",
    "from torchvision.models import resnet18\n",
    "from tqdm import tqdm, trange\n",
    "\n",
    "from sklearn.model_selection import train_test_split\n",
    "from sklearn.metrics import accuracy_score\n",
    "\n",
    "import numpy as np\n",
    "import pandas as pd\n",
    "import matplotlib.pyplot as plt "
   ]
  },
  {
   "cell_type": "code",
   "execution_count": 2,
   "id": "extra-sunday",
   "metadata": {},
   "outputs": [
    {
     "data": {
      "text/plain": [
       "True"
      ]
     },
     "execution_count": 2,
     "metadata": {},
     "output_type": "execute_result"
    }
   ],
   "source": [
    "device = torch.device('cuda' if torch.cuda.is_available() else 'cpu')\n",
    "torch.cuda.is_available()"
   ]
  },
  {
   "cell_type": "code",
   "execution_count": 3,
   "id": "danish-funds",
   "metadata": {},
   "outputs": [],
   "source": [
    "triplets_id = pd.read_csv('task4_be9ai3nsdj/train_triplets.txt', header=None, delimiter=' ', dtype=int).to_numpy()\n",
    "test_triplets_id = pd.read_csv('task4_be9ai3nsdj/test_triplets.txt', header=None, delimiter=' ', dtype=int).to_numpy()"
   ]
  },
  {
   "cell_type": "code",
   "execution_count": 4,
   "id": "australian-adjustment",
   "metadata": {},
   "outputs": [],
   "source": [
    "train_id, validate_id = train_test_split(triplets_id, test_size=0.20, random_state=0, shuffle=True)"
   ]
  },
  {
   "cell_type": "code",
   "execution_count": 5,
   "id": "yellow-sugar",
   "metadata": {},
   "outputs": [],
   "source": [
    "transform = transforms.Compose([transforms.Resize(255),\n",
    "                                transforms.CenterCrop(255),\n",
    "                                transforms.ToTensor(),\n",
    "                                transforms.Normalize(mean=[0.485, 0.456, 0.406],\n",
    "                                                     std=[0.229, 0.224, 0.225])])\n",
    "dataset = datasets.ImageFolder('task4_be9ai3nsdj/', transform = transform)"
   ]
  },
  {
   "cell_type": "code",
   "execution_count": 6,
   "id": "ongoing-handling",
   "metadata": {},
   "outputs": [],
   "source": [
    "#dataloader = torch.utils.data.DataLoader(dataset, batch_size=20, shuffle=False)"
   ]
  },
  {
   "cell_type": "code",
   "execution_count": 7,
   "id": "friendly-compiler",
   "metadata": {},
   "outputs": [],
   "source": [
    "import torch.nn as nn\n",
    "import torch.nn.functional as F\n",
    "\n",
    "in_dim = 512 #features.shape[1]\n",
    "out_dim = 1\n",
    "\n",
    "class Net(nn.Module):\n",
    "    def __init__(self):\n",
    "        super().__init__()\n",
    "        self.vision_model = resnet18()#.to(device)\n",
    "        #self.hidden1 = nn.Linear(1000, 64) \n",
    "        #self.hidden2 = nn.Linear(512, 64)\n",
    "        #self.hidden3 = nn.Linear(256, 128)\n",
    "        self.triplet_loss = nn.TripletMarginLoss(margin=0.1, p=1.0, reduction='none')\n",
    "        self.cosine_similarity = nn.CosineSimilarity(dim=1, eps=1e-6)\n",
    "        \n",
    "    def forward(self, x):\n",
    "        x = self.vision_model.forward(x)\n",
    "        x = x.unsqueeze(0)\n",
    "        #x = self.hidden1(x)\n",
    "        \n",
    "        #x = self.hidden2(x)\n",
    "        #x = self.hidden3(x)\n",
    "        x = self.triplet_loss(x[:,0,:], x[:,1,:], x[:,2,:])\n",
    "            #- 2.0*self.cosine_similarity(x[:,0,:] - x[:,2,:], x[:,1,:] - x[:,2,:]) \\\n",
    "            #+ 0.3*self.cosine_similarity(x[:,0,:] - x[:,1,:], x[:,2,:] - x[:,1,:])\n",
    "            #+ 1e-5*torch.tensordot(x[:,0,:] - x[:,1,:], x[:,2,:] - x[:,1,:], dims=2) \\\n",
    "            \n",
    "        \n",
    "        return x\n",
    "    \n",
    "    def predict(self, x):\n",
    "        #x = self.hidden1(x)\n",
    "        #x = self.hidden2(x)\n",
    "        x = self.triplet_loss(x[:,0,:], x[:,1,:], x[:,2,:])\n",
    "        \n",
    "        return x\n",
    "        \n",
    "\n",
    "net = Net()#.to(device)"
   ]
  },
  {
   "cell_type": "code",
   "execution_count": 8,
   "id": "thrown-destruction",
   "metadata": {},
   "outputs": [],
   "source": [
    "import torch.optim as optim\n",
    "optimizer = optim.Adam(net.parameters(), lr=1e-2)"
   ]
  },
  {
   "cell_type": "code",
   "execution_count": 9,
   "id": "flush-spokesman",
   "metadata": {},
   "outputs": [],
   "source": [
    "num_epochs = 1"
   ]
  },
  {
   "cell_type": "code",
   "execution_count": 10,
   "id": "linear-jewel",
   "metadata": {},
   "outputs": [
    {
     "name": "stderr",
     "output_type": "stream",
     "text": [
      "mean tensor([2311.7190], grad_fn=<AddBackward0>): 100%|██████████| 1/1 [00:28<00:00, 28.53s/it]\n"
     ]
    }
   ],
   "source": [
    "i = 0\n",
    "feature_list = []\n",
    "\n",
    "pbar = trange(num_epochs)\n",
    "\n",
    "for i in pbar:\n",
    "    criterion = torch.Tensor([0])#.to(device)\n",
    "    optimizer.zero_grad()\n",
    "\n",
    "    for idx in triplets_id[:10]:\n",
    "        image_triplet = torch.stack((dataset[idx[0]][0],\n",
    "                                     dataset[idx[1]][0],\n",
    "                                     dataset[idx[2]][0]))\n",
    "\n",
    "        #image_triplet = image_triplet#.to(device)\n",
    "        \n",
    "        running_loss = 0.0\n",
    "\n",
    "        # zero the parameter gradients\n",
    "\n",
    "        # forward + backward + optimize\n",
    "        outputs = net.forward(image_triplet)\n",
    "        \n",
    "        criterion += outputs\n",
    "        \n",
    "        del image_triplet\n",
    "    \n",
    "    criterion.backward()\n",
    "    optimizer.step()\n",
    "\n",
    "    pbar.set_description(f\"mean {criterion}\")"
   ]
  },
  {
   "cell_type": "code",
   "execution_count": null,
   "id": "exempt-jumping",
   "metadata": {},
   "outputs": [],
   "source": []
  }
 ],
 "metadata": {
  "kernelspec": {
   "display_name": "Python 3",
   "language": "python",
   "name": "python3"
  },
  "language_info": {
   "codemirror_mode": {
    "name": "ipython",
    "version": 3
   },
   "file_extension": ".py",
   "mimetype": "text/x-python",
   "name": "python",
   "nbconvert_exporter": "python",
   "pygments_lexer": "ipython3",
   "version": "3.7.10"
  }
 },
 "nbformat": 4,
 "nbformat_minor": 5
}
